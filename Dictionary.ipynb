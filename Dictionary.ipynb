{
 "cells": [
  {
   "cell_type": "markdown",
   "metadata": {},
   "source": [
    "# DICTIONARY"
   ]
  },
  {
   "cell_type": "markdown",
   "metadata": {},
   "source": [
    "Dictionaries are used to store data values in key:value pairs. \n",
    "A dictionary is a collection which is ordered*, changeable and do not allow duplicates. \n",
    "Dictionary is a hashed structure of key and value pairs."
   ]
  },
  {
   "cell_type": "code",
   "execution_count": 1,
   "metadata": {},
   "outputs": [
    {
     "data": {
      "text/plain": [
       "dict"
      ]
     },
     "execution_count": 1,
     "metadata": {},
     "output_type": "execute_result"
    }
   ],
   "source": [
    "d={}\n",
    "type(d)"
   ]
  },
  {
   "cell_type": "code",
   "execution_count": 1,
   "metadata": {},
   "outputs": [
    {
     "name": "stdout",
     "output_type": "stream",
     "text": [
      "{'name': 'Abhi', 'class': 2, 'section': 'c', 'rank': 3}\n",
      "{'name': ['Abhi', 'Shyam'], 'class': 2, 'section': 'c', 'rank': 3}\n",
      "{'name': ('Abhi', 'Shyam'), 'class': 2, 'section': 'c', 'rank': 3}\n"
     ]
    }
   ],
   "source": [
    "dict1 = {'name': 'Abhi','class': 2,'section':'c','rank':3}\n",
    "dict2 = {'name': ['Abhi','Shyam'],'class': 2,'section':'c','rank':3}\n",
    "print(dict1) \n",
    "print(dict2)\n",
    "dict3 = {'name': ('Abhi','Shyam'),'class': 2,'section':'c','rank':3}\n",
    "print(dict3)"
   ]
  },
  {
   "cell_type": "code",
   "execution_count": 7,
   "metadata": {},
   "outputs": [
    {
     "name": "stdout",
     "output_type": "stream",
     "text": [
      "Abhi\n",
      "{'name': 'Abhi', 'class': 2, 'section': 'c', 'rank': 5}\n",
      "{'name': 'Abhi', 'class': 2, 'section': 'c', 'rank': 5}\n"
     ]
    }
   ],
   "source": [
    "print(dict1['name'])   # get the values by using key as index\n",
    "dict1['rank']\n",
    "print(dict1)\n",
    "dict1['rank']=5\n",
    "print(dict1)"
   ]
  },
  {
   "cell_type": "code",
   "execution_count": 2,
   "metadata": {},
   "outputs": [
    {
     "name": "stdout",
     "output_type": "stream",
     "text": [
      "{'name': 'Abhi', 'class': 2, 'section': 'c', 'rank': 3, 'school': 'dps'}\n"
     ]
    }
   ],
   "source": [
    "dict1['school']='dps'\n",
    "print(dict1)"
   ]
  },
  {
   "cell_type": "code",
   "execution_count": 3,
   "metadata": {},
   "outputs": [],
   "source": [
    "del dict1['school']"
   ]
  },
  {
   "cell_type": "code",
   "execution_count": 15,
   "metadata": {},
   "outputs": [
    {
     "data": {
      "text/plain": [
       "{}"
      ]
     },
     "execution_count": 15,
     "metadata": {},
     "output_type": "execute_result"
    }
   ],
   "source": [
    "dict1.clear() # clear total dictionary\n",
    "dict1"
   ]
  },
  {
   "cell_type": "code",
   "execution_count": 16,
   "metadata": {},
   "outputs": [
    {
     "ename": "NameError",
     "evalue": "name 'dict1' is not defined",
     "output_type": "error",
     "traceback": [
      "\u001b[1;31m---------------------------------------------------------------------------\u001b[0m",
      "\u001b[1;31mNameError\u001b[0m                                 Traceback (most recent call last)",
      "\u001b[1;32m<ipython-input-16-9499cfb54072>\u001b[0m in \u001b[0;36m<module>\u001b[1;34m\u001b[0m\n\u001b[0;32m      1\u001b[0m \u001b[1;32mdel\u001b[0m \u001b[0mdict1\u001b[0m   \u001b[1;31m# delete total dictionary\u001b[0m\u001b[1;33m\u001b[0m\u001b[1;33m\u001b[0m\u001b[0m\n\u001b[1;32m----> 2\u001b[1;33m \u001b[0mprint\u001b[0m\u001b[1;33m(\u001b[0m\u001b[0mdict1\u001b[0m\u001b[1;33m)\u001b[0m\u001b[1;33m\u001b[0m\u001b[1;33m\u001b[0m\u001b[0m\n\u001b[0m",
      "\u001b[1;31mNameError\u001b[0m: name 'dict1' is not defined"
     ]
    }
   ],
   "source": [
    "del dict1   # delete total dictionary\n",
    "print(dict1)"
   ]
  },
  {
   "cell_type": "code",
   "execution_count": 6,
   "metadata": {},
   "outputs": [
    {
     "name": "stdout",
     "output_type": "stream",
     "text": [
      "None\n",
      "Bobby\n",
      "200yards\n",
      "Name:  Abhi\n"
     ]
    }
   ],
   "source": [
    "'''\n",
    "get() method returns the value of the item with the specified key.\n",
    "dictionary.get(keyname, value)\n",
    "key - key to be searched in the dictionary\n",
    "value\t-Optional. A value to return if the specified key does not exist.\n",
    "Default value is None\n",
    "'''\n",
    "dict1 = {'name': 'Abhi','class': 2,'section':'c','rank':3}\n",
    "print(dict1.get('name1'))\n",
    "print(dict1.get('name1','Bobby'))\n",
    "dict1.get('area')\n",
    "dict1.get('area','200yards')\n",
    "a=dict1.get('area','200yards')\n",
    "print(a)\n",
    "print('Name: ', dict1.get('name'))\n"
   ]
  },
  {
   "cell_type": "code",
   "execution_count": 4,
   "metadata": {},
   "outputs": [
    {
     "data": {
      "text/plain": [
       "{'name': 'Abhi', 'section': 'c', 'rank': 3}"
      ]
     },
     "execution_count": 4,
     "metadata": {},
     "output_type": "execute_result"
    }
   ],
   "source": [
    "# zip() function takes iterables (can be zero or more), \n",
    "#aggregates them in a tuple, and return it.\n",
    "\n",
    "keys = ['name','section','rank']\n",
    "Values = ['Abhi','c',3]\n",
    "a=dict(zip(keys,Values))\n",
    "a"
   ]
  },
  {
   "cell_type": "code",
   "execution_count": 20,
   "metadata": {},
   "outputs": [
    {
     "name": "stdout",
     "output_type": "stream",
     "text": [
      "{1: ['xy'], 2: ['xy'], 3: ['xy']}\n",
      "{'c': [1], 'h': [1], 'a': [1], 'r': [1], 'k': [1]}\n"
     ]
    }
   ],
   "source": [
    "'''\n",
    "fromkeys() method creates a new dictionary from the given \n",
    "sequence of elements with a value provided by the user.\n",
    "'''\n",
    "list=[1,2,3]\n",
    "# dict2 creates with list values as keys and given values are values \n",
    "dict2=dict.fromkeys(list,['xy'])\n",
    "print(dict2)\n",
    "\n",
    "keys = {'c', 'h', 'a', 'k', 'r','a' }\n",
    "value = [1]\n",
    "\n",
    "ins = dict.fromkeys(keys, value)\n",
    "print(ins)"
   ]
  },
  {
   "cell_type": "code",
   "execution_count": 21,
   "metadata": {},
   "outputs": [
    {
     "name": "stdout",
     "output_type": "stream",
     "text": [
      "{'c': [1, 2], 'h': [1, 2], 'a': [1, 2], 'r': [1, 2], 'k': [1, 2]}\n"
     ]
    }
   ],
   "source": [
    "# updating the value\n",
    "value.append(2)\n",
    "print(ins)"
   ]
  },
  {
   "cell_type": "code",
   "execution_count": 22,
   "metadata": {},
   "outputs": [
    {
     "name": "stdout",
     "output_type": "stream",
     "text": [
      "{'xy': ['y', 'z'], 34: ['y', 'z'], 67: ['y', 'z'], 33: ['y', 'z']}\n"
     ]
    }
   ],
   "source": [
    "t1=('xy',34,67,33)\n",
    "dict3=dict.fromkeys(t1,['y','z'])\n",
    "print(dict3)"
   ]
  },
  {
   "cell_type": "code",
   "execution_count": 24,
   "metadata": {},
   "outputs": [
    {
     "name": "stdout",
     "output_type": "stream",
     "text": [
      "{'name': 'ram', 'class': 2, 'section': 'c', 'rank': 3}\n",
      "{'name': 'ram', 'class': 6, 'section': 'c', 'rank': 3}\n",
      "{1: 'DPS', 2: 'DPS', 3: 'DPS', 4: 'DPS'}\n",
      "{1: 'DPS', 2: 'DPS', 3: 'DPS', 4: 'DPS'}\n",
      "{1: {1: 45}, 2: {1: 45}, 3: {1: 45}, 4: {1: 45}}\n"
     ]
    },
    {
     "data": {
      "text/plain": [
       "{1: {1: 45}, 2: {1: 45}, 3: {1: 45}, 4: {1: 45}}"
      ]
     },
     "execution_count": 24,
     "metadata": {},
     "output_type": "execute_result"
    }
   ],
   "source": [
    "##################UPDATE###################\n",
    "dict1 = {'name': 'Abhi','class': 2,'section':'c','rank':3}\n",
    "dict5 = {'name': 'ram'}\n",
    "dict1.update(dict5)\n",
    "print(dict1)\n",
    "\n",
    "dict5 = {'name': 'ram','class': 6}\n",
    "dict1.update(dict5)\n",
    "print(dict1)\n",
    "\n",
    "dict1=dict.fromkeys([1,2,3,4],'DPS')\n",
    "print(dict1)\n",
    "dict2.update(dict1)\n",
    "print(dict2)\n",
    "\n",
    "dict3=dict.fromkeys([1,2,3,4],{1:45})\n",
    "dict2.update(dict3)\n",
    "print(dict3)\n",
    "dict2"
   ]
  },
  {
   "cell_type": "code",
   "execution_count": null,
   "metadata": {},
   "outputs": [],
   "source": []
  }
 ],
 "metadata": {
  "kernelspec": {
   "display_name": "Python 3",
   "language": "python",
   "name": "python3"
  },
  "language_info": {
   "codemirror_mode": {
    "name": "ipython",
    "version": 3
   },
   "file_extension": ".py",
   "mimetype": "text/x-python",
   "name": "python",
   "nbconvert_exporter": "python",
   "pygments_lexer": "ipython3",
   "version": "3.8.8"
  }
 },
 "nbformat": 4,
 "nbformat_minor": 2
}
