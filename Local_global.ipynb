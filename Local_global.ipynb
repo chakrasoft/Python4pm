{
 "cells": [
  {
   "cell_type": "markdown",
   "metadata": {},
   "source": [
    "# Local and Global "
   ]
  },
  {
   "cell_type": "markdown",
   "metadata": {},
   "source": [
    "Local Scope\n",
    "------------------\n",
    "A variable created inside a function belongs to the local scope of that function,\n",
    "and can only be used inside that function.\n",
    "\n",
    "Global Scope\n",
    "-------------------\n",
    "A variable created in the main body of the Python code is a global variable \n",
    "and belongs to the global scope.\n",
    "\n",
    "Global variables are available from within any scope, global and local."
   ]
  },
  {
   "cell_type": "code",
   "execution_count": 18,
   "metadata": {},
   "outputs": [
    {
     "name": "stdout",
     "output_type": "stream",
     "text": [
      "6\n"
     ]
    }
   ],
   "source": [
    "def myfunc():\n",
    "    x=6\n",
    "    print(x)\n",
    "myfunc()"
   ]
  },
  {
   "cell_type": "code",
   "execution_count": 1,
   "metadata": {},
   "outputs": [
    {
     "name": "stdout",
     "output_type": "stream",
     "text": [
      "6\n"
     ]
    },
    {
     "ename": "NameError",
     "evalue": "name 'x' is not defined",
     "output_type": "error",
     "traceback": [
      "\u001b[1;31m---------------------------------------------------------------------------\u001b[0m",
      "\u001b[1;31mNameError\u001b[0m                                 Traceback (most recent call last)",
      "\u001b[1;32m<ipython-input-1-dcb670dcb3ce>\u001b[0m in \u001b[0;36m<module>\u001b[1;34m\u001b[0m\n\u001b[0;32m      5\u001b[0m \u001b[0mmyfunc\u001b[0m\u001b[1;33m(\u001b[0m\u001b[1;33m)\u001b[0m\u001b[1;33m\u001b[0m\u001b[1;33m\u001b[0m\u001b[0m\n\u001b[0;32m      6\u001b[0m \u001b[1;33m\u001b[0m\u001b[0m\n\u001b[1;32m----> 7\u001b[1;33m \u001b[0mprint\u001b[0m\u001b[1;33m(\u001b[0m\u001b[0mx\u001b[0m\u001b[1;33m)\u001b[0m\u001b[1;33m\u001b[0m\u001b[1;33m\u001b[0m\u001b[0m\n\u001b[0m",
      "\u001b[1;31mNameError\u001b[0m: name 'x' is not defined"
     ]
    }
   ],
   "source": [
    "x=5\n",
    "def myfunc():\n",
    "    x=6\n",
    "    print(x)\n",
    "myfunc()\n",
    "\n",
    "print(x)\n"
   ]
  },
  {
   "cell_type": "code",
   "execution_count": 1,
   "metadata": {},
   "outputs": [
    {
     "name": "stdout",
     "output_type": "stream",
     "text": [
      "6\n"
     ]
    },
    {
     "ename": "NameError",
     "evalue": "name 'x' is not defined",
     "output_type": "error",
     "traceback": [
      "\u001b[1;31m---------------------------------------------------------------------------\u001b[0m",
      "\u001b[1;31mNameError\u001b[0m                                 Traceback (most recent call last)",
      "\u001b[1;32m<ipython-input-1-dcb670dcb3ce>\u001b[0m in \u001b[0;36m<module>\u001b[1;34m\u001b[0m\n\u001b[0;32m      5\u001b[0m \u001b[0mmyfunc\u001b[0m\u001b[1;33m(\u001b[0m\u001b[1;33m)\u001b[0m\u001b[1;33m\u001b[0m\u001b[1;33m\u001b[0m\u001b[0m\n\u001b[0;32m      6\u001b[0m \u001b[1;33m\u001b[0m\u001b[0m\n\u001b[1;32m----> 7\u001b[1;33m \u001b[0mprint\u001b[0m\u001b[1;33m(\u001b[0m\u001b[0mx\u001b[0m\u001b[1;33m)\u001b[0m\u001b[1;33m\u001b[0m\u001b[1;33m\u001b[0m\u001b[0m\n\u001b[0m",
      "\u001b[1;31mNameError\u001b[0m: name 'x' is not defined"
     ]
    }
   ],
   "source": [
    "y=5\n",
    "def myfunc():\n",
    "    x=6\n",
    "    print(x)\n",
    "myfunc()\n",
    "\n",
    "print(x)"
   ]
  },
  {
   "cell_type": "code",
   "execution_count": 7,
   "metadata": {},
   "outputs": [
    {
     "name": "stdout",
     "output_type": "stream",
     "text": [
      "6\n",
      "3\n",
      "5\n"
     ]
    }
   ],
   "source": [
    "x=5\n",
    "def myfunc():\n",
    "    x=6\n",
    "    y=3\n",
    "    print(x)\n",
    "    print(y)\n",
    "\n",
    "myfunc()\n",
    "print(x)"
   ]
  },
  {
   "cell_type": "code",
   "execution_count": 2,
   "metadata": {},
   "outputs": [
    {
     "name": "stdout",
     "output_type": "stream",
     "text": [
      "5\n",
      "5\n"
     ]
    }
   ],
   "source": [
    "#if no value inside the function\n",
    "x=5\n",
    "def myfunc():\n",
    "    \n",
    "    print(x)\n",
    "myfunc()\n",
    "print(x)"
   ]
  },
  {
   "cell_type": "code",
   "execution_count": 3,
   "metadata": {},
   "outputs": [
    {
     "name": "stdout",
     "output_type": "stream",
     "text": [
      "6\n",
      "6\n"
     ]
    }
   ],
   "source": [
    "#use global variable \n",
    "x = 5\n",
    "def myfunc():\n",
    "  global x  \n",
    "  x = 6\n",
    "  print(x)\n",
    "\n",
    "myfunc()\n",
    "print(x)"
   ]
  },
  {
   "cell_type": "code",
   "execution_count": 4,
   "metadata": {},
   "outputs": [
    {
     "name": "stdout",
     "output_type": "stream",
     "text": [
      "200\n",
      "8\n"
     ]
    }
   ],
   "source": [
    "#The global keyword makes the variable global.\n",
    "#global keyword if you want to make a change to a global variable inside a function.\n",
    "x = 300\n",
    "def myfunc():\n",
    "  global x  \n",
    "  x = 200\n",
    "  print(x)\n",
    "  x=8\n",
    "myfunc()\n",
    "print(x)"
   ]
  },
  {
   "cell_type": "code",
   "execution_count": 5,
   "metadata": {},
   "outputs": [
    {
     "name": "stdout",
     "output_type": "stream",
     "text": [
      "2423182721424\n",
      "2423182721424\n",
      "local 200\n",
      "20\n"
     ]
    }
   ],
   "source": [
    "#check the address\n",
    "x = 300\n",
    "print(id(x))\n",
    "\n",
    "def myfunc():\n",
    "    x = 200\n",
    "    \n",
    "    a=globals()['x']\n",
    "    print(id(a))\n",
    "    print(\"local\" , x)\n",
    "    \n",
    "    a=globals()['x']=20\n",
    "myfunc()\n",
    "print(x)"
   ]
  },
  {
   "cell_type": "code",
   "execution_count": 27,
   "metadata": {},
   "outputs": [
    {
     "name": "stdout",
     "output_type": "stream",
     "text": [
      "300\n"
     ]
    }
   ],
   "source": [
    "def myfunc():\n",
    "  x = 300\n",
    "  def myinnerfunc():\n",
    "    print(x)\n",
    "  myinnerfunc()\n",
    "myfunc()"
   ]
  },
  {
   "cell_type": "code",
   "execution_count": 28,
   "metadata": {},
   "outputs": [
    {
     "name": "stdout",
     "output_type": "stream",
     "text": [
      "Inside the function local total :  30\n",
      "Outside the function global total :  0\n"
     ]
    }
   ],
   "source": [
    "total = 0; # This is global variable.\n",
    "def sum( arg1, arg2 ):\n",
    "   # Add both the parameters and return them.\"\n",
    "   total = arg1 + arg2; # Here total is local variable.\n",
    "   print(\"Inside the function local total : \", total)\n",
    "   return total;\n",
    "\n",
    "# Now you can call sum function\n",
    "sum( 10, 20 );\n",
    "print(\"Outside the function global total : \", total)"
   ]
  },
  {
   "cell_type": "code",
   "execution_count": 29,
   "metadata": {},
   "outputs": [
    {
     "name": "stdout",
     "output_type": "stream",
     "text": [
      "before function call sum is :  0\n",
      "in function sum :  35\n",
      "after function call sum :  0\n"
     ]
    }
   ],
   "source": [
    "sum = 0\n",
    "def add(a,c,b):\n",
    "    sum = a+b+c\n",
    "    print ('in function sum : ' , sum )\n",
    "    return sum\n",
    "print ('before function call sum is : ' , sum )\n",
    "add(10,20,5)\n",
    "print ('after function call sum : ' , sum )\n"
   ]
  },
  {
   "cell_type": "code",
   "execution_count": 16,
   "metadata": {},
   "outputs": [
    {
     "data": {
      "text/plain": [
       "{'__name__': '__main__',\n",
       " '__doc__': 'Automatically created module for IPython interactive environment',\n",
       " '__package__': None,\n",
       " '__loader__': None,\n",
       " '__spec__': None,\n",
       " '__builtin__': <module 'builtins' (built-in)>,\n",
       " '__builtins__': <module 'builtins' (built-in)>,\n",
       " '_ih': ['',\n",
       "  'def myfunc():\\n    x=6\\n    print(x)',\n",
       "  'def myfunc():\\n    x=6\\nprint(x)',\n",
       "  'def myfunc():\\n    x=6\\nprint(x)',\n",
       "  'def myfunc():\\n    x=6\\n    print(x)\\nprint(x)',\n",
       "  'x=5\\ndef myfunc():\\n    x=6\\n    print(x)\\nprint(x)',\n",
       "  'def myfunc():\\n    x=6\\n    print(x)\\nmyfunc()',\n",
       "  'x=5\\ndef myfunc():\\n    x=6\\n    print(x)\\nmyfunc()\\nprint(x)',\n",
       "  'x=5\\ndef myfunc():\\n    x=6\\n    y=3\\n    print(x)\\n    \\nprint(y)\\nmyfunc()\\nprint(x)',\n",
       "  'x=5\\ndef myfunc():\\n    \\n    print(x)\\nmyfunc()\\nprint(x)',\n",
       "  '#use global variable \\nx = 5\\ndef myfunc():\\n  global x  \\n  x = 6\\n  print(x)\\n\\nmyfunc()\\nprint(x)',\n",
       "  'x = 300\\ndef myfunc():\\n  global x  \\n  x = 200\\n  print(x)\\n  x=8\\nmyfunc()\\nprint(x)',\n",
       "  '#check the address\\nx = 300\\nprint(id(x))\\ndef myfunc():\\n    x = 200\\n    \\n    a=globals()[\\'x\\']\\n    print(id(a))\\n    print(\"local\" , x)\\n    \\n    a=globals()[\\'x\\']=20\\nmyfunc()\\nprint(x)',\n",
       "  'def myfunc():\\n  x = 300\\n  def myinnerfunc():\\n    print(x)\\n  myinnerfunc()\\nmyfunc()',\n",
       "  'total = 0; # This is global variable.\\ndef sum( arg1, arg2 ):\\n   # Add both the parameters and return them.\"\\n   total = arg1 + arg2; # Here total is local variable.\\n   print(\"Inside the function local total : \", total)\\n   return total;\\n\\n# Now you can call sum function\\nsum( 10, 20 );\\nprint(\"Outside the function global total : \", total)',\n",
       "  \"sum = 0\\ndef add(a,c,b):\\n    sum = a+b+c\\n    print ('in function sum : ' , sum )\\n    return sum\\nprint ('before function call sum is : ' , sum )\\nadd(10,20,5)\\nprint ('after function call sum : ' , sum )\",\n",
       "  '#dir(functions)\\nlocals()'],\n",
       " '_oh': {},\n",
       " '_dh': ['C:\\\\Users\\\\Chakra IT\\\\Python_Batch'],\n",
       " 'In': ['',\n",
       "  'def myfunc():\\n    x=6\\n    print(x)',\n",
       "  'def myfunc():\\n    x=6\\nprint(x)',\n",
       "  'def myfunc():\\n    x=6\\nprint(x)',\n",
       "  'def myfunc():\\n    x=6\\n    print(x)\\nprint(x)',\n",
       "  'x=5\\ndef myfunc():\\n    x=6\\n    print(x)\\nprint(x)',\n",
       "  'def myfunc():\\n    x=6\\n    print(x)\\nmyfunc()',\n",
       "  'x=5\\ndef myfunc():\\n    x=6\\n    print(x)\\nmyfunc()\\nprint(x)',\n",
       "  'x=5\\ndef myfunc():\\n    x=6\\n    y=3\\n    print(x)\\n    \\nprint(y)\\nmyfunc()\\nprint(x)',\n",
       "  'x=5\\ndef myfunc():\\n    \\n    print(x)\\nmyfunc()\\nprint(x)',\n",
       "  '#use global variable \\nx = 5\\ndef myfunc():\\n  global x  \\n  x = 6\\n  print(x)\\n\\nmyfunc()\\nprint(x)',\n",
       "  'x = 300\\ndef myfunc():\\n  global x  \\n  x = 200\\n  print(x)\\n  x=8\\nmyfunc()\\nprint(x)',\n",
       "  '#check the address\\nx = 300\\nprint(id(x))\\ndef myfunc():\\n    x = 200\\n    \\n    a=globals()[\\'x\\']\\n    print(id(a))\\n    print(\"local\" , x)\\n    \\n    a=globals()[\\'x\\']=20\\nmyfunc()\\nprint(x)',\n",
       "  'def myfunc():\\n  x = 300\\n  def myinnerfunc():\\n    print(x)\\n  myinnerfunc()\\nmyfunc()',\n",
       "  'total = 0; # This is global variable.\\ndef sum( arg1, arg2 ):\\n   # Add both the parameters and return them.\"\\n   total = arg1 + arg2; # Here total is local variable.\\n   print(\"Inside the function local total : \", total)\\n   return total;\\n\\n# Now you can call sum function\\nsum( 10, 20 );\\nprint(\"Outside the function global total : \", total)',\n",
       "  \"sum = 0\\ndef add(a,c,b):\\n    sum = a+b+c\\n    print ('in function sum : ' , sum )\\n    return sum\\nprint ('before function call sum is : ' , sum )\\nadd(10,20,5)\\nprint ('after function call sum : ' , sum )\",\n",
       "  '#dir(functions)\\nlocals()'],\n",
       " 'Out': {},\n",
       " 'get_ipython': <bound method InteractiveShell.get_ipython of <ipykernel.zmqshell.ZMQInteractiveShell object at 0x000001D794CE7710>>,\n",
       " 'exit': <IPython.core.autocall.ZMQExitAutocall at 0x1d794e4d828>,\n",
       " 'quit': <IPython.core.autocall.ZMQExitAutocall at 0x1d794e4d828>,\n",
       " '_': '',\n",
       " '__': '',\n",
       " '___': '',\n",
       " '__path__': ['C:\\\\Users\\\\Chakra IT\\\\Anaconda3\\\\lib\\\\site-packages\\\\pyforest'],\n",
       " '__cached__': 'C:\\\\Users\\\\Chakra IT\\\\Anaconda3\\\\lib\\\\site-packages\\\\pyforest\\\\__pycache__\\\\__init__.cpython-37.pyc',\n",
       " '_importable': <module 'pyforest._importable' from 'C:\\\\Users\\\\Chakra IT\\\\Anaconda3\\\\lib\\\\site-packages\\\\pyforest\\\\_importable.py'>,\n",
       " 'user_specific_imports': <module 'pyforest.user_specific_imports' from 'C:\\\\Users\\\\Chakra IT\\\\Anaconda3\\\\lib\\\\site-packages\\\\pyforest\\\\user_specific_imports.py'>,\n",
       " '_imports': <module 'pyforest._imports' from 'C:\\\\Users\\\\Chakra IT\\\\Anaconda3\\\\lib\\\\site-packages\\\\pyforest\\\\_imports.py'>,\n",
       " 'LazyImport': pyforest._importable.LazyImport,\n",
       " 'pd': lazy pyforest.LazyImport for 'import pandas as pd',\n",
       " 'np': lazy pyforest.LazyImport for 'import numpy as np',\n",
       " 'dd': lazy pyforest.LazyImport for 'from dask import dataframe as dd',\n",
       " 'SparkContext': lazy pyforest.LazyImport for 'from pyspark import SparkContext',\n",
       " 'load_workbook': lazy pyforest.LazyImport for 'from openpyxl import load_workbook',\n",
       " 'mpl': lazy pyforest.LazyImport for 'import matplotlib as mpl',\n",
       " 'plt': lazy pyforest.LazyImport for 'import matplotlib.pyplot as plt',\n",
       " 'sns': lazy pyforest.LazyImport for 'import seaborn as sns',\n",
       " 'py': lazy pyforest.LazyImport for 'import plotly as py',\n",
       " 'go': lazy pyforest.LazyImport for 'import plotly.graph_objs as go',\n",
       " 'px': lazy pyforest.LazyImport for 'import plotly.express as px',\n",
       " 'dash': lazy pyforest.LazyImport for 'import dash',\n",
       " 'bokeh': lazy pyforest.LazyImport for 'import bokeh',\n",
       " 'alt': lazy pyforest.LazyImport for 'import altair as alt',\n",
       " 'pydot': lazy pyforest.LazyImport for 'import pydot',\n",
       " 'statistics': lazy pyforest.LazyImport for 'import statistics',\n",
       " 'sklearn': lazy pyforest.LazyImport for 'import sklearn',\n",
       " 'OneHotEncoder': lazy pyforest.LazyImport for 'from sklearn.preprocessing import OneHotEncoder',\n",
       " 'TSNE': lazy pyforest.LazyImport for 'from sklearn.manifold import TSNE',\n",
       " 'train_test_split': lazy pyforest.LazyImport for 'from sklearn.model_selection import train_test_split',\n",
       " 'svm': lazy pyforest.LazyImport for 'from sklearn import svm',\n",
       " 'GradientBoostingClassifier': lazy pyforest.LazyImport for 'from sklearn.ensemble import GradientBoostingClassifier',\n",
       " 'GradientBoostingRegressor': lazy pyforest.LazyImport for 'from sklearn.ensemble import GradientBoostingRegressor',\n",
       " 'RandomForestClassifier': lazy pyforest.LazyImport for 'from sklearn.ensemble import RandomForestClassifier',\n",
       " 'RandomForestRegressor': lazy pyforest.LazyImport for 'from sklearn.ensemble import RandomForestRegressor',\n",
       " 'TfidfVectorizer': lazy pyforest.LazyImport for 'from sklearn.feature_extraction.text import TfidfVectorizer',\n",
       " 'tf': lazy pyforest.LazyImport for 'import tensorflow as tf',\n",
       " 'keras': lazy pyforest.LazyImport for 'import keras',\n",
       " 'nltk': lazy pyforest.LazyImport for 'import nltk',\n",
       " 'gensim': lazy pyforest.LazyImport for 'import gensim',\n",
       " 'spacy': lazy pyforest.LazyImport for 'import spacy',\n",
       " 're': lazy pyforest.LazyImport for 'import re',\n",
       " 'sys': lazy pyforest.LazyImport for 'import sys',\n",
       " 'os': lazy pyforest.LazyImport for 'import os',\n",
       " 'glob': lazy pyforest.LazyImport for 'import glob',\n",
       " 'Path': lazy pyforest.LazyImport for 'from pathlib import Path',\n",
       " 'pickle': lazy pyforest.LazyImport for 'import pickle',\n",
       " 'dt': lazy pyforest.LazyImport for 'import datetime as dt',\n",
       " 'tqdm': lazy pyforest.LazyImport for 'import tqdm',\n",
       " 'lazy_imports': <function pyforest._imports.lazy_imports()>,\n",
       " 'active_imports': <function pyforest._imports.active_imports(print_statements=True)>,\n",
       " 'utils': <module 'pyforest.utils' from 'C:\\\\Users\\\\Chakra IT\\\\Anaconda3\\\\lib\\\\site-packages\\\\pyforest\\\\utils.py'>,\n",
       " 'get_user_symbols': <function pyforest.utils.get_user_symbols()>,\n",
       " 'install_extensions': <function pyforest.utils.install_extensions()>,\n",
       " 'install_nbextension': <function pyforest.utils.install_nbextension()>,\n",
       " 'install_labextension': <function pyforest.utils.install_labextension()>,\n",
       " 'user_symbols': {...},\n",
       " 'pyforest': <module 'pyforest' from 'C:\\\\Users\\\\Chakra IT\\\\Anaconda3\\\\lib\\\\site-packages\\\\pyforest\\\\__init__.py'>,\n",
       " '_i': \"sum = 0\\ndef add(a,c,b):\\n    sum = a+b+c\\n    print ('in function sum : ' , sum )\\n    return sum\\nprint ('before function call sum is : ' , sum )\\nadd(10,20,5)\\nprint ('after function call sum : ' , sum )\",\n",
       " '_ii': 'total = 0; # This is global variable.\\ndef sum( arg1, arg2 ):\\n   # Add both the parameters and return them.\"\\n   total = arg1 + arg2; # Here total is local variable.\\n   print(\"Inside the function local total : \", total)\\n   return total;\\n\\n# Now you can call sum function\\nsum( 10, 20 );\\nprint(\"Outside the function global total : \", total)',\n",
       " '_iii': 'def myfunc():\\n  x = 300\\n  def myinnerfunc():\\n    print(x)\\n  myinnerfunc()\\nmyfunc()',\n",
       " '_i1': 'def myfunc():\\n    x=6\\n    print(x)',\n",
       " 'myfunc': <function __main__.myfunc()>,\n",
       " '_i2': 'def myfunc():\\n    x=6\\nprint(x)',\n",
       " '_i3': 'def myfunc():\\n    x=6\\nprint(x)',\n",
       " '_i4': 'def myfunc():\\n    x=6\\n    print(x)\\nprint(x)',\n",
       " '_i5': 'x=5\\ndef myfunc():\\n    x=6\\n    print(x)\\nprint(x)',\n",
       " 'x': 20,\n",
       " '_i6': 'def myfunc():\\n    x=6\\n    print(x)\\nmyfunc()',\n",
       " '_i7': 'x=5\\ndef myfunc():\\n    x=6\\n    print(x)\\nmyfunc()\\nprint(x)',\n",
       " '_i8': 'x=5\\ndef myfunc():\\n    x=6\\n    y=3\\n    print(x)\\n    \\nprint(y)\\nmyfunc()\\nprint(x)',\n",
       " '_i9': 'x=5\\ndef myfunc():\\n    \\n    print(x)\\nmyfunc()\\nprint(x)',\n",
       " '_i10': '#use global variable \\nx = 5\\ndef myfunc():\\n  global x  \\n  x = 6\\n  print(x)\\n\\nmyfunc()\\nprint(x)',\n",
       " '_i11': 'x = 300\\ndef myfunc():\\n  global x  \\n  x = 200\\n  print(x)\\n  x=8\\nmyfunc()\\nprint(x)',\n",
       " '_i12': '#check the address\\nx = 300\\nprint(id(x))\\ndef myfunc():\\n    x = 200\\n    \\n    a=globals()[\\'x\\']\\n    print(id(a))\\n    print(\"local\" , x)\\n    \\n    a=globals()[\\'x\\']=20\\nmyfunc()\\nprint(x)',\n",
       " '_i13': 'def myfunc():\\n  x = 300\\n  def myinnerfunc():\\n    print(x)\\n  myinnerfunc()\\nmyfunc()',\n",
       " '_i14': 'total = 0; # This is global variable.\\ndef sum( arg1, arg2 ):\\n   # Add both the parameters and return them.\"\\n   total = arg1 + arg2; # Here total is local variable.\\n   print(\"Inside the function local total : \", total)\\n   return total;\\n\\n# Now you can call sum function\\nsum( 10, 20 );\\nprint(\"Outside the function global total : \", total)',\n",
       " 'total': 0,\n",
       " 'sum': 0,\n",
       " '_i15': \"sum = 0\\ndef add(a,c,b):\\n    sum = a+b+c\\n    print ('in function sum : ' , sum )\\n    return sum\\nprint ('before function call sum is : ' , sum )\\nadd(10,20,5)\\nprint ('after function call sum : ' , sum )\",\n",
       " 'add': <function __main__.add(a, c, b)>,\n",
       " '_i16': '#dir(functions)\\nlocals()'}"
      ]
     },
     "execution_count": 16,
     "metadata": {},
     "output_type": "execute_result"
    }
   ],
   "source": [
    "#dir(functions)\n",
    "locals()\n"
   ]
  },
  {
   "cell_type": "code",
   "execution_count": 17,
   "metadata": {},
   "outputs": [
    {
     "data": {
      "text/plain": [
       "{'__name__': '__main__',\n",
       " '__doc__': 'Automatically created module for IPython interactive environment',\n",
       " '__package__': None,\n",
       " '__loader__': None,\n",
       " '__spec__': None,\n",
       " '__builtin__': <module 'builtins' (built-in)>,\n",
       " '__builtins__': <module 'builtins' (built-in)>,\n",
       " '_ih': ['',\n",
       "  'def myfunc():\\n    x=6\\n    print(x)',\n",
       "  'def myfunc():\\n    x=6\\nprint(x)',\n",
       "  'def myfunc():\\n    x=6\\nprint(x)',\n",
       "  'def myfunc():\\n    x=6\\n    print(x)\\nprint(x)',\n",
       "  'x=5\\ndef myfunc():\\n    x=6\\n    print(x)\\nprint(x)',\n",
       "  'def myfunc():\\n    x=6\\n    print(x)\\nmyfunc()',\n",
       "  'x=5\\ndef myfunc():\\n    x=6\\n    print(x)\\nmyfunc()\\nprint(x)',\n",
       "  'x=5\\ndef myfunc():\\n    x=6\\n    y=3\\n    print(x)\\n    \\nprint(y)\\nmyfunc()\\nprint(x)',\n",
       "  'x=5\\ndef myfunc():\\n    \\n    print(x)\\nmyfunc()\\nprint(x)',\n",
       "  '#use global variable \\nx = 5\\ndef myfunc():\\n  global x  \\n  x = 6\\n  print(x)\\n\\nmyfunc()\\nprint(x)',\n",
       "  'x = 300\\ndef myfunc():\\n  global x  \\n  x = 200\\n  print(x)\\n  x=8\\nmyfunc()\\nprint(x)',\n",
       "  '#check the address\\nx = 300\\nprint(id(x))\\ndef myfunc():\\n    x = 200\\n    \\n    a=globals()[\\'x\\']\\n    print(id(a))\\n    print(\"local\" , x)\\n    \\n    a=globals()[\\'x\\']=20\\nmyfunc()\\nprint(x)',\n",
       "  'def myfunc():\\n  x = 300\\n  def myinnerfunc():\\n    print(x)\\n  myinnerfunc()\\nmyfunc()',\n",
       "  'total = 0; # This is global variable.\\ndef sum( arg1, arg2 ):\\n   # Add both the parameters and return them.\"\\n   total = arg1 + arg2; # Here total is local variable.\\n   print(\"Inside the function local total : \", total)\\n   return total;\\n\\n# Now you can call sum function\\nsum( 10, 20 );\\nprint(\"Outside the function global total : \", total)',\n",
       "  \"sum = 0\\ndef add(a,c,b):\\n    sum = a+b+c\\n    print ('in function sum : ' , sum )\\n    return sum\\nprint ('before function call sum is : ' , sum )\\nadd(10,20,5)\\nprint ('after function call sum : ' , sum )\",\n",
       "  '#dir(functions)\\nlocals()',\n",
       "  'globals()'],\n",
       " '_oh': {16: {...}},\n",
       " '_dh': ['C:\\\\Users\\\\Chakra IT\\\\Python_Batch'],\n",
       " 'In': ['',\n",
       "  'def myfunc():\\n    x=6\\n    print(x)',\n",
       "  'def myfunc():\\n    x=6\\nprint(x)',\n",
       "  'def myfunc():\\n    x=6\\nprint(x)',\n",
       "  'def myfunc():\\n    x=6\\n    print(x)\\nprint(x)',\n",
       "  'x=5\\ndef myfunc():\\n    x=6\\n    print(x)\\nprint(x)',\n",
       "  'def myfunc():\\n    x=6\\n    print(x)\\nmyfunc()',\n",
       "  'x=5\\ndef myfunc():\\n    x=6\\n    print(x)\\nmyfunc()\\nprint(x)',\n",
       "  'x=5\\ndef myfunc():\\n    x=6\\n    y=3\\n    print(x)\\n    \\nprint(y)\\nmyfunc()\\nprint(x)',\n",
       "  'x=5\\ndef myfunc():\\n    \\n    print(x)\\nmyfunc()\\nprint(x)',\n",
       "  '#use global variable \\nx = 5\\ndef myfunc():\\n  global x  \\n  x = 6\\n  print(x)\\n\\nmyfunc()\\nprint(x)',\n",
       "  'x = 300\\ndef myfunc():\\n  global x  \\n  x = 200\\n  print(x)\\n  x=8\\nmyfunc()\\nprint(x)',\n",
       "  '#check the address\\nx = 300\\nprint(id(x))\\ndef myfunc():\\n    x = 200\\n    \\n    a=globals()[\\'x\\']\\n    print(id(a))\\n    print(\"local\" , x)\\n    \\n    a=globals()[\\'x\\']=20\\nmyfunc()\\nprint(x)',\n",
       "  'def myfunc():\\n  x = 300\\n  def myinnerfunc():\\n    print(x)\\n  myinnerfunc()\\nmyfunc()',\n",
       "  'total = 0; # This is global variable.\\ndef sum( arg1, arg2 ):\\n   # Add both the parameters and return them.\"\\n   total = arg1 + arg2; # Here total is local variable.\\n   print(\"Inside the function local total : \", total)\\n   return total;\\n\\n# Now you can call sum function\\nsum( 10, 20 );\\nprint(\"Outside the function global total : \", total)',\n",
       "  \"sum = 0\\ndef add(a,c,b):\\n    sum = a+b+c\\n    print ('in function sum : ' , sum )\\n    return sum\\nprint ('before function call sum is : ' , sum )\\nadd(10,20,5)\\nprint ('after function call sum : ' , sum )\",\n",
       "  '#dir(functions)\\nlocals()',\n",
       "  'globals()'],\n",
       " 'Out': {16: {...}},\n",
       " 'get_ipython': <bound method InteractiveShell.get_ipython of <ipykernel.zmqshell.ZMQInteractiveShell object at 0x000001D794CE7710>>,\n",
       " 'exit': <IPython.core.autocall.ZMQExitAutocall at 0x1d794e4d828>,\n",
       " 'quit': <IPython.core.autocall.ZMQExitAutocall at 0x1d794e4d828>,\n",
       " '_': {...},\n",
       " '__': '',\n",
       " '___': '',\n",
       " '__path__': ['C:\\\\Users\\\\Chakra IT\\\\Anaconda3\\\\lib\\\\site-packages\\\\pyforest'],\n",
       " '__cached__': 'C:\\\\Users\\\\Chakra IT\\\\Anaconda3\\\\lib\\\\site-packages\\\\pyforest\\\\__pycache__\\\\__init__.cpython-37.pyc',\n",
       " '_importable': <module 'pyforest._importable' from 'C:\\\\Users\\\\Chakra IT\\\\Anaconda3\\\\lib\\\\site-packages\\\\pyforest\\\\_importable.py'>,\n",
       " 'user_specific_imports': <module 'pyforest.user_specific_imports' from 'C:\\\\Users\\\\Chakra IT\\\\Anaconda3\\\\lib\\\\site-packages\\\\pyforest\\\\user_specific_imports.py'>,\n",
       " '_imports': <module 'pyforest._imports' from 'C:\\\\Users\\\\Chakra IT\\\\Anaconda3\\\\lib\\\\site-packages\\\\pyforest\\\\_imports.py'>,\n",
       " 'LazyImport': pyforest._importable.LazyImport,\n",
       " 'pd': lazy pyforest.LazyImport for 'import pandas as pd',\n",
       " 'np': lazy pyforest.LazyImport for 'import numpy as np',\n",
       " 'dd': lazy pyforest.LazyImport for 'from dask import dataframe as dd',\n",
       " 'SparkContext': lazy pyforest.LazyImport for 'from pyspark import SparkContext',\n",
       " 'load_workbook': lazy pyforest.LazyImport for 'from openpyxl import load_workbook',\n",
       " 'mpl': lazy pyforest.LazyImport for 'import matplotlib as mpl',\n",
       " 'plt': lazy pyforest.LazyImport for 'import matplotlib.pyplot as plt',\n",
       " 'sns': lazy pyforest.LazyImport for 'import seaborn as sns',\n",
       " 'py': lazy pyforest.LazyImport for 'import plotly as py',\n",
       " 'go': lazy pyforest.LazyImport for 'import plotly.graph_objs as go',\n",
       " 'px': lazy pyforest.LazyImport for 'import plotly.express as px',\n",
       " 'dash': lazy pyforest.LazyImport for 'import dash',\n",
       " 'bokeh': lazy pyforest.LazyImport for 'import bokeh',\n",
       " 'alt': lazy pyforest.LazyImport for 'import altair as alt',\n",
       " 'pydot': lazy pyforest.LazyImport for 'import pydot',\n",
       " 'statistics': lazy pyforest.LazyImport for 'import statistics',\n",
       " 'sklearn': lazy pyforest.LazyImport for 'import sklearn',\n",
       " 'OneHotEncoder': lazy pyforest.LazyImport for 'from sklearn.preprocessing import OneHotEncoder',\n",
       " 'TSNE': lazy pyforest.LazyImport for 'from sklearn.manifold import TSNE',\n",
       " 'train_test_split': lazy pyforest.LazyImport for 'from sklearn.model_selection import train_test_split',\n",
       " 'svm': lazy pyforest.LazyImport for 'from sklearn import svm',\n",
       " 'GradientBoostingClassifier': lazy pyforest.LazyImport for 'from sklearn.ensemble import GradientBoostingClassifier',\n",
       " 'GradientBoostingRegressor': lazy pyforest.LazyImport for 'from sklearn.ensemble import GradientBoostingRegressor',\n",
       " 'RandomForestClassifier': lazy pyforest.LazyImport for 'from sklearn.ensemble import RandomForestClassifier',\n",
       " 'RandomForestRegressor': lazy pyforest.LazyImport for 'from sklearn.ensemble import RandomForestRegressor',\n",
       " 'TfidfVectorizer': lazy pyforest.LazyImport for 'from sklearn.feature_extraction.text import TfidfVectorizer',\n",
       " 'tf': lazy pyforest.LazyImport for 'import tensorflow as tf',\n",
       " 'keras': lazy pyforest.LazyImport for 'import keras',\n",
       " 'nltk': lazy pyforest.LazyImport for 'import nltk',\n",
       " 'gensim': lazy pyforest.LazyImport for 'import gensim',\n",
       " 'spacy': lazy pyforest.LazyImport for 'import spacy',\n",
       " 're': lazy pyforest.LazyImport for 'import re',\n",
       " 'sys': lazy pyforest.LazyImport for 'import sys',\n",
       " 'os': lazy pyforest.LazyImport for 'import os',\n",
       " 'glob': lazy pyforest.LazyImport for 'import glob',\n",
       " 'Path': lazy pyforest.LazyImport for 'from pathlib import Path',\n",
       " 'pickle': lazy pyforest.LazyImport for 'import pickle',\n",
       " 'dt': lazy pyforest.LazyImport for 'import datetime as dt',\n",
       " 'tqdm': lazy pyforest.LazyImport for 'import tqdm',\n",
       " 'lazy_imports': <function pyforest._imports.lazy_imports()>,\n",
       " 'active_imports': <function pyforest._imports.active_imports(print_statements=True)>,\n",
       " 'utils': <module 'pyforest.utils' from 'C:\\\\Users\\\\Chakra IT\\\\Anaconda3\\\\lib\\\\site-packages\\\\pyforest\\\\utils.py'>,\n",
       " 'get_user_symbols': <function pyforest.utils.get_user_symbols()>,\n",
       " 'install_extensions': <function pyforest.utils.install_extensions()>,\n",
       " 'install_nbextension': <function pyforest.utils.install_nbextension()>,\n",
       " 'install_labextension': <function pyforest.utils.install_labextension()>,\n",
       " 'user_symbols': {...},\n",
       " 'pyforest': <module 'pyforest' from 'C:\\\\Users\\\\Chakra IT\\\\Anaconda3\\\\lib\\\\site-packages\\\\pyforest\\\\__init__.py'>,\n",
       " '_i': '#dir(functions)\\nlocals()',\n",
       " '_ii': \"sum = 0\\ndef add(a,c,b):\\n    sum = a+b+c\\n    print ('in function sum : ' , sum )\\n    return sum\\nprint ('before function call sum is : ' , sum )\\nadd(10,20,5)\\nprint ('after function call sum : ' , sum )\",\n",
       " '_iii': 'total = 0; # This is global variable.\\ndef sum( arg1, arg2 ):\\n   # Add both the parameters and return them.\"\\n   total = arg1 + arg2; # Here total is local variable.\\n   print(\"Inside the function local total : \", total)\\n   return total;\\n\\n# Now you can call sum function\\nsum( 10, 20 );\\nprint(\"Outside the function global total : \", total)',\n",
       " '_i1': 'def myfunc():\\n    x=6\\n    print(x)',\n",
       " 'myfunc': <function __main__.myfunc()>,\n",
       " '_i2': 'def myfunc():\\n    x=6\\nprint(x)',\n",
       " '_i3': 'def myfunc():\\n    x=6\\nprint(x)',\n",
       " '_i4': 'def myfunc():\\n    x=6\\n    print(x)\\nprint(x)',\n",
       " '_i5': 'x=5\\ndef myfunc():\\n    x=6\\n    print(x)\\nprint(x)',\n",
       " 'x': 20,\n",
       " '_i6': 'def myfunc():\\n    x=6\\n    print(x)\\nmyfunc()',\n",
       " '_i7': 'x=5\\ndef myfunc():\\n    x=6\\n    print(x)\\nmyfunc()\\nprint(x)',\n",
       " '_i8': 'x=5\\ndef myfunc():\\n    x=6\\n    y=3\\n    print(x)\\n    \\nprint(y)\\nmyfunc()\\nprint(x)',\n",
       " '_i9': 'x=5\\ndef myfunc():\\n    \\n    print(x)\\nmyfunc()\\nprint(x)',\n",
       " '_i10': '#use global variable \\nx = 5\\ndef myfunc():\\n  global x  \\n  x = 6\\n  print(x)\\n\\nmyfunc()\\nprint(x)',\n",
       " '_i11': 'x = 300\\ndef myfunc():\\n  global x  \\n  x = 200\\n  print(x)\\n  x=8\\nmyfunc()\\nprint(x)',\n",
       " '_i12': '#check the address\\nx = 300\\nprint(id(x))\\ndef myfunc():\\n    x = 200\\n    \\n    a=globals()[\\'x\\']\\n    print(id(a))\\n    print(\"local\" , x)\\n    \\n    a=globals()[\\'x\\']=20\\nmyfunc()\\nprint(x)',\n",
       " '_i13': 'def myfunc():\\n  x = 300\\n  def myinnerfunc():\\n    print(x)\\n  myinnerfunc()\\nmyfunc()',\n",
       " '_i14': 'total = 0; # This is global variable.\\ndef sum( arg1, arg2 ):\\n   # Add both the parameters and return them.\"\\n   total = arg1 + arg2; # Here total is local variable.\\n   print(\"Inside the function local total : \", total)\\n   return total;\\n\\n# Now you can call sum function\\nsum( 10, 20 );\\nprint(\"Outside the function global total : \", total)',\n",
       " 'total': 0,\n",
       " 'sum': 0,\n",
       " '_i15': \"sum = 0\\ndef add(a,c,b):\\n    sum = a+b+c\\n    print ('in function sum : ' , sum )\\n    return sum\\nprint ('before function call sum is : ' , sum )\\nadd(10,20,5)\\nprint ('after function call sum : ' , sum )\",\n",
       " 'add': <function __main__.add(a, c, b)>,\n",
       " '_i16': '#dir(functions)\\nlocals()',\n",
       " '_16': {...},\n",
       " '_i17': 'globals()'}"
      ]
     },
     "execution_count": 17,
     "metadata": {},
     "output_type": "execute_result"
    }
   ],
   "source": [
    "globals()"
   ]
  },
  {
   "cell_type": "code",
   "execution_count": null,
   "metadata": {},
   "outputs": [],
   "source": []
  }
 ],
 "metadata": {
  "kernelspec": {
   "display_name": "Python 3",
   "language": "python",
   "name": "python3"
  },
  "language_info": {
   "codemirror_mode": {
    "name": "ipython",
    "version": 3
   },
   "file_extension": ".py",
   "mimetype": "text/x-python",
   "name": "python",
   "nbconvert_exporter": "python",
   "pygments_lexer": "ipython3",
   "version": "3.8.8"
  }
 },
 "nbformat": 4,
 "nbformat_minor": 2
}
