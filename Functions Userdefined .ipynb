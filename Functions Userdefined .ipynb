{
 "cells": [
  {
   "cell_type": "markdown",
   "metadata": {},
   "source": [
    "# Functions"
   ]
  },
  {
   "cell_type": "markdown",
   "metadata": {},
   "source": [
    "Function is a block of organized, reusable code that is used to perform a single, related action. Functionsprovide better modularity for your application and a high degree of code reusing. \n",
    "\n",
    "Function blocks begin with the keyword def followed by the function name and parentheses ( ( ) ).\n",
    "Any input parameters or arguments should be placed within these parentheses. You can also define parameters inside these parentheses.\n",
    "\n",
    "The first statement of a function can be an optional statement - the documentation string of the function or docstring.\n",
    "\n",
    "The code block within every function starts with a colon (:) and is indented.\n",
    "\n",
    "The statement return [expression] exits a function, optionally passing back an expression to the caller. A return statement with no arguments is the same as return None."
   ]
  },
  {
   "cell_type": "code",
   "execution_count": 1,
   "metadata": {},
   "outputs": [],
   "source": [
    "def test():\n",
    "    print('Hello')\n",
    "\n"
   ]
  },
  {
   "cell_type": "code",
   "execution_count": 2,
   "metadata": {},
   "outputs": [
    {
     "name": "stdout",
     "output_type": "stream",
     "text": [
      "Hello\n"
     ]
    }
   ],
   "source": [
    "def test():\n",
    "    print('Hello')\n",
    "test()"
   ]
  },
  {
   "cell_type": "code",
   "execution_count": 3,
   "metadata": {},
   "outputs": [],
   "source": [
    "def test(a,b):\n",
    "    c=a+b\n",
    "    return c\n",
    "test(10,20)\n"
   ]
  },
  {
   "cell_type": "code",
   "execution_count": 4,
   "metadata": {},
   "outputs": [
    {
     "data": {
      "text/plain": [
       "40"
      ]
     },
     "execution_count": 4,
     "metadata": {},
     "output_type": "execute_result"
    }
   ],
   "source": [
    "test(10,30)"
   ]
  },
  {
   "cell_type": "code",
   "execution_count": 5,
   "metadata": {},
   "outputs": [
    {
     "name": "stdout",
     "output_type": "stream",
     "text": [
      "student Name:  ram student Rank:  2\n"
     ]
    }
   ],
   "source": [
    "#Function with arguments\n",
    "def stddt(name,rank):\n",
    "    print('student Name: ' , name,'student Rank: ', rank )\n",
    "stddt('ram',2)"
   ]
  },
  {
   "cell_type": "code",
   "execution_count": 6,
   "metadata": {},
   "outputs": [
    {
     "ename": "TypeError",
     "evalue": "stddt() missing 1 required positional argument: 'rank'",
     "output_type": "error",
     "traceback": [
      "\u001b[1;31m---------------------------------------------------------------------------\u001b[0m",
      "\u001b[1;31mTypeError\u001b[0m                                 Traceback (most recent call last)",
      "\u001b[1;32m<ipython-input-6-002d2a0a1e19>\u001b[0m in \u001b[0;36m<module>\u001b[1;34m\u001b[0m\n\u001b[0;32m      2\u001b[0m \u001b[1;32mdef\u001b[0m \u001b[0mstddt\u001b[0m\u001b[1;33m(\u001b[0m\u001b[0mname\u001b[0m\u001b[1;33m,\u001b[0m\u001b[0mrank\u001b[0m\u001b[1;33m)\u001b[0m\u001b[1;33m:\u001b[0m\u001b[1;33m\u001b[0m\u001b[1;33m\u001b[0m\u001b[0m\n\u001b[0;32m      3\u001b[0m     \u001b[0mprint\u001b[0m\u001b[1;33m(\u001b[0m\u001b[1;34m'student Name: '\u001b[0m \u001b[1;33m,\u001b[0m \u001b[0mname\u001b[0m\u001b[1;33m,\u001b[0m\u001b[1;34m'student Rank: '\u001b[0m\u001b[1;33m,\u001b[0m \u001b[0mrank\u001b[0m \u001b[1;33m)\u001b[0m\u001b[1;33m\u001b[0m\u001b[1;33m\u001b[0m\u001b[0m\n\u001b[1;32m----> 4\u001b[1;33m \u001b[0mstddt\u001b[0m\u001b[1;33m(\u001b[0m\u001b[1;34m'ram'\u001b[0m\u001b[1;33m)\u001b[0m\u001b[1;33m\u001b[0m\u001b[1;33m\u001b[0m\u001b[0m\n\u001b[0m\u001b[0;32m      5\u001b[0m \u001b[1;31m# function with default arguments\u001b[0m\u001b[1;33m\u001b[0m\u001b[1;33m\u001b[0m\u001b[1;33m\u001b[0m\u001b[0m\n\u001b[0;32m      6\u001b[0m \u001b[1;33m\u001b[0m\u001b[0m\n",
      "\u001b[1;31mTypeError\u001b[0m: stddt() missing 1 required positional argument: 'rank'"
     ]
    }
   ],
   "source": [
    "#if you call function with single argu you will get error\n",
    "def stddt(name,rank):\n",
    "    print('student Name: ' , name,'student Rank: ', rank )\n",
    "stddt('ram')"
   ]
  },
  {
   "cell_type": "code",
   "execution_count": 12,
   "metadata": {},
   "outputs": [
    {
     "name": "stdout",
     "output_type": "stream",
     "text": [
      "sum is:   35\n",
      "sum is:   70\n"
     ]
    }
   ],
   "source": [
    "# function with default arguments\n",
    "def add(a,c,b=40):\n",
    "    tot = a+b+c\n",
    "    print ('sum is:  ' , tot)\n",
    "\n",
    "add(10,20,5)\n",
    "add(10,20)"
   ]
  },
  {
   "cell_type": "code",
   "execution_count": 1,
   "metadata": {},
   "outputs": [
    {
     "name": "stdout",
     "output_type": "stream",
     "text": [
      "The popular technology is  Python\n"
     ]
    }
   ],
   "source": [
    "#If the number of arguments is unknown, add a * before the parameter name:\n",
    "def my_funct(*Tech):\n",
    "  print(\"The popular technology is \" , Tech[2])\n",
    "\n",
    "my_funct(\"Java\", \"SAS\", \"Python\")\n"
   ]
  },
  {
   "cell_type": "code",
   "execution_count": 6,
   "metadata": {},
   "outputs": [
    {
     "name": "stdout",
     "output_type": "stream",
     "text": [
      "math\n",
      "eng\n",
      "social\n"
     ]
    }
   ],
   "source": [
    "# input as variable number of arguments for function\n",
    "def dis(*argv):\n",
    "    for i in argv:\n",
    "        print (i)\n",
    "#    return\n",
    "\n",
    "dis('math','eng','social')"
   ]
  },
  {
   "cell_type": "code",
   "execution_count": 11,
   "metadata": {},
   "outputs": [
    {
     "name": "stdout",
     "output_type": "stream",
     "text": [
      "student marks for maths45\n",
      "student marks for eng6\n",
      "student marks for social8\n",
      "Name: kumar\n",
      "45\n",
      "6\n",
      "8\n"
     ]
    }
   ],
   "source": [
    "# input as variable number of arguments for function\n",
    "def dis(name,*argv):\n",
    "    print('Name:',name)\n",
    "    for i in argv:\n",
    "        print (i)\n",
    "        \n",
    "math=input('student marks for maths')\n",
    "eng=input('student marks for eng')\n",
    "social=input('student marks for social')\n",
    "\n",
    "dis('kumar',math,eng,social)"
   ]
  },
  {
   "cell_type": "code",
   "execution_count": 12,
   "metadata": {},
   "outputs": [
    {
     "name": "stdout",
     "output_type": "stream",
     "text": [
      "The popular technology is Python\n"
     ]
    }
   ],
   "source": [
    "# input as keyword arguments for function\n",
    "#send arguments with the key = value syntax.\n",
    "def my_funct(Tech1,Tech2,Tech3):\n",
    "  print(\"The popular technology is \" + Tech3)\n",
    "\n",
    "my_funct(Tech1 = \"Java\", Tech2 = \"SAS\", Tech3 = \"Python\")"
   ]
  },
  {
   "cell_type": "code",
   "execution_count": 4,
   "metadata": {},
   "outputs": [
    {
     "name": "stdout",
     "output_type": "stream",
     "text": [
      "who are you? girls\n",
      "hello girls\n"
     ]
    }
   ],
   "source": [
    "'''The %s token allows me to insert (and potentially format) a string. \n",
    "Notice that the %s token is replaced by whatever I pass to the string after \n",
    "the % symbol. Notice also that I am using a tuple here as well \n",
    "(when you only have one string using a tuple is optional) to illustrate that multiple \n",
    "strings can be inserted and formatted in one statement.\n",
    "'''\n",
    "name = input(\"who are you? \")\n",
    "print(\"hello %s\" % (name,))"
   ]
  },
  {
   "cell_type": "code",
   "execution_count": 13,
   "metadata": {},
   "outputs": [
    {
     "name": "stdout",
     "output_type": "stream",
     "text": [
      "stname == Abhi\n",
      "stclass == 2\n",
      "rank == 3\n",
      "school == dps\n"
     ]
    }
   ],
   "source": [
    "def kwargsfun(**kwargs):  \n",
    "    for key, value in kwargs.items(): \n",
    "        print (\"%s == %s\" %(key, value)) \n",
    "  \n",
    "kwargsfun(stname ='Abhi',stclass= 2, rank=3,school='dps')"
   ]
  }
 ],
 "metadata": {
  "kernelspec": {
   "display_name": "Python 3",
   "language": "python",
   "name": "python3"
  },
  "language_info": {
   "codemirror_mode": {
    "name": "ipython",
    "version": 3
   },
   "file_extension": ".py",
   "mimetype": "text/x-python",
   "name": "python",
   "nbconvert_exporter": "python",
   "pygments_lexer": "ipython3",
   "version": "3.8.8"
  }
 },
 "nbformat": 4,
 "nbformat_minor": 2
}
