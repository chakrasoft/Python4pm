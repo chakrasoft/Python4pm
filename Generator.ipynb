{
 "cells": [
  {
   "cell_type": "markdown",
   "id": "d3aa4e20",
   "metadata": {},
   "source": [
    "'''\n",
    "A Python generator is a function which returns a generator iterator \n",
    "(just an object we can iterate over) by calling yield . yield may be called with a value, \n",
    "in which case that value is treated as the \"generated\" value.\n",
    "\n",
    "Single value Iter or one by one value and we need to define func like iter n next,\n",
    "If list of values then genertors \n",
    "Genertors gives u itertors\n",
    "\n",
    "\n",
    "Differences between Generator function and Normal function\n",
    "Here is how a generator function differs from a normal function.\n",
    "\n",
    "Generator function contains one or more yield statements.\n",
    "When called, it returns an object (iterator) but does not start execution immediately.\n",
    "Methods like __iter__() and __next__() are implemented automatically. So we can iterate through the items using next().\n",
    "Once the function yields, the function is paused and the control is transferred to the caller.\n",
    "Local variables and their states are remembered between successive calls.\n",
    "Finally, when the function terminates, StopIteration is raised automatically on further calls.\n",
    "\n",
    "#In Real time\n",
    "If you want to Fetch 2000 records then all the records will be loaded in memory. \n",
    "we do not want that we want to work one value at a time. In that case we can use \n",
    "generator with the help of yield.\n",
    "'''"
   ]
  },
  {
   "cell_type": "code",
   "execution_count": 1,
   "id": "019b8e05",
   "metadata": {},
   "outputs": [
    {
     "name": "stdout",
     "output_type": "stream",
     "text": [
      "<generator object G1 at 0x000001DB0F292900>\n"
     ]
    }
   ],
   "source": [
    "def G1(): \n",
    "   \n",
    "    yield 3 #special keyword which will make func as generator\n",
    "  \n",
    "values=G1()\n",
    "print(values) "
   ]
  },
  {
   "cell_type": "code",
   "execution_count": 2,
   "id": "de5b8b1e",
   "metadata": {},
   "outputs": [
    {
     "name": "stdout",
     "output_type": "stream",
     "text": [
      "3\n"
     ]
    }
   ],
   "source": [
    "def G1(): \n",
    "   \n",
    "    return 3\n",
    "  \n",
    "samp=G1()\n",
    "print(samp) "
   ]
  },
  {
   "cell_type": "code",
   "execution_count": 3,
   "id": "b7f7b217",
   "metadata": {},
   "outputs": [
    {
     "name": "stdout",
     "output_type": "stream",
     "text": [
      "3\n"
     ]
    }
   ],
   "source": [
    "def G1(): \n",
    "   \n",
    "    yield 3\n",
    "  \n",
    "samp=G1()\n",
    "print(samp.__next__()) \n"
   ]
  },
  {
   "cell_type": "code",
   "execution_count": 4,
   "id": "ae6c0093",
   "metadata": {},
   "outputs": [
    {
     "name": "stdout",
     "output_type": "stream",
     "text": [
      "2\n"
     ]
    }
   ],
   "source": [
    "def G1(): \n",
    "   \n",
    "    yield 2\n",
    "    yield 3\n",
    "    yield 4\n",
    "    yield 5\n",
    "  \n",
    "samp=G1()\n",
    "print(samp.__next__()) \n"
   ]
  },
  {
   "cell_type": "code",
   "execution_count": 5,
   "id": "a2c9d74a",
   "metadata": {},
   "outputs": [
    {
     "name": "stdout",
     "output_type": "stream",
     "text": [
      "2\n",
      "3\n",
      "4\n",
      "5\n"
     ]
    }
   ],
   "source": [
    "def G1(): \n",
    "   \n",
    "    yield 2\n",
    "    yield 3\n",
    "    yield 4\n",
    "    yield 5\n",
    "  \n",
    "samp=G1()\n",
    "print(samp.__next__()) \n",
    "print(samp.__next__()) \n",
    "\n",
    "for i in samp: \n",
    "    print(i)"
   ]
  },
  {
   "cell_type": "code",
   "execution_count": 9,
   "id": "37bdbdda",
   "metadata": {},
   "outputs": [
    {
     "name": "stdout",
     "output_type": "stream",
     "text": [
      "1\n",
      "4\n"
     ]
    }
   ],
   "source": [
    "#Print the squares less than 10 values\n",
    "def G1(): \n",
    "   \n",
    "    n=1\n",
    "    \n",
    "    while n< 10:\n",
    "        sq=n*n\n",
    "        yield sq\n",
    "        n+=1\n",
    "samp=G1()\n",
    "print(samp.__next__()) \n",
    "print(samp.__next__()) "
   ]
  },
  {
   "cell_type": "code",
   "execution_count": 8,
   "id": "1f6203f6",
   "metadata": {},
   "outputs": [
    {
     "name": "stdout",
     "output_type": "stream",
     "text": [
      "1\n",
      "4\n",
      "9\n",
      "16\n",
      "25\n",
      "36\n",
      "49\n",
      "64\n",
      "81\n"
     ]
    }
   ],
   "source": [
    "def G1(): \n",
    "   \n",
    "    n=1\n",
    "    \n",
    "    while n< 10:\n",
    "        sq=n*n\n",
    "        yield sq\n",
    "        n+=1\n",
    "samp=G1()\n",
    "\n",
    "for i in samp: \n",
    "    print(i)"
   ]
  },
  {
   "cell_type": "code",
   "execution_count": null,
   "id": "e9500cf6",
   "metadata": {},
   "outputs": [],
   "source": []
  }
 ],
 "metadata": {
  "kernelspec": {
   "display_name": "Python 3",
   "language": "python",
   "name": "python3"
  },
  "language_info": {
   "codemirror_mode": {
    "name": "ipython",
    "version": 3
   },
   "file_extension": ".py",
   "mimetype": "text/x-python",
   "name": "python",
   "nbconvert_exporter": "python",
   "pygments_lexer": "ipython3",
   "version": "3.8.8"
  }
 },
 "nbformat": 4,
 "nbformat_minor": 5
}
