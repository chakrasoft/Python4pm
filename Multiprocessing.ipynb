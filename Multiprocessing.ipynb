{
 "cells": [
  {
   "cell_type": "markdown",
   "id": "b55ec345",
   "metadata": {},
   "source": [
    "Multiprocesing"
   ]
  },
  {
   "cell_type": "code",
   "execution_count": 1,
   "id": "967b69ed",
   "metadata": {},
   "outputs": [
    {
     "name": "stdout",
     "output_type": "stream",
     "text": [
      "walking 1 sec..\n",
      "Done walking....\n",
      "finished in 1.01 second(s)\n"
     ]
    }
   ],
   "source": [
    "import multiprocessing \n",
    "import time\n",
    "\n",
    "start =time.perf_counter()\n",
    "   \n",
    "def perform(): \n",
    "    print('walking 1 sec..') \n",
    "    time.sleep(1)\n",
    "    print('Done walking....') \n",
    "    \n",
    "perform()\n",
    "\n",
    "\n",
    "finish =time.perf_counter()\n",
    "\n",
    "print(f'finished in {round(finish-start, 2)} second(s)') \n"
   ]
  },
  {
   "cell_type": "code",
   "execution_count": 2,
   "id": "414ca3f5",
   "metadata": {},
   "outputs": [
    {
     "name": "stdout",
     "output_type": "stream",
     "text": [
      "finished in 0.0 second(s)\n"
     ]
    }
   ],
   "source": [
    "import multiprocessing \n",
    "import time\n",
    "\n",
    "start =time.perf_counter()\n",
    "   \n",
    "def perform(): \n",
    "    print('walking 1 sec..') \n",
    "    time.sleep(1)\n",
    "    print('Done walking....') \n",
    "    \n",
    "p1=multiprocessing.Process(target=perform)\n",
    "p2=multiprocessing.Process(target=perform)\n",
    "\n",
    "finish=time.perf_counter()\n",
    "\n",
    "print(f'finished in {round(finish-start,2)} second(s)') "
   ]
  },
  {
   "cell_type": "code",
   "execution_count": 3,
   "id": "a12cde4a",
   "metadata": {},
   "outputs": [
    {
     "name": "stdout",
     "output_type": "stream",
     "text": [
      "finished in 0.04 second(s)\n"
     ]
    }
   ],
   "source": [
    "import multiprocessing \n",
    "import time\n",
    "\n",
    "start =time.perf_counter()\n",
    "   \n",
    "def perform(): \n",
    "    print('walking 1 sec..') \n",
    "    time.sleep(1)\n",
    "    print('Done walking....') \n",
    "    \n",
    "p1=multiprocessing.Process(target=perform)\n",
    "p2=multiprocessing.Process(target=perform)\n",
    "\n",
    "p1.start()\n",
    "p2.start()\n",
    "\n",
    "finish=time.perf_counter()\n",
    "\n",
    "print(f'finished in {round(finish-start,2)} second(s)') "
   ]
  },
  {
   "cell_type": "code",
   "execution_count": 4,
   "id": "cd9306a8",
   "metadata": {},
   "outputs": [
    {
     "name": "stdout",
     "output_type": "stream",
     "text": [
      "finished in 0.24 second(s)\n"
     ]
    }
   ],
   "source": [
    "import multiprocessing \n",
    "import time\n",
    "\n",
    "start =time.perf_counter()\n",
    "   \n",
    "def perform(): \n",
    "    print('walking 1 sec..') \n",
    "    time.sleep(1)\n",
    "    print('Done walking....') \n",
    "    \n",
    "p1=multiprocessing.Process(target=perform)\n",
    "p2=multiprocessing.Process(target=perform)\n",
    "\n",
    "p1.start()\n",
    "p2.start()\n",
    "\n",
    "p1.join()  \n",
    "p2.join()\n",
    "\n",
    "finish=time.perf_counter()\n",
    "\n",
    "print(f'finished in {round(finish-start,2)} second(s)') "
   ]
  },
  {
   "cell_type": "code",
   "execution_count": 5,
   "id": "1df06c8c",
   "metadata": {},
   "outputs": [
    {
     "name": "stdout",
     "output_type": "stream",
     "text": [
      "finished in 0.34 second(s)\n"
     ]
    }
   ],
   "source": [
    "import multiprocessing \n",
    "import time\n",
    "\n",
    "start =time.perf_counter()\n",
    "   \n",
    "def perform(): \n",
    "    print('walking 1 sec..') \n",
    "    time.sleep(1)\n",
    "    print('Done walking....') \n",
    "    \n",
    "processes=[]\n",
    "\n",
    "for _ in range(10):   # _ throughaway variable name\n",
    "    p=multiprocessing.Process(target=perform)\n",
    "    p.start()\n",
    "    processes.append(p)\n",
    "\n",
    "for process in processes:\n",
    "    process.join() #It will wait until it finishes\n",
    "\n",
    "finish=time.perf_counter() #Calculates the finishtime\n",
    "\n",
    "print(f'finished in {round(finish-start,2)} second(s)') "
   ]
  },
  {
   "cell_type": "code",
   "execution_count": 6,
   "id": "0c4a3ceb",
   "metadata": {},
   "outputs": [
    {
     "name": "stdout",
     "output_type": "stream",
     "text": [
      "finished in 1241.66 second(s)\n"
     ]
    }
   ],
   "source": [
    "import multiprocessing \n",
    "import time\n",
    "\n",
    "start =time.perf_counter()\n",
    "   \n",
    "def perform(seconds): \n",
    "    print('walking {seconds} second(s)..') \n",
    "    time.sleep(seconds)\n",
    "    print('Done walking....') \n",
    "    \n",
    "processes=[]\n",
    "\n",
    "for _ in range(10):\n",
    "    p=multiprocessing.Process(target=perform, args=[1.5])\n",
    "    p.start()\n",
    "    processes.append(p)\n",
    "\n",
    "for process in processes:\n",
    "    process.join()\n",
    "\n",
    "finishstart=time.perf_counter()\n",
    "\n",
    "print(f\"finished in {round(finishstart,2)} second(s)\")"
   ]
  },
  {
   "cell_type": "code",
   "execution_count": null,
   "id": "5fe56d70",
   "metadata": {},
   "outputs": [],
   "source": [
    "import os\n",
    "from multiprocessing import Pool\n",
    "\n",
    "def task(args):\n",
    "    print (\"PID =\", os.getpid(), \", arg1 =\", args[0], \", arg2 =\", args[1])\n",
    "\n",
    "pool = Pool()\n",
    "\n",
    "pool.map(task, [\n",
    "        [1,2],\n",
    "        [3,4],\n",
    "        [5,6],\n",
    "        [7,8]\n",
    "    ])"
   ]
  },
  {
   "cell_type": "code",
   "execution_count": null,
   "id": "8fdbd0af",
   "metadata": {},
   "outputs": [],
   "source": [
    "text = \"test\"\n",
    "def harvester(text, case):\n",
    "    X = case[0]\n",
    "    text+ str(X)\n",
    "\n",
    "if __name__ == '__main__':\n",
    "    pool = multiprocessing.Pool(processes=6)\n",
    "    case = RAW_DATASET\n",
    "    pool.map(harvester(text,case),case, 1)\n",
    "    pool.close()\n",
    "    pool.join()"
   ]
  }
 ],
 "metadata": {
  "kernelspec": {
   "display_name": "Python 3",
   "language": "python",
   "name": "python3"
  },
  "language_info": {
   "codemirror_mode": {
    "name": "ipython",
    "version": 3
   },
   "file_extension": ".py",
   "mimetype": "text/x-python",
   "name": "python",
   "nbconvert_exporter": "python",
   "pygments_lexer": "ipython3",
   "version": "3.8.8"
  }
 },
 "nbformat": 4,
 "nbformat_minor": 5
}
