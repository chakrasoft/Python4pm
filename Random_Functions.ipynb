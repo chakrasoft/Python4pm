{
 "cells": [
  {
   "cell_type": "markdown",
   "metadata": {},
   "source": [
    "# Randon Functions"
   ]
  },
  {
   "cell_type": "markdown",
   "metadata": {},
   "source": [
    "Choice - A random item from a list, Tuple, String\n",
    "Randrange - A randomly selected variable from ranges(start,stop,step)\n",
    "Random -A random float r, Such that 0 is less than or equal to r  and r is less than 1\n",
    "seed - sets the integer starting value use in generating random numbers. Call this function \n",
    "before calling any other random module function. returns none\n",
    "The seed() method is used to initialize the random number generator.\n",
    "\n",
    "The random number generator needs a number to start with (a seed value), to be able to generate a random number.\n",
    "\n",
    "By default the random number generator uses the current system time.\n",
    "\n",
    "Shuffle - Randomizes the items of a list in place. Returns none\n",
    "Uniform(x,y) - A random float r, such that x is less than  or equal to r and r is less than y"
   ]
  },
  {
   "cell_type": "code",
   "execution_count": 1,
   "metadata": {},
   "outputs": [],
   "source": [
    "import random as rd"
   ]
  },
  {
   "cell_type": "code",
   "execution_count": 2,
   "metadata": {},
   "outputs": [
    {
     "name": "stdout",
     "output_type": "stream",
     "text": [
      "randon number from range(100) : 87\n",
      "randon element from l1 : 5\n",
      "randon chracter from srting : H\n"
     ]
    }
   ],
   "source": [
    "range(100)\n",
    "rd.choice(range(100))\n",
    "print(\"randon number from range(100) :\", rd.choice(range(100)))\n",
    "\n",
    "l1 = [1,2,3,4,5,6]\n",
    "print(\"randon element from l1 :\", rd.choice(l1))\n",
    "\n",
    "str=\"Hello World\"\n",
    "print(\"randon chracter from srting :\", rd.choice(str))"
   ]
  },
  {
   "cell_type": "code",
   "execution_count": 8,
   "metadata": {},
   "outputs": [
    {
     "name": "stdout",
     "output_type": "stream",
     "text": [
      "randrange(1,100,2) : 74\n",
      "randrange(100) : 8\n"
     ]
    },
    {
     "data": {
      "text/plain": [
       "80"
      ]
     },
     "execution_count": 8,
     "metadata": {},
     "output_type": "execute_result"
    }
   ],
   "source": [
    "# generate a random interger number in given range \n",
    "#randrange(start,stop,step)\n",
    "print(\"randrange(1,100,2) :\", rd.randrange(0,100,2))\n",
    "print(\"randrange(100) :\", rd.randrange(100))\n",
    "d=rd.randrange(10,100)\n",
    "d"
   ]
  },
  {
   "cell_type": "code",
   "execution_count": 20,
   "metadata": {},
   "outputs": [
    {
     "data": {
      "text/plain": [
       "40"
      ]
     },
     "execution_count": 20,
     "metadata": {},
     "output_type": "execute_result"
    }
   ],
   "source": [
    "# generate a random interger number with given step\n",
    "e=rd.randrange(10,100,5)\n",
    "e"
   ]
  },
  {
   "cell_type": "code",
   "execution_count": 10,
   "metadata": {},
   "outputs": [
    {
     "name": "stdout",
     "output_type": "stream",
     "text": [
      "random() : 0.6754038772766489\n"
     ]
    },
    {
     "data": {
      "text/plain": [
       "0.2101339477605897"
      ]
     },
     "execution_count": 10,
     "metadata": {},
     "output_type": "execute_result"
    }
   ],
   "source": [
    "# Generate random float number between 0<=random<1\n",
    "print(\"random() :\", rd.random())\n",
    "b=rd.random()  \n",
    "b"
   ]
  },
  {
   "cell_type": "code",
   "execution_count": 11,
   "metadata": {},
   "outputs": [
    {
     "name": "stdout",
     "output_type": "stream",
     "text": [
      "0.20426524482668806\n",
      "0.3792911369905261\n",
      "0.571608571800499\n",
      "0.9511520372568742\n",
      "0.5848199705389014\n",
      "0.6027578890431389\n",
      "0.6615554790688457\n",
      "0.37629751239477194\n",
      "0.3838601662485537\n",
      "0.7284778987238529\n"
     ]
    }
   ],
   "source": [
    "#Display 10 random numbers from interval(0,1)\n",
    "for i in range(10):\n",
    "    print(rd.random())"
   ]
  },
  {
   "cell_type": "code",
   "execution_count": 14,
   "metadata": {},
   "outputs": [
    {
     "data": {
      "text/plain": [
       "5"
      ]
     },
     "execution_count": 14,
     "metadata": {},
     "output_type": "execute_result"
    }
   ],
   "source": [
    "# genearte radon interger for given range (doesnt work for float values)\n",
    "#it include last item and no step but in randrange not include last item and have step.\n",
    "c=rd.randint(2,6)  \n",
    "c"
   ]
  },
  {
   "cell_type": "code",
   "execution_count": 16,
   "metadata": {},
   "outputs": [
    {
     "name": "stdout",
     "output_type": "stream",
     "text": [
      "You Win\n"
     ]
    }
   ],
   "source": [
    "dice=rd.randint(1,6) \n",
    "\n",
    "if dice==1:\n",
    "    print(\"You Win\")\n",
    "else:\n",
    "    print(\"You loose\" ,dice)"
   ]
  },
  {
   "cell_type": "code",
   "execution_count": 18,
   "metadata": {},
   "outputs": [
    {
     "name": "stdout",
     "output_type": "stream",
     "text": [
      "4.173687809489551\n",
      "random float uniform(3,5) 3.8352425874311655\n",
      "random float uniform(7,14) 13.724908711803682\n"
     ]
    }
   ],
   "source": [
    "# Generate random floating number in given range \n",
    "f = rd.uniform(3,5)  \n",
    "print(f)\n",
    "print(\"random float uniform(3,5)\", rd.uniform(3,5))\n",
    "print(\"random float uniform(7,14)\", rd.uniform(7,14))"
   ]
  },
  {
   "cell_type": "code",
   "execution_count": 39,
   "metadata": {},
   "outputs": [
    {
     "name": "stdout",
     "output_type": "stream",
     "text": [
      "2.4446780555645238\n",
      "3.217838568889853\n",
      "4.648152147214889\n",
      "4.070401054917063\n",
      "3.6625714479814704\n",
      "4.454100414831834\n",
      "3.5062790149067\n",
      "2.907571136835209\n",
      "2.190755262541458\n",
      "4.558936613999915\n"
     ]
    }
   ],
   "source": [
    "# Generate random floating number in given range \n",
    "for i in range(10):\n",
    "    print(rd.uniform(2,5))\n"
   ]
  },
  {
   "cell_type": "code",
   "execution_count": 40,
   "metadata": {},
   "outputs": [
    {
     "data": {
      "text/plain": [
       "[4, 6, 1, 2, 3, 5]"
      ]
     },
     "execution_count": 40,
     "metadata": {},
     "output_type": "execute_result"
    }
   ],
   "source": [
    "#Shuffle values in l1\n",
    "l1 = [1,2,3,4,5,6]\n",
    "rd.shuffle(l1)\n",
    "l1"
   ]
  },
  {
   "cell_type": "code",
   "execution_count": 41,
   "metadata": {},
   "outputs": [
    {
     "name": "stdout",
     "output_type": "stream",
     "text": [
      "random number with default seed None\n",
      "random number with int seed None\n",
      "random number with str seed None\n"
     ]
    }
   ],
   "source": [
    "# seed means random number will be fixed for that particular seed value.\n",
    "x1= rd.random()\n",
    "x1\n",
    "\n",
    "rd.seed()\n",
    "print(\"random number with default seed\", rd.seed())\n",
    "rd.seed(10)\n",
    "print(\"random number with int seed\", rd.seed())\n",
    "rd.seed(\"Hello,2\")\n",
    "print(\"random number with str seed\", rd.seed())\n"
   ]
  },
  {
   "cell_type": "code",
   "execution_count": 19,
   "metadata": {},
   "outputs": [
    {
     "data": {
      "text/plain": [
       "0.6229016948897019"
      ]
     },
     "execution_count": 19,
     "metadata": {},
     "output_type": "execute_result"
    }
   ],
   "source": [
    "rd.seed(5)\n",
    "x2= rd.random()\n",
    "x2"
   ]
  },
  {
   "cell_type": "code",
   "execution_count": 20,
   "metadata": {},
   "outputs": [
    {
     "data": {
      "text/plain": [
       "0.32383276483316237"
      ]
     },
     "execution_count": 20,
     "metadata": {},
     "output_type": "execute_result"
    }
   ],
   "source": [
    "rd.seed(7)\n",
    "x3= rd.random()\n",
    "x3"
   ]
  },
  {
   "cell_type": "code",
   "execution_count": 21,
   "metadata": {},
   "outputs": [
    {
     "data": {
      "text/plain": [
       "0.15084917392450192"
      ]
     },
     "execution_count": 21,
     "metadata": {},
     "output_type": "execute_result"
    }
   ],
   "source": [
    "x1= rd.random()\n",
    "x1"
   ]
  },
  {
   "cell_type": "code",
   "execution_count": null,
   "metadata": {},
   "outputs": [],
   "source": []
  }
 ],
 "metadata": {
  "kernelspec": {
   "display_name": "Python 3",
   "language": "python",
   "name": "python3"
  },
  "language_info": {
   "codemirror_mode": {
    "name": "ipython",
    "version": 3
   },
   "file_extension": ".py",
   "mimetype": "text/x-python",
   "name": "python",
   "nbconvert_exporter": "python",
   "pygments_lexer": "ipython3",
   "version": "3.7.9"
  }
 },
 "nbformat": 4,
 "nbformat_minor": 2
}
