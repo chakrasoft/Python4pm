{
 "cells": [
  {
   "cell_type": "markdown",
   "metadata": {},
   "source": [
    "# LOOPS"
   ]
  },
  {
   "cell_type": "markdown",
   "metadata": {},
   "source": [
    "\n",
    "The while Loop\n",
    "---------------------\n",
    "With the while loop we can execute a set of statements \n",
    "as long as a condition is true.\n",
    "  \n",
    "#Note: remember to increment i, or else the loop will continue forever.\n",
    "\n",
    "For loop\n",
    "------------\n",
    "For loops essentially perform the same task as while loops, they tend to focus \n",
    "on iterating a set number of times. For loops are great when you want to go \n",
    "through a list and look at every single element.\n",
    "\n",
    "A for loop is used for iterating over a sequence (that is either a list, a tuple, a dictionary, a set, or a string).\n",
    "\n",
    "This is less like the for keyword in other programming languages, and works more \n",
    "like an iterator method as found in other object-orientated programming languages.\n",
    "\n",
    "With the for loop we can execute a set of statements, once for each item in a list, \n",
    "tuple, set etc. \n"
   ]
  },
  {
   "cell_type": "code",
   "execution_count": 11,
   "metadata": {},
   "outputs": [
    {
     "name": "stdout",
     "output_type": "stream",
     "text": [
      "2\n",
      "3\n",
      "4\n",
      "5\n"
     ]
    }
   ],
   "source": [
    "i=1\n",
    "while i<5:\n",
    "    print(i)\n",
    "    i+=1 #i=i+1  "
   ]
  },
  {
   "cell_type": "markdown",
   "metadata": {},
   "source": [
    "The range() Function\n",
    "To loop through a set of code a specified number of times, we can use the range() function,\n",
    "The range() function returns a sequence of numbers, starting from 0 by default, \n",
    "and increments by 1 (by default), and ends at a specified number.\n",
    "\n",
    "Note that range(5) is not the values of 0 to 5, but the values 0 to 5.\n",
    "The range() function defaults to 0 as a starting value, however \n",
    "it is possible to specify the starting value by adding a parameter: range(2, 5), \n",
    "which means values from 2 to 5 (but not including 5):\n",
    "\n",
    "The range() function defaults to increment the sequence by 1, however it is possible to \n",
    "specify the increment value by adding a third parameter: range(2, 30, 3): "
   ]
  },
  {
   "cell_type": "code",
   "execution_count": 4,
   "metadata": {},
   "outputs": [
    {
     "name": "stdout",
     "output_type": "stream",
     "text": [
      "0\n",
      "1\n",
      "2\n",
      "3\n",
      "4\n",
      "1\n",
      "2\n",
      "3\n",
      "4\n",
      "2\n",
      "5\n",
      "8\n",
      "11\n",
      "14\n",
      "17\n"
     ]
    }
   ],
   "source": [
    "for x in range(5):\n",
    "  print(x)\n",
    "#################\n",
    "for i in range(1,5):\n",
    "    print(i)\n",
    "#################\n",
    "for x in range(2, 20, 3):\n",
    "  print(x)"
   ]
  },
  {
   "cell_type": "code",
   "execution_count": 3,
   "metadata": {},
   "outputs": [
    {
     "name": "stdout",
     "output_type": "stream",
     "text": [
      "1\n",
      "2\n",
      "3\n",
      "4\n",
      "5\n",
      "6\n",
      "for loop done sucessfully\n",
      "iphone\n",
      "Samsung\n",
      "Motorola\n"
     ]
    }
   ],
   "source": [
    "l1 = [1,2,3,4,5,6]\n",
    "for i in l1:\n",
    "    print(i)\n",
    "print('for loop done sucessfully' )\n",
    "#####################\n",
    "mobiles = [\"iphone\", \"Samsung\", \"Motorola\"]\n",
    "for a in mobiles:\n",
    "  print(a)"
   ]
  },
  {
   "cell_type": "code",
   "execution_count": 4,
   "metadata": {},
   "outputs": [
    {
     "name": "stdout",
     "output_type": "stream",
     "text": [
      "S\n",
      "a\n",
      "m\n",
      "s\n",
      "u\n",
      "n\n",
      "g\n"
     ]
    }
   ],
   "source": [
    "#The for loop does not require an indexing variable to set beforehand\n",
    "  \n",
    "for x in \"Samsung\":\n",
    "  print(x)"
   ]
  },
  {
   "cell_type": "code",
   "execution_count": 14,
   "metadata": {},
   "outputs": [
    {
     "name": "stdout",
     "output_type": "stream",
     "text": [
      "152\n"
     ]
    }
   ],
   "source": [
    "numbers = [1,10,20,30,40,50]\n",
    "sum = 1\n",
    "for number in numbers:\n",
    "    sum = sum + number\n",
    "print (sum)\n",
    "'''\n",
    "0+1=1\n",
    "1+10=11\n",
    "11+20=31\n",
    "31+30=61\n",
    "61+40=101\n",
    "101+50=151\n",
    "'''"
   ]
  },
  {
   "cell_type": "code",
   "execution_count": 16,
   "metadata": {},
   "outputs": [
    {
     "name": "stdout",
     "output_type": "stream",
     "text": [
      "enter student num: 4\n"
     ]
    }
   ],
   "source": [
    "name = input('enter student num: ')\n",
    "age = int(input('enter student num: '))"
   ]
  },
  {
   "cell_type": "code",
   "execution_count": 18,
   "metadata": {},
   "outputs": [
    {
     "name": "stdout",
     "output_type": "stream",
     "text": [
      "enter student name: abc\n",
      "enter student marks: 34\n",
      "student name----:  abc Marks----:  34\n",
      "enter student name: vvv\n",
      "enter student marks: 56\n",
      "student name----:  vvv Marks----:  56\n",
      "end of while and count is: 3\n"
     ]
    }
   ],
   "source": [
    "count = 1\n",
    "while count < 3:\n",
    "    name = input('enter student name: ')\n",
    "    marks = int(input('enter student marks: '))\n",
    "    print('student name----: ', name, 'Marks----: ', marks)\n",
    "    count = count + 1\n",
    "print('end of while and count is:', count)"
   ]
  },
  {
   "cell_type": "code",
   "execution_count": 19,
   "metadata": {},
   "outputs": [
    {
     "name": "stdout",
     "output_type": "stream",
     "text": [
      "enter student name: gfg\n",
      "enter student marks: 45\n",
      "student name----:  gfg Marks----:  45\n",
      "want to continue -y- else press any otherd\n",
      "end of while and count is: d\n"
     ]
    }
   ],
   "source": [
    "cont = 'y'\n",
    "while cont == 'y':\n",
    "    name = input('enter student name: ')\n",
    "    marks = int(input('enter student marks: '))\n",
    "    print('student name----: ', name, 'Marks----: ', marks)\n",
    "    cont=input('want to continue -y- else press any other')\n",
    "print('end of while and count is:', cont)"
   ]
  },
  {
   "cell_type": "code",
   "execution_count": 8,
   "metadata": {},
   "outputs": [
    {
     "data": {
      "text/plain": [
       "'Samsung'"
      ]
     },
     "execution_count": 8,
     "metadata": {},
     "output_type": "execute_result"
    }
   ],
   "source": [
    "computer_brands = [\"Apple\", \"Asus\", \"Dell\", \"Samsung\"]\n",
    "computer_brands[0:3]\n",
    "computer_brands[0]\n",
    "computer_brands[1]\n",
    "computer_brands[2]\n",
    "computer_brands[3]"
   ]
  },
  {
   "cell_type": "code",
   "execution_count": 9,
   "metadata": {},
   "outputs": [
    {
     "data": {
      "text/plain": [
       "4"
      ]
     },
     "execution_count": 9,
     "metadata": {},
     "output_type": "execute_result"
    }
   ],
   "source": [
    "len(computer_brands)"
   ]
  },
  {
   "cell_type": "code",
   "execution_count": 10,
   "metadata": {},
   "outputs": [
    {
     "name": "stdout",
     "output_type": "stream",
     "text": [
      "Apple\n",
      "Asus\n",
      "Dell\n",
      "Samsung\n",
      "sucessfull\n"
     ]
    }
   ],
   "source": [
    "i = 0\n",
    "while i < len(computer_brands): # i < 4\n",
    "    print (computer_brands[i])\n",
    "    i = i + 1\n",
    "print('sucessfull')"
   ]
  },
  {
   "cell_type": "code",
   "execution_count": 21,
   "metadata": {},
   "outputs": [
    {
     "name": "stdout",
     "output_type": "stream",
     "text": [
      "Apple\n",
      "Asus\n",
      "Dell\n",
      "Samsung\n"
     ]
    }
   ],
   "source": [
    "computer_brands = [\"Apple\", \"Asus\", \"Dell\", \"Samsung\"]\n",
    "for brands in computer_brands:\n",
    "    print (brands)"
   ]
  },
  {
   "cell_type": "markdown",
   "metadata": {},
   "source": [
    "The pass Statement\n",
    "----------------------------\n",
    "for loops cannot be empty, but if you for some reason have a for loop with no content,\n",
    "put in the pass statement to avoid getting an error.\n"
   ]
  },
  {
   "cell_type": "code",
   "execution_count": 12,
   "metadata": {},
   "outputs": [],
   "source": [
    "for x in [1, 2, 3]:\n",
    "  pass"
   ]
  },
  {
   "cell_type": "code",
   "execution_count": 13,
   "metadata": {},
   "outputs": [
    {
     "name": "stdout",
     "output_type": "stream",
     "text": [
      "2\n",
      "4\n",
      "6\n",
      "8\n",
      "10\n",
      "12\n",
      "14\n",
      "16\n",
      "18\n",
      "20\n",
      "Bye\n"
     ]
    }
   ],
   "source": [
    "for i in range(1,21):\n",
    "    if(i%2!=0):\n",
    "       pass\n",
    "    else:\n",
    "        print(i)\n",
    "\n",
    "print(\"Bye\")"
   ]
  },
  {
   "cell_type": "markdown",
   "metadata": {},
   "source": [
    "The break Statement\n",
    "-----------------------------\n",
    "With the break statement we can stop the loop before it has looped through all the items:"
   ]
  },
  {
   "cell_type": "code",
   "execution_count": 14,
   "metadata": {},
   "outputs": [
    {
     "name": "stdout",
     "output_type": "stream",
     "text": [
      "iphone\n",
      "Samsung\n"
     ]
    }
   ],
   "source": [
    "mobiles = [\"iphone\", \"Samsung\", \"Motorola\"]\n",
    "for x in mobiles:\n",
    "  print(x)\n",
    "  if x == \"Samsung\":\n",
    "    break"
   ]
  },
  {
   "cell_type": "code",
   "execution_count": 15,
   "metadata": {},
   "outputs": [
    {
     "name": "stdout",
     "output_type": "stream",
     "text": [
      "iphone\n"
     ]
    }
   ],
   "source": [
    "mobiles = [\"iphone\", \"Samsung\", \"Motorola\"]\n",
    "for x in mobiles:\n",
    "  if x == \"Samsung\":\n",
    "    break\n",
    "  print(x)"
   ]
  },
  {
   "cell_type": "markdown",
   "metadata": {},
   "source": [
    "The continue Statement\n",
    "----------------------------------\n",
    "With the continue statement we can stop the current iteration of the loop, \n",
    "and continue with the next: "
   ]
  },
  {
   "cell_type": "code",
   "execution_count": 16,
   "metadata": {},
   "outputs": [
    {
     "name": "stdout",
     "output_type": "stream",
     "text": [
      "iphone\n",
      "Motorola\n"
     ]
    }
   ],
   "source": [
    "mobiles = [\"iphone\", \"Samsung\", \"Motorola\"]\n",
    "for x in mobiles:\n",
    "  if x == \"Samsung\":\n",
    "    continue\n",
    "  print(x)"
   ]
  },
  {
   "cell_type": "code",
   "execution_count": 22,
   "metadata": {},
   "outputs": [
    {
     "name": "stdout",
     "output_type": "stream",
     "text": [
      "How many cholates you want5\n",
      "Cholates\n",
      "Cholates\n",
      "Cholates\n",
      "Cholates\n",
      "Cholates\n"
     ]
    }
   ],
   "source": [
    "x=int(input(\"How many cholates you want\"))    \n",
    "\n",
    "i=1\n",
    "while i<=x:    \n",
    "    print(\"Cholates\")\n",
    "    i+=1"
   ]
  },
  {
   "cell_type": "code",
   "execution_count": 5,
   "metadata": {},
   "outputs": [
    {
     "name": "stdout",
     "output_type": "stream",
     "text": [
      "How many cholates you want7\n",
      "Cholates\n",
      "Cholates\n",
      "Cholates\n",
      "Cholates\n",
      "Cholates\n"
     ]
    }
   ],
   "source": [
    "#Break statement\n",
    "7\n",
    "x=int(input(\"How many cholates you want\"))    \n",
    "\n",
    "i=1\n",
    "while i<=x:\n",
    "    if i>c:\n",
    "        break\n",
    "    print(\"Cholates\")\n",
    "    i+=1"
   ]
  },
  {
   "cell_type": "code",
   "execution_count": null,
   "metadata": {},
   "outputs": [],
   "source": [
    "c=5\n",
    "x=int(input(\"How many cholates you want\"))    \n",
    "\n",
    "i=1\n",
    "while i<=x:\n",
    "    if i>c:\n",
    "        print(\"Out of Stock\")\n",
    "        break\n",
    "    print(\"Cholates\")\n",
    "    i+=1\n",
    "\n",
    "print(\"Bye\")"
   ]
  },
  {
   "cell_type": "code",
   "execution_count": 6,
   "metadata": {},
   "outputs": [
    {
     "name": "stdout",
     "output_type": "stream",
     "text": [
      "1\n",
      "2\n",
      "4\n",
      "7\n",
      "8\n",
      "Bye\n"
     ]
    }
   ],
   "source": [
    "for i in range(1, 10):\n",
    "    if i%3==0 or i%5==0:\n",
    "        continue\n",
    "    print(i)\n",
    "        \n",
    "print(\"Bye\")"
   ]
  },
  {
   "cell_type": "code",
   "execution_count": 5,
   "metadata": {},
   "outputs": [
    {
     "name": "stdout",
     "output_type": "stream",
     "text": [
      "1\n",
      "2\n",
      "3\n",
      "4\n",
      "5\n",
      "6\n",
      "7\n",
      "8\n",
      "9\n",
      "Bye\n"
     ]
    }
   ],
   "source": [
    "for i in range(1, 10):\n",
    "    if i%3==0 and i%5==0:\n",
    "        continue\n",
    "    print(i)\n",
    "        \n",
    "print(\"Bye\")"
   ]
  },
  {
   "cell_type": "code",
   "execution_count": 4,
   "metadata": {},
   "outputs": [
    {
     "name": "stdout",
     "output_type": "stream",
     "text": [
      "Current Letter : h\n",
      "Current Letter : k\n",
      "Current Letter : r\n"
     ]
    }
   ],
   "source": [
    "for letter in 'chakra': \n",
    "    if letter == 'c' or letter == 'a':\n",
    "         continue\n",
    "    print ('Current Letter :', letter)"
   ]
  },
  {
   "cell_type": "code",
   "execution_count": 23,
   "metadata": {},
   "outputs": [
    {
     "name": "stdout",
     "output_type": "stream",
     "text": [
      "Current Letter : a\n"
     ]
    }
   ],
   "source": [
    "for letter in 'chakra': \n",
    " # break the loop as soon it sees 'e' or 's'\n",
    "    if letter == 'e' or letter == 's':\n",
    "         break\n",
    "print ('Current Letter :', letter)  "
   ]
  },
  {
   "cell_type": "code",
   "execution_count": null,
   "metadata": {},
   "outputs": [],
   "source": []
  }
 ],
 "metadata": {
  "kernelspec": {
   "display_name": "Python 3",
   "language": "python",
   "name": "python3"
  },
  "language_info": {
   "codemirror_mode": {
    "name": "ipython",
    "version": 3
   },
   "file_extension": ".py",
   "mimetype": "text/x-python",
   "name": "python",
   "nbconvert_exporter": "python",
   "pygments_lexer": "ipython3",
   "version": "3.8.8"
  }
 },
 "nbformat": 4,
 "nbformat_minor": 2
}
