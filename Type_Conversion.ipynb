{
 "cells": [
  {
   "cell_type": "code",
   "execution_count": 1,
   "id": "6d615eb1",
   "metadata": {},
   "outputs": [
    {
     "data": {
      "text/plain": [
       "int"
      ]
     },
     "execution_count": 1,
     "metadata": {},
     "output_type": "execute_result"
    }
   ],
   "source": [
    "a=10\n",
    "type(a)"
   ]
  },
  {
   "cell_type": "code",
   "execution_count": 2,
   "id": "4c2bb0ba",
   "metadata": {},
   "outputs": [
    {
     "data": {
      "text/plain": [
       "str"
      ]
     },
     "execution_count": 2,
     "metadata": {},
     "output_type": "execute_result"
    }
   ],
   "source": [
    "a='abc'\n",
    "type(a)"
   ]
  },
  {
   "cell_type": "code",
   "execution_count": 3,
   "id": "d6a7f1db",
   "metadata": {},
   "outputs": [
    {
     "data": {
      "text/plain": [
       "int"
      ]
     },
     "execution_count": 3,
     "metadata": {},
     "output_type": "execute_result"
    }
   ],
   "source": [
    "a='10'\n",
    "type(int(a))"
   ]
  },
  {
   "cell_type": "code",
   "execution_count": 6,
   "id": "99908eaf",
   "metadata": {},
   "outputs": [
    {
     "name": "stdout",
     "output_type": "stream",
     "text": [
      "<class 'str'>\n"
     ]
    },
    {
     "data": {
      "text/plain": [
       "float"
      ]
     },
     "execution_count": 6,
     "metadata": {},
     "output_type": "execute_result"
    }
   ],
   "source": [
    "a='10.10'\n",
    "print(type(a))\n",
    "type(float(a))"
   ]
  },
  {
   "cell_type": "code",
   "execution_count": 5,
   "id": "651fdaf4",
   "metadata": {},
   "outputs": [
    {
     "data": {
      "text/plain": [
       "str"
      ]
     },
     "execution_count": 5,
     "metadata": {},
     "output_type": "execute_result"
    }
   ],
   "source": [
    "a=10\n",
    "type(str(a))"
   ]
  },
  {
   "cell_type": "code",
   "execution_count": 7,
   "id": "e0f2f705",
   "metadata": {},
   "outputs": [
    {
     "name": "stdout",
     "output_type": "stream",
     "text": [
      "My name is kumar,age is 34\n"
     ]
    }
   ],
   "source": [
    "#string display format\n",
    "name='kumar'\n",
    "age=34\n",
    "print('My name is {},age is {}'.format(name,age))"
   ]
  },
  {
   "cell_type": "code",
   "execution_count": null,
   "id": "92dc5f3a",
   "metadata": {},
   "outputs": [],
   "source": [
    "print('my name is {p}'.format(p='Raghu'))"
   ]
  },
  {
   "cell_type": "markdown",
   "id": "d20d34f5",
   "metadata": {},
   "source": [
    "%s - string\n",
    "%d - digit\n",
    "%r - Mask special characters"
   ]
  },
  {
   "cell_type": "code",
   "execution_count": 11,
   "id": "13323b1f",
   "metadata": {},
   "outputs": [
    {
     "name": "stdout",
     "output_type": "stream",
     "text": [
      "this name\n",
      "this name is Raghu\n"
     ]
    }
   ],
   "source": [
    "print('this %s'%('name'))\n",
    "print('this %s is %s'%('name','Raghu'))"
   ]
  },
  {
   "cell_type": "code",
   "execution_count": 16,
   "id": "df1772d9",
   "metadata": {},
   "outputs": [
    {
     "name": "stdout",
     "output_type": "stream",
     "text": [
      "I'm going to office\n"
     ]
    }
   ],
   "source": [
    "#print('I'm going to %s' %('office'))\n",
    "print(\"I'm going to %s\" %('office'))"
   ]
  },
  {
   "cell_type": "code",
   "execution_count": 18,
   "id": "09fecd22",
   "metadata": {},
   "outputs": [
    {
     "name": "stdout",
     "output_type": "stream",
     "text": [
      "I'm going to office\n",
      "I'm going to '%office'\n"
     ]
    }
   ],
   "source": [
    "print(\"I'm going to %s\" %('office'))\n",
    "print(\"I'm going to %r\" %('%office'))"
   ]
  },
  {
   "cell_type": "code",
   "execution_count": 19,
   "id": "9f3ced16",
   "metadata": {},
   "outputs": [
    {
     "name": "stdout",
     "output_type": "stream",
     "text": [
      "I wrote 3 programs today.\n"
     ]
    }
   ],
   "source": [
    "print('I wrote %d programs today.' %3.75)"
   ]
  },
  {
   "cell_type": "markdown",
   "id": "03e82ae4",
   "metadata": {},
   "source": [
    "\\t - tab space\n",
    "\\b - back space\n",
    "\\n - next line"
   ]
  },
  {
   "cell_type": "code",
   "execution_count": 27,
   "id": "8dd8b8af",
   "metadata": {},
   "outputs": [
    {
     "name": "stdout",
     "output_type": "stream",
     "text": [
      "my name is \thello\n",
      "I wrote \tSQL programs today.\n",
      "I wrote \t\tSQL programs today.\n",
      "my name is bingo\b\n",
      "my name is \n",
      "bingo\n"
     ]
    }
   ],
   "source": [
    "print('my name is \\thello')\n",
    "print('I wrote %s programs today.'%'\\tSQL')\n",
    "print('I wrote %s programs today.'%'\\t\\tSQL')\n",
    "print('my name is bingo\\b')\n",
    "print('my name is \\nbingo')"
   ]
  },
  {
   "cell_type": "code",
   "execution_count": null,
   "id": "a477f02f",
   "metadata": {},
   "outputs": [],
   "source": []
  }
 ],
 "metadata": {
  "kernelspec": {
   "display_name": "Python 3",
   "language": "python",
   "name": "python3"
  },
  "language_info": {
   "codemirror_mode": {
    "name": "ipython",
    "version": 3
   },
   "file_extension": ".py",
   "mimetype": "text/x-python",
   "name": "python",
   "nbconvert_exporter": "python",
   "pygments_lexer": "ipython3",
   "version": "3.8.8"
  }
 },
 "nbformat": 4,
 "nbformat_minor": 5
}
