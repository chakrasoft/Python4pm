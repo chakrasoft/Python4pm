{
 "cells": [
  {
   "cell_type": "markdown",
   "metadata": {},
   "source": [
    "# Inheritance"
   ]
  },
  {
   "cell_type": "markdown",
   "metadata": {},
   "source": [
    "Inheritance is the capability of one class to derive or inherit the properties \n",
    "from another class. The benefits of inheritance are:\n",
    "\n",
    "--It represents real-world relationships well.\n",
    "--It provides reusability of a code. We don’t have to write the same code again \n",
    "and again. Also, it allows us to add more features to a class without modifying it.\n",
    "--It is transitive in nature, which means that if class B inherits from another class A, \n",
    "then all the subclasses of B would automatically inherit from class A.\n",
    "\n",
    "1. Single inheritance: When a child class inherits from only one parent class, \n",
    "it is called as single inheritance. \n",
    "\n",
    "2. Multiple inheritance: When a child class inherits from multiple parent classes, \n",
    "it is called as multiple inheritance.\n",
    "\n",
    "3. Multilevel inheritance: When we have child and grand child relationship."
   ]
  },
  {
   "cell_type": "code",
   "execution_count": 1,
   "metadata": {},
   "outputs": [
    {
     "name": "stdout",
     "output_type": "stream",
     "text": [
      "Feature 1 working\n",
      "Feature 2 working\n"
     ]
    }
   ],
   "source": [
    "class A:  \n",
    "     \n",
    "    def feature1(self):  \n",
    "         print(\"Feature 1 working\") \n",
    "         \n",
    "    def feature2(self):  \n",
    "         print(\"Feature 2 working\")    \n",
    "\n",
    "a1=A()\n",
    "\n",
    "a1.feature1()\n",
    "a1.feature2()"
   ]
  },
  {
   "cell_type": "code",
   "execution_count": 3,
   "metadata": {},
   "outputs": [
    {
     "name": "stdout",
     "output_type": "stream",
     "text": [
      "Feature 1 working\n",
      "Feature 2 working\n",
      "Feature 1 working\n",
      "Feature 2 working\n",
      "Feature 3 working\n",
      "Feature 4 working\n"
     ]
    }
   ],
   "source": [
    "#########################Single level Inhertance##########################\n",
    "# parent class \n",
    "class A:  \n",
    "     \n",
    "    def feature1(self):  \n",
    "         print(\"Feature 1 working\") \n",
    "         \n",
    "    def feature2(self):  \n",
    "         print(\"Feature 2 working\")    \n",
    "\n",
    "# child class          \n",
    "class B(A):    # It is child class or subclass -> \n",
    "              #Class B is inheriting all the features from class A\n",
    "       \n",
    "    def feature3(self):  \n",
    "         print(\"Feature 3 working\") \n",
    "         \n",
    "    def feature4(self):  \n",
    "         print(\"Feature 4 working\")    \n",
    "\n",
    "# creation of an object variable or an instance          \n",
    "a1=A()\n",
    "\n",
    "# calling a function of the class feature1 using its instance \n",
    "a1.feature1()\n",
    "a1.feature2()\n",
    "\n",
    "b1=B()\n",
    "\n",
    "b1.feature1()\n",
    "b1.feature2()\n",
    "b1.feature3()\n",
    "b1.feature4()"
   ]
  },
  {
   "cell_type": "code",
   "execution_count": 1,
   "metadata": {},
   "outputs": [
    {
     "name": "stdout",
     "output_type": "stream",
     "text": [
      "Feature 1 working\n",
      "Feature 2 working\n",
      "Feature 3 working\n",
      "Feature 4 working\n",
      "Feature 5 working\n"
     ]
    }
   ],
   "source": [
    "class A:  \n",
    "     \n",
    "    def feature1(self):  \n",
    "         print(\"Feature 1 working\") \n",
    "         \n",
    "    def feature2(self):  \n",
    "         print(\"Feature 2 working\")    \n",
    "         \n",
    "class B(A):    # It is child class or subclass -> \n",
    "              #Class B is inheriting all the features from class A\n",
    "       \n",
    "    def feature3(self):  \n",
    "         print(\"Feature 3 working\") \n",
    "         \n",
    "    def feature4(self):  \n",
    "         print(\"Feature 4 working\")    \n",
    "\n",
    "         \n",
    "class C(B):     \n",
    "              #Class C is inheriting all the features from A and class B\n",
    "       \n",
    "    def feature5(self):  \n",
    "         print(\"Feature 5 working\") \n",
    "                  \n",
    "c1=C()\n",
    "\n",
    "c1.feature1()\n",
    "c1.feature2()\n",
    "c1.feature3()\n",
    "c1.feature4()\n",
    "c1.feature5()"
   ]
  },
  {
   "cell_type": "code",
   "execution_count": 5,
   "metadata": {},
   "outputs": [
    {
     "name": "stdout",
     "output_type": "stream",
     "text": [
      "Feature 1 working\n",
      "Feature 2 working\n",
      "Feature 3 working\n",
      "Feature 4 working\n",
      "Feature 5 working\n"
     ]
    },
    {
     "ename": "AttributeError",
     "evalue": "'B' object has no attribute 'feature1'",
     "output_type": "error",
     "traceback": [
      "\u001b[1;31m---------------------------------------------------------------------------\u001b[0m",
      "\u001b[1;31mAttributeError\u001b[0m                            Traceback (most recent call last)",
      "\u001b[1;32m<ipython-input-5-db9ad10c77c9>\u001b[0m in \u001b[0;36m<module>\u001b[1;34m\u001b[0m\n\u001b[0;32m     33\u001b[0m \u001b[0mb1\u001b[0m\u001b[1;33m=\u001b[0m\u001b[0mB\u001b[0m\u001b[1;33m(\u001b[0m\u001b[1;33m)\u001b[0m\u001b[1;33m\u001b[0m\u001b[1;33m\u001b[0m\u001b[0m\n\u001b[0;32m     34\u001b[0m \u001b[1;33m\u001b[0m\u001b[0m\n\u001b[1;32m---> 35\u001b[1;33m \u001b[0mb1\u001b[0m\u001b[1;33m.\u001b[0m\u001b[0mfeature1\u001b[0m\u001b[1;33m(\u001b[0m\u001b[1;33m)\u001b[0m\u001b[1;33m\u001b[0m\u001b[1;33m\u001b[0m\u001b[0m\n\u001b[0m\u001b[0;32m     36\u001b[0m \u001b[0mb1\u001b[0m\u001b[1;33m.\u001b[0m\u001b[0mfeature3\u001b[0m\u001b[1;33m(\u001b[0m\u001b[1;33m)\u001b[0m\u001b[1;33m\u001b[0m\u001b[1;33m\u001b[0m\u001b[0m\n\u001b[0;32m     37\u001b[0m \u001b[0mb1\u001b[0m\u001b[1;33m.\u001b[0m\u001b[0mfeature4\u001b[0m\u001b[1;33m(\u001b[0m\u001b[1;33m)\u001b[0m\u001b[1;33m\u001b[0m\u001b[1;33m\u001b[0m\u001b[0m\n",
      "\u001b[1;31mAttributeError\u001b[0m: 'B' object has no attribute 'feature1'"
     ]
    }
   ],
   "source": [
    "#######################Mutilple ##############################\n",
    "\n",
    "class A:  \n",
    "     \n",
    "    def feature1(self):  \n",
    "         print(\"Feature 1 working\") \n",
    "         \n",
    "    def feature2(self):  \n",
    "         print(\"Feature 2 working\")    \n",
    "         \n",
    "class B:    #Class B is not inheriting all the features from class A\n",
    "       \n",
    "    def feature3(self):  \n",
    "         print(\"Feature 3 working\") \n",
    "         \n",
    "    def feature4(self):  \n",
    "         print(\"Feature 4 working\") \n",
    " \n",
    "        \n",
    "class C(A,B):     \n",
    "              #Class C is inheriting all the features from A and class B\n",
    "       \n",
    "    def feature5(self):  \n",
    "         print(\"Feature 5 working\") \n",
    "                  \n",
    "c1=C()\n",
    "c1.feature1()\n",
    "c1.feature2()\n",
    "c1.feature3()\n",
    "c1.feature4()\n",
    "c1.feature5()\n",
    "\n",
    "b1=B() \n",
    "\n",
    "b1.feature1()\n",
    "b1.feature3()\n",
    "b1.feature4()"
   ]
  },
  {
   "cell_type": "code",
   "execution_count": 6,
   "metadata": {},
   "outputs": [
    {
     "name": "stdout",
     "output_type": "stream",
     "text": [
      "In A Init\n",
      "Feature 1 working\n",
      "Feature 2 working\n",
      "In A Init\n",
      "Feature 1 working\n",
      "Feature 2 working\n",
      "Feature 3 working\n",
      "Feature 4  working\n"
     ]
    }
   ],
   "source": [
    "#Constructor in Inheritance\n",
    "\n",
    "class A:  \n",
    "    def __init__(self):  \n",
    "        print(\"In A Init\")  \n",
    "    \n",
    "    def feature1(self):  \n",
    "         print(\"Feature 1 working\") \n",
    "         \n",
    "    def feature2(self):  \n",
    "         print(\"Feature 2 working\")    \n",
    "\n",
    "       \n",
    "class B(A):  \n",
    "        \n",
    "    def feature3(self):  \n",
    "         print(\"Feature 3 working\") \n",
    "         \n",
    "    def feature4(self):  \n",
    "         print(\"Feature 4  working\")    \n",
    "\n",
    "a1=A()   #A() is a constructor\n",
    "a1.feature1()\n",
    "a1.feature2()\n",
    "\n",
    "b1=B()\n",
    "b1.feature1()\n",
    "b1.feature2()\n",
    "b1.feature3()\n",
    "b1.feature4()"
   ]
  },
  {
   "cell_type": "code",
   "execution_count": 7,
   "metadata": {},
   "outputs": [
    {
     "name": "stdout",
     "output_type": "stream",
     "text": [
      "In A Init\n",
      "In B Init\n"
     ]
    }
   ],
   "source": [
    "class A:  \n",
    "    def __init__(self):  \n",
    "        print(\"In A Init\")  \n",
    "    \n",
    "    def feature1(self):  \n",
    "         print(\"Feature 1 working\") \n",
    "         \n",
    "    def feature2(self):  \n",
    "         print(\"Feature 2 working\")    \n",
    "\n",
    "#class B is subclass       \n",
    "class B(A): \n",
    "    \n",
    "    def __init__(self):  \n",
    "        print(\"In B Init\")  \n",
    "                \n",
    "    def feature3(self):  \n",
    "         print(\"Feature 3 working\") \n",
    "         \n",
    "    def feature4(self):  \n",
    "         print(\"Feature 4 working\")    \n",
    "\n",
    "a1=A()   #A() is a constructor\n",
    "b1=B()"
   ]
  },
  {
   "cell_type": "code",
   "execution_count": 8,
   "metadata": {},
   "outputs": [
    {
     "name": "stdout",
     "output_type": "stream",
     "text": [
      "In A Init\n",
      "In B Init\n"
     ]
    }
   ],
   "source": [
    "class A:  \n",
    "    def __init__(self):  \n",
    "        print(\"In A Init\")  \n",
    "    \n",
    "    def feature1(self):  \n",
    "         print(\"Feature 1 working\") \n",
    "         \n",
    "    def feature2(self):  \n",
    "         print(\"Feature 2 working\")    \n",
    "\n",
    "'''\n",
    "Additionally, we use the super() function inside the __init__() method. \n",
    "This allows us to run the __init__() method of the parent class inside \n",
    "the child class.\n",
    "'''\n",
    "class B(A):  \n",
    "    def __init__(self):  \n",
    "        super().__init__()  #Superclass will call both A and B init\n",
    "        print(\"In B Init\")  \n",
    "    \n",
    "    def feature1(self):  \n",
    "         print(\"Feature 1 working\") \n",
    "         \n",
    "    def feature4(self):  \n",
    "         print(\"Feature 4 working\")               \n",
    "\n",
    "b1=B() \n"
   ]
  },
  {
   "cell_type": "code",
   "execution_count": 9,
   "metadata": {},
   "outputs": [
    {
     "name": "stdout",
     "output_type": "stream",
     "text": [
      "In C Init\n"
     ]
    }
   ],
   "source": [
    "class A:  \n",
    "    def __init__(self):  \n",
    "        print(\"In A Init\")  \n",
    "    \n",
    "    def feature1(self):  \n",
    "         print(\"Feature 1 working\") \n",
    "         \n",
    "    def feature2(self):  \n",
    "         print(\"Feature 2 working\")    \n",
    "\n",
    "      \n",
    "class B:  \n",
    "    def __init__(self):  \n",
    "        print(\"In B Init\")  \n",
    "    \n",
    "    def feature1(self):  \n",
    "         print(\"Feature 1 working\") \n",
    "         \n",
    "    def feature4(self):  \n",
    "         print(\"Feature 4 working\")  \n",
    "         \n",
    "class C(A,B):  \n",
    "    def __init__(self):  \n",
    "        print(\"In C Init\")           \n",
    "\n",
    "c1=C() "
   ]
  },
  {
   "cell_type": "code",
   "execution_count": 10,
   "metadata": {},
   "outputs": [
    {
     "name": "stdout",
     "output_type": "stream",
     "text": [
      "In A Init\n",
      "In C Init\n"
     ]
    }
   ],
   "source": [
    "#################Method Resolution Order#################################\n",
    "class C(A,B):  \n",
    "    def __init__(self):  \n",
    "        super().__init__()\n",
    "        print(\"In C Init\") \n",
    "\n",
    "c1=C() "
   ]
  },
  {
   "cell_type": "code",
   "execution_count": 11,
   "metadata": {},
   "outputs": [
    {
     "name": "stdout",
     "output_type": "stream",
     "text": [
      "In B Init\n",
      "In C Init\n",
      "Feature 1 working\n"
     ]
    }
   ],
   "source": [
    "class C(B,A):  \n",
    "    def __init__(self):  \n",
    "        super().__init__()\n",
    "        print(\"In C Init\") \n",
    "\n",
    "c1=C() "
   ]
  },
  {
   "cell_type": "code",
   "execution_count": 12,
   "metadata": {},
   "outputs": [
    {
     "name": "stdout",
     "output_type": "stream",
     "text": [
      "30\n",
      "200\n",
      "0.5\n"
     ]
    }
   ],
   "source": [
    "class Calculation1:  \n",
    "    def Summation(self,a,b):  \n",
    "        return a+b;  \n",
    "class Calculation2:  \n",
    "    def Multiplication(self,a,b):  \n",
    "        return a*b;  \n",
    "class Derived(Calculation1,Calculation2):  \n",
    "    def Divide(self,a,b):  \n",
    "        return a/b;  \n",
    "\n",
    "d = Derived()  \n",
    "\n",
    "print(d.Summation(10,20))  \n",
    "print(d.Multiplication(10,20))  \n",
    "print(d.Divide(10,20))  "
   ]
  },
  {
   "cell_type": "code",
   "execution_count": 13,
   "metadata": {},
   "outputs": [
    {
     "name": "stdout",
     "output_type": "stream",
     "text": [
      "True\n",
      "False\n"
     ]
    }
   ],
   "source": [
    "'''The issubclass(sub, sup) method is used to check the relationships between \n",
    "the specified classes. It returns true if the first class is the subclass of \n",
    "the second class, and false otherwise.'''\n",
    "class Calculation1:  \n",
    "    def Summation(self,a,b):  \n",
    "        return a+b;  \n",
    "class Calculation2:  \n",
    "    def Multiplication(self,a,b):  \n",
    "        return a*b;  \n",
    "class Derived(Calculation1,Calculation2):  \n",
    "    def Divide(self,a,b):  \n",
    "        return a/b;  \n",
    "d = Derived()  \n",
    "print(issubclass(Derived,Calculation2))  \n",
    "print(issubclass(Calculation1,Calculation2))  \n"
   ]
  },
  {
   "cell_type": "code",
   "execution_count": 14,
   "metadata": {},
   "outputs": [
    {
     "name": "stdout",
     "output_type": "stream",
     "text": [
      "True\n"
     ]
    }
   ],
   "source": [
    "'''The isinstance() method is used to check the relationship between \n",
    "the objects and classes. It returns true if the first parameter, \n",
    "i.e., obj is the instance of the second parameter, i.e., class.'''\n",
    "\n",
    "\n",
    "class Calculation1:  \n",
    "    def Summation(self,a,b):  \n",
    "        return a+b;  \n",
    "class Calculation2:  \n",
    "    def Multiplication(self,a,b):  \n",
    "        return a*b;  \n",
    "class Derived(Calculation1,Calculation2):  \n",
    "    def Divide(self,a,b):  \n",
    "        return a/b;  \n",
    "d = Derived()  \n",
    "print(isinstance(d,Derived))  \n"
   ]
  },
  {
   "cell_type": "code",
   "execution_count": null,
   "metadata": {},
   "outputs": [],
   "source": [
    "s"
   ]
  }
 ],
 "metadata": {
  "kernelspec": {
   "display_name": "Python 3",
   "language": "python",
   "name": "python3"
  },
  "language_info": {
   "codemirror_mode": {
    "name": "ipython",
    "version": 3
   },
   "file_extension": ".py",
   "mimetype": "text/x-python",
   "name": "python",
   "nbconvert_exporter": "python",
   "pygments_lexer": "ipython3",
   "version": "3.8.8"
  }
 },
 "nbformat": 4,
 "nbformat_minor": 2
}
