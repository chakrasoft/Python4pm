{
 "cells": [
  {
   "cell_type": "markdown",
   "metadata": {},
   "source": [
    "# SETS"
   ]
  },
  {
   "cell_type": "markdown",
   "metadata": {},
   "source": [
    "Sets->Represented with {}\n",
    "Sets->Numeric, Character, Both numeric and character\n",
    "\n",
    "Types of sets:\n",
    "--------------------\n",
    "Normal sets -Mutable\n",
    "Frozen sets -Immutable\n",
    "\n",
    "Sets -> Automatically removes duplicates \n",
    "Sets -> Automatically Sort in assending order\n",
    "\n",
    "Sets -> \n",
    "Union -> Symbol(|) AUB -> All the records from set A and Set B\n",
    "Intersection -> Symbol(&) -> Common records from set A and Set B\n",
    "Diff -> symbol(-)  A-B Only records which are not common in A\n",
    "B-A Only records which are not common in B\n",
    "Symmetric diff -> symbol(^)\n",
    "A^B Only records which are not common in A and B\n",
    "\n",
    "Sets -> Functions \n",
    "\n",
    "Isdisjoint()\n",
    "Issuperset()\n",
    "Issubset()"
   ]
  },
  {
   "cell_type": "code",
   "execution_count": 1,
   "metadata": {},
   "outputs": [
    {
     "name": "stdout",
     "output_type": "stream",
     "text": [
      "<class 'dict'>\n",
      "<class 'tuple'>\n",
      "<class 'list'>\n",
      "<class 'set'>\n",
      "<class 'set'>\n",
      "{1, 2, 3, 4, 5, 6}\n"
     ]
    }
   ],
   "source": [
    "a={}\n",
    "print(type(a))\n",
    "\n",
    "b=()\n",
    "print(type(b))\n",
    "\n",
    "b=[]\n",
    "print(type(b))\n",
    "\n",
    "b=set()\n",
    "print(type(b))\n",
    "\n",
    "s1={1,2,3,5,4,1,6}\n",
    "print(type(s1))\n",
    "print(s1)"
   ]
  },
  {
   "cell_type": "code",
   "execution_count": 2,
   "metadata": {},
   "outputs": [
    {
     "name": "stdout",
     "output_type": "stream",
     "text": [
      "{'Chakra', 'Java', 'Python'}\n",
      "<class 'set'>\n",
      "{True, 'Chakra', 'male', 24, 60}\n"
     ]
    }
   ],
   "source": [
    "s2 = {\"Chakra\", \"Python\", \"Java\"}\n",
    "print(s2)\n",
    "s3 = {True, False, False}\n",
    "s4 = {\"Chakra\", 24, True, 60, \"male\"}\n",
    "print(type(s4))\n",
    "print(s4)"
   ]
  },
  {
   "cell_type": "code",
   "execution_count": 5,
   "metadata": {},
   "outputs": [
    {
     "data": {
      "text/plain": [
       "{1, 2, 3, 4, 5, 6, 7}"
      ]
     },
     "execution_count": 5,
     "metadata": {},
     "output_type": "execute_result"
    }
   ],
   "source": [
    "s1={1,2,3,5,4,1,6}\n",
    "s1.add(4)\n",
    "s1.add(7)\n",
    "s1"
   ]
  },
  {
   "cell_type": "markdown",
   "metadata": {},
   "source": [
    "Remove:\n",
    "------------\n",
    "remove() the element from the set only if the element is present in the set \n",
    "If the element is not present in the set, then an error or exception is raised\n",
    "Discard:\n",
    "-----------\n",
    "discard() method does but If the element is not present in the set, "
   ]
  },
  {
   "cell_type": "code",
   "execution_count": 1,
   "metadata": {},
   "outputs": [
    {
     "name": "stdout",
     "output_type": "stream",
     "text": [
      "{1, 2, 3, 4, 5}\n",
      "{1, 2, 3, 4}\n"
     ]
    },
    {
     "ename": "KeyError",
     "evalue": "5",
     "output_type": "error",
     "traceback": [
      "\u001b[1;31m---------------------------------------------------------------------------\u001b[0m",
      "\u001b[1;31mKeyError\u001b[0m                                  Traceback (most recent call last)",
      "\u001b[1;32m<ipython-input-1-16f66373384c>\u001b[0m in \u001b[0;36m<module>\u001b[1;34m\u001b[0m\n\u001b[0;32m      6\u001b[0m \u001b[0mprint\u001b[0m\u001b[1;33m(\u001b[0m\u001b[0ms1\u001b[0m\u001b[1;33m)\u001b[0m\u001b[1;33m\u001b[0m\u001b[1;33m\u001b[0m\u001b[0m\n\u001b[0;32m      7\u001b[0m \u001b[1;33m\u001b[0m\u001b[0m\n\u001b[1;32m----> 8\u001b[1;33m \u001b[0ms1\u001b[0m\u001b[1;33m.\u001b[0m\u001b[0mremove\u001b[0m\u001b[1;33m(\u001b[0m\u001b[1;36m5\u001b[0m\u001b[1;33m)\u001b[0m\u001b[1;33m\u001b[0m\u001b[1;33m\u001b[0m\u001b[0m\n\u001b[0m\u001b[0;32m      9\u001b[0m \u001b[0mprint\u001b[0m\u001b[1;33m(\u001b[0m\u001b[0ms1\u001b[0m\u001b[1;33m)\u001b[0m\u001b[1;33m\u001b[0m\u001b[1;33m\u001b[0m\u001b[0m\n",
      "\u001b[1;31mKeyError\u001b[0m: 5"
     ]
    }
   ],
   "source": [
    "s1={1,2,3,5,4,1,6}\n",
    "s1.remove(6)\n",
    "print(s1)\n",
    "\n",
    "s1.remove(5)\n",
    "print(s1)\n",
    "\n",
    "s1.remove(5)\n",
    "print(s1)\n"
   ]
  },
  {
   "cell_type": "code",
   "execution_count": 3,
   "metadata": {},
   "outputs": [
    {
     "name": "stdout",
     "output_type": "stream",
     "text": [
      "{1, 2, 3, 4, 5}\n"
     ]
    }
   ],
   "source": [
    "s1={1,2,3,5,4,1,6}\n",
    "s1.discard(6)\n",
    "print(s1)\n",
    "\n",
    "\n"
   ]
  },
  {
   "cell_type": "code",
   "execution_count": 4,
   "metadata": {},
   "outputs": [
    {
     "name": "stdout",
     "output_type": "stream",
     "text": [
      "{1, 2, 3, 4, 5}\n"
     ]
    }
   ],
   "source": [
    "s1.discard(6)\n",
    "print(s1)"
   ]
  },
  {
   "cell_type": "code",
   "execution_count": 7,
   "metadata": {},
   "outputs": [
    {
     "name": "stdout",
     "output_type": "stream",
     "text": [
      "frozenset({5, 6, 7, 8, 9})\n"
     ]
    },
    {
     "data": {
      "text/plain": [
       "frozenset"
      ]
     },
     "execution_count": 7,
     "metadata": {},
     "output_type": "execute_result"
    }
   ],
   "source": [
    "s2=frozenset({6,7,8,9,5,6})\n",
    "print(s2)\n",
    "type(s2)\n"
   ]
  },
  {
   "cell_type": "code",
   "execution_count": 8,
   "metadata": {},
   "outputs": [
    {
     "ename": "AttributeError",
     "evalue": "'frozenset' object has no attribute 'add'",
     "output_type": "error",
     "traceback": [
      "\u001b[1;31m---------------------------------------------------------------------------\u001b[0m",
      "\u001b[1;31mAttributeError\u001b[0m                            Traceback (most recent call last)",
      "\u001b[1;32m<ipython-input-8-52503231e75d>\u001b[0m in \u001b[0;36m<module>\u001b[1;34m\u001b[0m\n\u001b[1;32m----> 1\u001b[1;33m \u001b[0ms2\u001b[0m\u001b[1;33m.\u001b[0m\u001b[0madd\u001b[0m\u001b[1;33m(\u001b[0m\u001b[1;36m1\u001b[0m\u001b[1;33m)\u001b[0m\u001b[1;33m\u001b[0m\u001b[1;33m\u001b[0m\u001b[0m\n\u001b[0m\u001b[0;32m      2\u001b[0m \u001b[0ms2\u001b[0m\u001b[1;33m\u001b[0m\u001b[1;33m\u001b[0m\u001b[0m\n",
      "\u001b[1;31mAttributeError\u001b[0m: 'frozenset' object has no attribute 'add'"
     ]
    }
   ],
   "source": [
    "s2.add(1)\n",
    "s2"
   ]
  },
  {
   "cell_type": "code",
   "execution_count": 7,
   "metadata": {},
   "outputs": [
    {
     "name": "stdout",
     "output_type": "stream",
     "text": [
      "{'hello King', 'hello World'}\n",
      "{'hello World', 'hello king'}\n",
      "{'hello world', 'hello king'}\n",
      "{'abc', 'ABC'}\n"
     ]
    }
   ],
   "source": [
    "s1={\"hello World\",\"hello King\"}\n",
    "print(s1)\n",
    "s1={\"hello World\",\"hello king\"}\n",
    "print(s1)\n",
    "s1={\"hello world\",\"hello king\"}\n",
    "print(s1)\n",
    "s1={\"abc\",\"ABC\"}\n",
    "print(s1)"
   ]
  },
  {
   "cell_type": "code",
   "execution_count": 9,
   "metadata": {},
   "outputs": [
    {
     "name": "stdout",
     "output_type": "stream",
     "text": [
      "hello King\n",
      "{'hello world'}\n",
      "ef\n",
      "{'cd', 'gh', 'ab'}\n",
      "B\n",
      "{'A', 'C'}\n",
      "b\n",
      "{'c', 'a'}\n",
      "c\n",
      "['a', 'b']\n",
      "b\n",
      "['a']\n"
     ]
    }
   ],
   "source": [
    "s1={\"hello world\",\"hello King\"}\n",
    "print(s1)\n",
    "print(s1.pop())\n",
    "\n",
    "\n",
    "s2={\"ab\",\"cd\",\"ef\",\"gh\"}\n",
    "print(s2.pop())\n",
    "print(s2)\n",
    "\n",
    "s3={\"A\",\"B\",\"C\"}\n",
    "print(s3.pop())\n",
    "print(s3)\n",
    "\n",
    "s4={\"a\",\"b\",\"c\"}\n",
    "print(s4.pop())\n",
    "print(s4)\n",
    "\n",
    "s5=['a','b','c']\n",
    "print(s5.pop())\n",
    "print(s5)\n",
    "print(s5.pop())\n",
    "print(s5)\n"
   ]
  },
  {
   "cell_type": "code",
   "execution_count": 11,
   "metadata": {},
   "outputs": [
    {
     "name": "stdout",
     "output_type": "stream",
     "text": [
      "1\n",
      "{2, 3, 4, 5}\n",
      "2\n",
      "{3, 4, 5}\n"
     ]
    }
   ],
   "source": [
    "s6={1,2,3,1,2,4,5}\n",
    "print(s6.pop())\n",
    "print(s6)\n",
    "print(s6.pop())\n",
    "print(s6)"
   ]
  },
  {
   "cell_type": "code",
   "execution_count": 11,
   "metadata": {},
   "outputs": [
    {
     "name": "stdout",
     "output_type": "stream",
     "text": [
      "{1, 2, 3, 4, 5, 6, 7, 8}\n",
      "{1, 2, 3, 4, 5, 6, 8}\n"
     ]
    }
   ],
   "source": [
    "s1={1,2,3,4,5}\n",
    "s1.update({6,7,8})\n",
    "print(s1)\n",
    "\n",
    "# add list and set\n",
    "s1={1,2,3,4}\n",
    "s1.update([4,5],[1,6,8])\n",
    "print(s1)"
   ]
  },
  {
   "cell_type": "code",
   "execution_count": null,
   "metadata": {},
   "outputs": [],
   "source": []
  },
  {
   "cell_type": "code",
   "execution_count": 39,
   "metadata": {},
   "outputs": [
    {
     "data": {
      "text/plain": [
       "set()"
      ]
     },
     "execution_count": 39,
     "metadata": {},
     "output_type": "execute_result"
    }
   ],
   "source": [
    "#clear\n",
    "s1={1,2,3,4,5}\n",
    "s1.clear()\n",
    "s1"
   ]
  },
  {
   "cell_type": "code",
   "execution_count": 33,
   "metadata": {},
   "outputs": [
    {
     "data": {
      "text/plain": [
       "{1, 2, 3, 4, 5, 6, 7, 8, 9}"
      ]
     },
     "execution_count": 33,
     "metadata": {},
     "output_type": "execute_result"
    }
   ],
   "source": [
    "s1={1,2,3,4,5,7}\n",
    "s2={4,5,6,7,8,9}\n",
    "\n",
    "#union\n",
    "s1.union(s2)  #s2.union(s1)\n",
    "s1 | s2\n",
    "s3=s1.union(s2)\n",
    "s3"
   ]
  },
  {
   "cell_type": "code",
   "execution_count": 34,
   "metadata": {},
   "outputs": [
    {
     "data": {
      "text/plain": [
       "{4, 5}"
      ]
     },
     "execution_count": 34,
     "metadata": {},
     "output_type": "execute_result"
    }
   ],
   "source": [
    "#intersection\n",
    "s1={1,2,3,4,5}\n",
    "s2={4,5,6,7,8,9}\n",
    "\n",
    "s1 & s2\n",
    "s1.intersection(s2)\n",
    "s3=s1.intersection(s2)\n",
    "s3"
   ]
  },
  {
   "cell_type": "code",
   "execution_count": 36,
   "metadata": {},
   "outputs": [
    {
     "name": "stdout",
     "output_type": "stream",
     "text": [
      "{1, 2, 3}\n",
      "{8, 9, 6, 7}\n"
     ]
    }
   ],
   "source": [
    "# difference\n",
    "s1={1,2,3,4,5}\n",
    "s2={4,5,6,7,8,9}\n",
    "\n",
    "s1.difference(s2)\n",
    "s3=s1.difference(s2)\n",
    "s3=s1-s2\n",
    "s4=s2-s1\n",
    "print(s3)\n",
    "print(s4)"
   ]
  },
  {
   "cell_type": "code",
   "execution_count": 9,
   "metadata": {},
   "outputs": [
    {
     "name": "stdout",
     "output_type": "stream",
     "text": [
      "{1}\n",
      "{4}\n",
      "{1}\n",
      "set()\n"
     ]
    }
   ],
   "source": [
    "s1={1,2,3}\n",
    "s2={2,3,4}\n",
    "s3={3,4,5}\n",
    "s4=s1.difference(s2)\n",
    "s5=s2.difference(s1)\n",
    "s6=s1.difference(s2,s3)\n",
    "s7=s2.difference(s1,s3)\n",
    "print(s4)\n",
    "print(s5)\n",
    "print(s6)\n",
    "print(s7)"
   ]
  },
  {
   "cell_type": "code",
   "execution_count": 12,
   "metadata": {},
   "outputs": [
    {
     "name": "stdout",
     "output_type": "stream",
     "text": [
      "{5}\n"
     ]
    }
   ],
   "source": [
    "s1={1,2,3}\n",
    "s2={2,3,4}\n",
    "s3={3,4,5}\n",
    "s9=s3.difference(s1,s2)\n",
    "print(s9)"
   ]
  },
  {
   "cell_type": "code",
   "execution_count": 38,
   "metadata": {},
   "outputs": [
    {
     "name": "stdout",
     "output_type": "stream",
     "text": [
      "{1, 4}\n"
     ]
    }
   ],
   "source": [
    "s1={1,2,3}\n",
    "s2={2,3,4}\n",
    "s3={3,4,5}\n",
    "#s4=s1.symmetric_difference(s2,s3)\n",
    "s4=s1.symmetric_difference(s2)\n",
    "s4=s1 ^ s2 \n",
    "print(s4)"
   ]
  },
  {
   "cell_type": "code",
   "execution_count": 40,
   "metadata": {},
   "outputs": [
    {
     "data": {
      "text/plain": [
       "False"
      ]
     },
     "execution_count": 40,
     "metadata": {},
     "output_type": "execute_result"
    }
   ],
   "source": [
    "s1={1}\n",
    "s2={2}\n",
    "s1>s2  "
   ]
  },
  {
   "cell_type": "code",
   "execution_count": 42,
   "metadata": {},
   "outputs": [
    {
     "data": {
      "text/plain": [
       "False"
      ]
     },
     "execution_count": 42,
     "metadata": {},
     "output_type": "execute_result"
    }
   ],
   "source": [
    "#Isdisjoint - Determines whether or not two sets have any elements in common.\n",
    "#x1.isdisjoint(x2) returns True if x1 and x2 have no elements in common:\n",
    "\n",
    "x1 = {'foo', 'bar', 'baz'}\n",
    "x2 = {'baz', 'qux', 'quux'}\n",
    "x1.isdisjoint(x2)\n"
   ]
  },
  {
   "cell_type": "code",
   "execution_count": 13,
   "metadata": {},
   "outputs": [
    {
     "data": {
      "text/plain": [
       "False"
      ]
     },
     "execution_count": 13,
     "metadata": {},
     "output_type": "execute_result"
    }
   ],
   "source": [
    "x1 = {'foo', 'bar', 'baz'}\n",
    "x2 = {'foo', 'bar', 'baz'}\n",
    "x1.isdisjoint(x2)"
   ]
  },
  {
   "cell_type": "code",
   "execution_count": 44,
   "metadata": {},
   "outputs": [
    {
     "data": {
      "text/plain": [
       "True"
      ]
     },
     "execution_count": 44,
     "metadata": {},
     "output_type": "execute_result"
    }
   ],
   "source": [
    "x1 = {'foo', 'bar', 'bai'}\n",
    "x2 = {'baz', 'qux', 'quux'}\n",
    "x1.isdisjoint(x2)"
   ]
  },
  {
   "cell_type": "code",
   "execution_count": 45,
   "metadata": {},
   "outputs": [
    {
     "data": {
      "text/plain": [
       "True"
      ]
     },
     "execution_count": 45,
     "metadata": {},
     "output_type": "execute_result"
    }
   ],
   "source": [
    "x1 = {1, 3, 5}\n",
    "x2 = {2, 4, 6}\n",
    "\n",
    "x1.isdisjoint(x2)"
   ]
  },
  {
   "cell_type": "code",
   "execution_count": 46,
   "metadata": {},
   "outputs": [
    {
     "data": {
      "text/plain": [
       "True"
      ]
     },
     "execution_count": 46,
     "metadata": {},
     "output_type": "execute_result"
    }
   ],
   "source": [
    "#x1.issubset(x2) and x1 <= x2 return True \n",
    "#if x1 is a subset of x2:\n",
    "\n",
    "x1 = {'foo', 'bar', 'baz'}\n",
    "x1.issubset({'foo', 'bar', 'baz', 'qux', 'quux'})\n"
   ]
  },
  {
   "cell_type": "code",
   "execution_count": 47,
   "metadata": {},
   "outputs": [
    {
     "data": {
      "text/plain": [
       "False"
      ]
     },
     "execution_count": 47,
     "metadata": {},
     "output_type": "execute_result"
    }
   ],
   "source": [
    "#set x1 is considered a subset of another \n",
    "#set x2 if every element of x1 is in x2.\n",
    "\n",
    "x2 = {'baz', 'qux', 'quux'}\n",
    "x1 <= x2"
   ]
  },
  {
   "cell_type": "code",
   "execution_count": 48,
   "metadata": {},
   "outputs": [
    {
     "data": {
      "text/plain": [
       "True"
      ]
     },
     "execution_count": 48,
     "metadata": {},
     "output_type": "execute_result"
    }
   ],
   "source": [
    "#A set is considered to be a subset of itself:\n",
    "\n",
    "x = {1, 2, 3, 4, 5}\n",
    "x.issubset(x)"
   ]
  },
  {
   "cell_type": "code",
   "execution_count": 49,
   "metadata": {},
   "outputs": [
    {
     "data": {
      "text/plain": [
       "True"
      ]
     },
     "execution_count": 49,
     "metadata": {},
     "output_type": "execute_result"
    }
   ],
   "source": [
    "'''\n",
    "A proper subset is the same as a subset, except that the sets \n",
    "can’t be identical. A set x1 is considered a proper subset \n",
    "of another set x2 if every element of x1 is in x2, \n",
    "and x1 and x2 are not equal.\n",
    "\n",
    "x1 < x2 returns True if x1 is a proper subset of x2:\n",
    "'''\n",
    "\n",
    "x1 = {'foo', 'bar'}\n",
    "x2 = {'foo', 'bar', 'baz'}\n",
    "x1 < x2"
   ]
  },
  {
   "cell_type": "code",
   "execution_count": 50,
   "metadata": {},
   "outputs": [
    {
     "data": {
      "text/plain": [
       "False"
      ]
     },
     "execution_count": 50,
     "metadata": {},
     "output_type": "execute_result"
    }
   ],
   "source": [
    "x1 = {'foo', 'bar', 'baz'}\n",
    "x2 = {'foo', 'bar', 'baz'}\n",
    "x1 < x2"
   ]
  },
  {
   "cell_type": "code",
   "execution_count": 51,
   "metadata": {},
   "outputs": [
    {
     "data": {
      "text/plain": [
       "True"
      ]
     },
     "execution_count": 51,
     "metadata": {},
     "output_type": "execute_result"
    }
   ],
   "source": [
    "'''\n",
    "A superset is the reverse of a subset. \n",
    "A set x1 is considered a superset of another set x2 \n",
    "if x1 contains every element of x2.\n",
    "\n",
    "x1.issuperset(x2) and x1 >= x2 return True \n",
    "if x1 is a superset of x2:\n",
    "'''\n",
    "\n",
    "x1 = {'foo', 'bar', 'baz'}\n",
    "x1.issuperset({'foo', 'bar'})"
   ]
  },
  {
   "cell_type": "code",
   "execution_count": null,
   "metadata": {},
   "outputs": [],
   "source": []
  }
 ],
 "metadata": {
  "kernelspec": {
   "display_name": "Python 3",
   "language": "python",
   "name": "python3"
  },
  "language_info": {
   "codemirror_mode": {
    "name": "ipython",
    "version": 3
   },
   "file_extension": ".py",
   "mimetype": "text/x-python",
   "name": "python",
   "nbconvert_exporter": "python",
   "pygments_lexer": "ipython3",
   "version": "3.8.8"
  }
 },
 "nbformat": 4,
 "nbformat_minor": 2
}
