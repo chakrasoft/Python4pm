{
 "cells": [
  {
   "cell_type": "markdown",
   "id": "be4fbdf5",
   "metadata": {},
   "source": [
    "'''\n",
    "A decorator is a design pattern in Python that allows a user to \n",
    "add new functionality to an existing object without modifying its structure. \n",
    "Decorators are usually called before the definition of a function you want to decorate.\n",
    "\n",
    "#Parameter to add another function\n",
    "#Nested function \n",
    "#Function return function\n",
    "#Reference\n",
    "#Function as parameter\n",
    "'''"
   ]
  },
  {
   "cell_type": "code",
   "execution_count": 2,
   "id": "aa705809",
   "metadata": {},
   "outputs": [
    {
     "name": "stdout",
     "output_type": "stream",
     "text": [
      "function2 call function1\n",
      "function1\n"
     ]
    }
   ],
   "source": [
    "#####################Nested function #####################\n",
    "def funct1():\n",
    "    print(\"function1\")\n",
    "    \n",
    "def funct2(func):     #func -> reference to the function\n",
    "    print(\"function2 call function1\")\n",
    "    func()\n",
    "    \n",
    "funct2(funct1)"
   ]
  },
  {
   "cell_type": "code",
   "execution_count": null,
   "id": "601a6029",
   "metadata": {},
   "outputs": [],
   "source": [
    "#####################simple Function return function#####################\n",
    "def print_str():\n",
    "    return \"Good morning\"\n",
    "    \n",
    "print(print_str())"
   ]
  },
  {
   "cell_type": "code",
   "execution_count": 3,
   "id": "f889879b",
   "metadata": {},
   "outputs": [
    {
     "name": "stdout",
     "output_type": "stream",
     "text": [
      "Good morning\n",
      "GOOD MORNING\n"
     ]
    }
   ],
   "source": [
    "#####Func reference#########def decorator func####Changing to upper case####\n",
    "def str_upper(func):\n",
    "    def inner():\n",
    "        str1=func()\n",
    "        return str1.upper()\n",
    "    return inner  #calling the function or returning the function \n",
    "\n",
    "def print_str():\n",
    "    return \"Good morning\"\n",
    "    \n",
    "print(print_str())\n",
    "\n",
    "d=str_upper(print_str)   #use @str_upper instead\n",
    "print(d())"
   ]
  },
  {
   "cell_type": "code",
   "execution_count": 4,
   "id": "00dac2c6",
   "metadata": {},
   "outputs": [
    {
     "name": "stdout",
     "output_type": "stream",
     "text": [
      "GOOD MORNING\n"
     ]
    }
   ],
   "source": [
    "#########################Decorator#####################################\n",
    "def str_upper(func):\n",
    "    def inner():\n",
    "        str1=func()\n",
    "        return str1.upper()\n",
    "    return inner\n",
    "\n",
    "@str_upper\n",
    "def print_str():\n",
    "    return \"Good morning\"\n",
    "    \n",
    "print(print_str())"
   ]
  },
  {
   "cell_type": "code",
   "execution_count": 1,
   "id": "47055e5e",
   "metadata": {},
   "outputs": [
    {
     "name": "stdout",
     "output_type": "stream",
     "text": [
      "User name is: Surya\n"
     ]
    }
   ],
   "source": [
    "def checkname(method):\n",
    "    def inner(name_ref):\n",
    "        if name_ref.name==\"chakra\":\n",
    "            print(\"Name is same\")\n",
    "        else:\n",
    "            method(name_ref)\n",
    "    return inner\n",
    "        \n",
    "class MyDecorator:\n",
    "    def __init__(self, name):\n",
    "        self.name = name\n",
    "    \n",
    "    @checkname\n",
    "    def print_name(self):\n",
    "        print(\"User name is:\",self.name)\n",
    "\n",
    "p=MyDecorator(\"Surya\")\n",
    "p.print_name()"
   ]
  },
  {
   "cell_type": "code",
   "execution_count": 7,
   "id": "a8c796a7",
   "metadata": {},
   "outputs": [
    {
     "name": "stdout",
     "output_type": "stream",
     "text": [
      "Function: daily_backup\n",
      "Run on: 2022-06-15 17:15:29\n",
      "----------\n",
      "Daily backup job has finished.\n"
     ]
    }
   ],
   "source": [
    "from datetime import datetime\n",
    "\n",
    "\n",
    "def log_datetime(func):\n",
    "    '''Log the date and time of a function'''\n",
    "\n",
    "    def wrapper():\n",
    "        print(f'Function: {func.__name__}\\nRun on: {datetime.today().strftime(\"%Y-%m-%d %H:%M:%S\")}')\n",
    "        print(f'{\"-\"*30}')  #-----display------\n",
    "        func()\n",
    "    return wrapper\n",
    "\n",
    "\n",
    "@log_datetime\n",
    "def daily_backup():\n",
    "\n",
    "    print('Daily backup job has finished.')   \n",
    "\n",
    "     \n",
    "daily_backup()\n"
   ]
  },
  {
   "cell_type": "code",
   "execution_count": null,
   "id": "9c495183",
   "metadata": {},
   "outputs": [],
   "source": []
  }
 ],
 "metadata": {
  "kernelspec": {
   "display_name": "Python 3",
   "language": "python",
   "name": "python3"
  },
  "language_info": {
   "codemirror_mode": {
    "name": "ipython",
    "version": 3
   },
   "file_extension": ".py",
   "mimetype": "text/x-python",
   "name": "python",
   "nbconvert_exporter": "python",
   "pygments_lexer": "ipython3",
   "version": "3.8.8"
  }
 },
 "nbformat": 4,
 "nbformat_minor": 5
}
