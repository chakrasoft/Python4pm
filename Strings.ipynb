{
 "cells": [
  {
   "cell_type": "markdown",
   "metadata": {},
   "source": [
    "# Strings"
   ]
  },
  {
   "cell_type": "code",
   "execution_count": 1,
   "metadata": {},
   "outputs": [
    {
     "name": "stdout",
     "output_type": "stream",
     "text": [
      "<class 'str'>\n"
     ]
    },
    {
     "data": {
      "text/plain": [
       "str"
      ]
     },
     "execution_count": 1,
     "metadata": {},
     "output_type": "execute_result"
    }
   ],
   "source": [
    "s1='10'\n",
    "s2='xyz'\n",
    "s3='hyd-72'\n",
    "print(type(s1))\n",
    "type('10')"
   ]
  },
  {
   "cell_type": "code",
   "execution_count": 2,
   "metadata": {},
   "outputs": [
    {
     "name": "stdout",
     "output_type": "stream",
     "text": [
      "h\n",
      "era\n",
      "a\n",
      "derabad.mumbai\n",
      "hy\n",
      "mumba\n"
     ]
    },
    {
     "ename": "TypeError",
     "evalue": "'str' object does not support item assignment",
     "output_type": "error",
     "traceback": [
      "\u001b[1;31m---------------------------------------------------------------------------\u001b[0m",
      "\u001b[1;31mTypeError\u001b[0m                                 Traceback (most recent call last)",
      "\u001b[1;32m<ipython-input-2-4b4df3a16789>\u001b[0m in \u001b[0;36m<module>\u001b[1;34m\u001b[0m\n\u001b[0;32m     14\u001b[0m \u001b[0ma\u001b[0m\u001b[1;33m=\u001b[0m\u001b[0mst1\u001b[0m\u001b[1;33m[\u001b[0m\u001b[1;33m-\u001b[0m\u001b[1;36m6\u001b[0m\u001b[1;33m:\u001b[0m\u001b[1;33m-\u001b[0m\u001b[1;36m1\u001b[0m\u001b[1;33m]\u001b[0m   \u001b[1;31m# return string from -6 index to -2 index\u001b[0m\u001b[1;33m\u001b[0m\u001b[1;33m\u001b[0m\u001b[0m\n\u001b[0;32m     15\u001b[0m \u001b[0mprint\u001b[0m\u001b[1;33m(\u001b[0m\u001b[0ma\u001b[0m\u001b[1;33m)\u001b[0m\u001b[1;33m\u001b[0m\u001b[1;33m\u001b[0m\u001b[0m\n\u001b[1;32m---> 16\u001b[1;33m \u001b[0ma\u001b[0m\u001b[1;33m=\u001b[0m\u001b[0mst1\u001b[0m\u001b[1;33m[\u001b[0m\u001b[1;36m3\u001b[0m\u001b[1;33m]\u001b[0m \u001b[1;33m=\u001b[0m \u001b[1;34m'77'\u001b[0m  \u001b[1;31m# string variable doesn't support to edit the values at specific index.\u001b[0m\u001b[1;33m\u001b[0m\u001b[1;33m\u001b[0m\u001b[0m\n\u001b[0m\u001b[0;32m     17\u001b[0m \u001b[0mprint\u001b[0m\u001b[1;33m(\u001b[0m\u001b[0ma\u001b[0m\u001b[1;33m)\u001b[0m\u001b[1;33m\u001b[0m\u001b[1;33m\u001b[0m\u001b[0m\n",
      "\u001b[1;31mTypeError\u001b[0m: 'str' object does not support item assignment"
     ]
    }
   ],
   "source": [
    "# slicing on strings by using indexes whcih starts from 0 for forwad direction and\n",
    "# for backward direction indexe starts from -1\n",
    "st1='hyderabad.mumbai'\n",
    "a=st1[0]       # return first value in the string\n",
    "print(a)\n",
    "a=st1[3:6]     # return the values from index 3 to index 5 (end index not include)\n",
    "print(a)\n",
    "a=st1[-2]      # return value from last 2 nd as its backward reading\n",
    "print(a)\n",
    "a=st1[2:]      # return all the values from index 2 till end of the string\n",
    "print(a)\n",
    "a=st1[:2]  \n",
    "print(a)\n",
    "a=st1[-6:-1]   # return string from -6 index to -2 index\n",
    "print(a)\n",
    "a=st1[3] = '77'  # string variable doesn't support to edit the values at specific index. \n",
    "print(a)"
   ]
  },
  {
   "cell_type": "code",
   "execution_count": 1,
   "metadata": {},
   "outputs": [
    {
     "name": "stdout",
     "output_type": "stream",
     "text": [
      "16\n",
      "16\n",
      "Hyderabad.mumbai\n",
      "HYDERABAD.MUMBAI\n",
      "hyderabad.mumbai\n",
      "  hyderabad.mumbai \n",
      "  hyderabad.mumbai  \n",
      "@@hyderabad.mumbai@@\n",
      "0000hyderabad.mumbai\n",
      "00000000000000008765\n"
     ]
    }
   ],
   "source": [
    "st1='hyderabad.mumbai'\n",
    "a=len('hyderabad.mumbai')\n",
    "print(a)\n",
    "print(len('hyderabad.mumbai'))\n",
    "a=st1.capitalize()\n",
    "print(a)\n",
    "a=st1.upper()\n",
    "print(a)\n",
    "a=st1.lower()\n",
    "print(a)\n",
    "a=st1.center(19)\n",
    "print(a)\n",
    "a=st1.center(20)\n",
    "print(a)\n",
    "a=st1.center(20,'@')\n",
    "print(a)\n",
    "a=st1.zfill(20)\n",
    "print(a)\n",
    "t='8765'\n",
    "a=t.zfill(20)\n",
    "print(a)"
   ]
  },
  {
   "cell_type": "code",
   "execution_count": 13,
   "metadata": {},
   "outputs": [
    {
     "name": "stdout",
     "output_type": "stream",
     "text": [
      "3\n",
      "0\n",
      "2\n",
      "-1\n",
      "-1\n",
      "1\n",
      "4\n"
     ]
    }
   ],
   "source": [
    "st1='hyyyderabad.mumbai'\n",
    "a=st1.count('a') # return no of times substring repeation in main string.\n",
    "print(a)\n",
    "a=st1.count('k') # return no of times substring repeation in main string.\n",
    "print(a)\n",
    "a=st1.count('y',1,3)  # count substring only in mentioned range\n",
    "print(a)\n",
    "\n",
    "a=st1.find('k') # retuns the index where the substring is find first else returns -1 \n",
    "print(a)\n",
    "a=st1.find('b',3,6) # find substring only in mentioned range\n",
    "print(a)\n",
    "a=st1.find('y') \n",
    "print(a)\n",
    "a=st1.find('d') \n",
    "print(a)"
   ]
  },
  {
   "cell_type": "code",
   "execution_count": 8,
   "metadata": {},
   "outputs": [
    {
     "name": "stdout",
     "output_type": "stream",
     "text": [
      "True\n"
     ]
    },
    {
     "ename": "NameError",
     "evalue": "name 'isdigit' is not defined",
     "output_type": "error",
     "traceback": [
      "\u001b[1;31m---------------------------------------------------------------------------\u001b[0m",
      "\u001b[1;31mNameError\u001b[0m                                 Traceback (most recent call last)",
      "\u001b[1;32m<ipython-input-8-6d0d786674ad>\u001b[0m in \u001b[0;36m<module>\u001b[1;34m\u001b[0m\n\u001b[0;32m      4\u001b[0m \u001b[0mst1\u001b[0m\u001b[1;33m=\u001b[0m\u001b[1;34m'hyderabad.mumbai'\u001b[0m\u001b[1;33m\u001b[0m\u001b[1;33m\u001b[0m\u001b[0m\n\u001b[0;32m      5\u001b[0m \u001b[0mst1\u001b[0m\u001b[1;33m.\u001b[0m\u001b[0misdigit\u001b[0m\u001b[1;33m(\u001b[0m\u001b[1;33m)\u001b[0m\u001b[1;33m\u001b[0m\u001b[1;33m\u001b[0m\u001b[0m\n\u001b[1;32m----> 6\u001b[1;33m \u001b[0ma\u001b[0m\u001b[1;33m=\u001b[0m\u001b[0misdigit\u001b[0m\u001b[1;33m(\u001b[0m\u001b[1;34m'hyderabad.mumbai'\u001b[0m\u001b[1;33m)\u001b[0m\u001b[1;33m\u001b[0m\u001b[1;33m\u001b[0m\u001b[0m\n\u001b[0m\u001b[0;32m      7\u001b[0m \u001b[0mprint\u001b[0m\u001b[1;33m(\u001b[0m\u001b[0ma\u001b[0m\u001b[1;33m)\u001b[0m\u001b[1;33m\u001b[0m\u001b[1;33m\u001b[0m\u001b[0m\n",
      "\u001b[1;31mNameError\u001b[0m: name 'isdigit' is not defined"
     ]
    }
   ],
   "source": [
    "s='12'\n",
    "s1=s.isdigit()#returns True\n",
    "print(s1)\n",
    "st1='hyderabad.mumbai'\n",
    "st1.isdigit()\n",
    "a=isdigit('hyderabad.mumbai')\n",
    "print(a)"
   ]
  },
  {
   "cell_type": "code",
   "execution_count": 18,
   "metadata": {},
   "outputs": [
    {
     "name": "stdout",
     "output_type": "stream",
     "text": [
      "True\n",
      "False\n"
     ]
    },
    {
     "data": {
      "text/plain": [
       "True"
      ]
     },
     "execution_count": 18,
     "metadata": {},
     "output_type": "execute_result"
    }
   ],
   "source": [
    "s='abc'\n",
    "r=s.isnumeric()\n",
    "print(r)\n",
    "print(s.islower())\n",
    "s.isupper()\n",
    "s.isalpha()\n",
    "s.isalnum()"
   ]
  },
  {
   "cell_type": "code",
   "execution_count": 10,
   "metadata": {},
   "outputs": [
    {
     "name": "stdout",
     "output_type": "stream",
     "text": [
      "JohnKilner\n",
      "John Kilner\n",
      "JohnJohn\n"
     ]
    }
   ],
   "source": [
    "# cancatination(+) and repeatation(*) of strings\n",
    "fname='John'\n",
    "lname='Kilner'\n",
    "\n",
    "fullname=fname+lname\n",
    "print(fullname)\n",
    "a=fname+ ' ' +lname\n",
    "print(a)\n",
    "a=fname * 2\n",
    "print(a)"
   ]
  },
  {
   "cell_type": "code",
   "execution_count": 9,
   "metadata": {},
   "outputs": [
    {
     "name": "stdout",
     "output_type": "stream",
     "text": [
      "student name: Rahul\t abcdefgh\b bbbb \u0007jhjdhsgkj \n",
      " end\n",
      "student name: Rahul\t abcdefgh\b bbbb \u0007jhjdhsgkj \n",
      " \n",
      " end\n"
     ]
    }
   ],
   "source": [
    "# \\t-tab space \\b- backspace, alert , \\n -new line in a string\n",
    "\n",
    "letter = 'Rahul\\t abcdefgh\\b bbbb \\ajhjdhsgkj'\n",
    "letter\n",
    "st1='\\n' \n",
    "print('student name:', letter,st1,'end')\n",
    "\n",
    "letter = 'Rahul\\t abcdefgh\\b bbbb \\ajhjdhsgkj \\n'\n",
    "letter \n",
    "st1='\\n'\n",
    "print('student name:', letter,st1,'end')"
   ]
  },
  {
   "cell_type": "code",
   "execution_count": 11,
   "metadata": {},
   "outputs": [
    {
     "name": "stdout",
     "output_type": "stream",
     "text": [
      "I contain\t\t\tthree\t\t\ttabs\n",
      "I contain a\t\u000b",
      "\tvertical tab\n",
      "I contain a\t\u0007\tBELL, which you can hear\n"
     ]
    }
   ],
   "source": [
    "s6 = \"I contain\\t\\t\\tthree\\t\\t\\ttabs\"\n",
    "s7 = \"I contain a\\t\\v\\tvertical tab\"\n",
    "s8 = \"I contain a\\t\\a\\tBELL, which you can hear\"\n",
    "\n",
    "print(s6)\n",
    "print(s7)\n",
    "print(s8)"
   ]
  },
  {
   "cell_type": "code",
   "execution_count": null,
   "metadata": {},
   "outputs": [],
   "source": []
  }
 ],
 "metadata": {
  "kernelspec": {
   "display_name": "Python 3",
   "language": "python",
   "name": "python3"
  },
  "language_info": {
   "codemirror_mode": {
    "name": "ipython",
    "version": 3
   },
   "file_extension": ".py",
   "mimetype": "text/x-python",
   "name": "python",
   "nbconvert_exporter": "python",
   "pygments_lexer": "ipython3",
   "version": "3.8.8"
  }
 },
 "nbformat": 4,
 "nbformat_minor": 2
}
