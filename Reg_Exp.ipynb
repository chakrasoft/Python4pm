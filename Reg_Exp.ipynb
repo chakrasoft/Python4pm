{
 "cells": [
  {
   "cell_type": "markdown",
   "metadata": {},
   "source": [
    "# Reg Expression"
   ]
  },
  {
   "cell_type": "markdown",
   "metadata": {},
   "source": [
    "A RegEx, or Regular Expression, is a sequence of characters that forms a search pattern.\n",
    "RegEx can be used to check if a string contains the specified search pattern.\n",
    "Built-in package re for Regular Expressions.'''\n",
    "\n",
    "\n",
    "'''####The re module offers a set of functions that allows us to search a string for a match:\n",
    "re.match(pattern, string, flags=0)\n",
    "\t\n",
    "pattern-This is the regular expression to be matched.\n",
    "string - This is the string, which would be searched to match \n",
    "the pattern at the beginning of string.\n",
    "flags - You can specify different flags using bitwise OR (|). \n",
    "These are modifiers, which are listed in the table below."
   ]
  },
  {
   "cell_type": "markdown",
   "metadata": {},
   "source": [
    "############Functions #################\n",
    "findall -\tReturns a list containing all matches\n",
    "search\t- Returns a Match object if there is a match anywhere in the string\n",
    "split\t- Returns a list where the string has been split at each match\n",
    "sub\t- Replaces one or many matches with a string"
   ]
  },
  {
   "cell_type": "markdown",
   "metadata": {},
   "source": [
    "##############Metacharacters are characters with a special meaning##############\n",
    "[]\tA set of characters\t\"[a-m]\"\t\n",
    "\\\tSignals a special sequence (can also be used to escape special characters)\t\"\\d\"\t\n",
    ".\tMatches any single character (except newline character \\n)\t\"he..o\"\t\n",
    "^\tStarts with\t\"^hello\"\t\n",
    "$\tEnds with\t\"world$\"\t\n",
    "*\tZero or more occurrences\t\"aix*\"\t\n",
    "+\tOne or more occurrences\t\"aix+\"\t\n",
    "{}\tExactly the specified number of occurrences\t\"al{2}\"\t\n",
    "|\tEither or\t\"falls|stays\"\t\n",
    "()\tCapture and group\n",
    "\n",
    "#####A special sequence is a \\ followed by one of the characters in the list below, and has a special meaning:#####\n",
    "    \n",
    "\\A\tReturns a match if the specified characters are at the beginning of the string\t\"\\AThe\"\t\n",
    "\\b\tReturns a match where the specified characters are at the beginning or at the end of a word\tr\"\\bain\"\n",
    "r\"ain\\b\"\t\n",
    "\\B\tReturns a match where the specified characters are present, but NOT at the beginning (or at the end) of a word\tr\"\\Bain\"\n",
    "r\"ain\\B\"\t\n",
    "\\d\tReturns a match where the string contains digits (numbers from 0-9)\t\"\\d\"\t\n",
    "\\D\tReturns a match where the string DOES NOT contain digits\t\"\\D\"\t\n",
    "\\s\tReturns a match where the string contains a white space character\t\"\\s\"\t\n",
    "\\S\tReturns a match where the string DOES NOT contain a white space character\t\"\\S\"\t\n",
    "\\w\tReturns a match where the string contains any word characters (characters from a to Z, digits from 0-9, and the underscore _ character)\t\"\\w\"\t\n",
    "\\W\tReturns a match where the string DOES NOT contain any word characters\t\"\\W\"\t\n",
    "\\Z\tReturns a match if the specified characters are at the end of the string\t\"Spain\\Z\"\n",
    "\n",
    "###A set is a set of characters inside a pair of square brackets [] with a special meaning:############\n",
    "[arn]\tReturns a match where one of the specified characters (a, r, or n) are present\t\n",
    "[a-n]\tReturns a match for any lower case character, alphabetically between a and n\t\n",
    "[^arn]\tReturns a match for any character EXCEPT a, r, and n\t\n",
    "[0123]\tReturns a match where any of the specified digits (0, 1, 2, or 3) are present\t\n",
    "[0-9]\tReturns a match for any digit between 0 and 9\t\n",
    "[0-5][0-9]\tReturns a match for any two-digit numbers from 00 and 59\t\n",
    "[a-zA-Z]\tReturns a match for any character alphabetically between a and z, lower case OR upper case\t\n",
    "[+]\tIn sets, +, *, ., |, (), $,{} has no special meaning, so [+] means: return a match for any + character in the string"
   ]
  },
  {
   "cell_type": "code",
   "execution_count": 1,
   "metadata": {},
   "outputs": [
    {
     "name": "stdout",
     "output_type": "stream",
     "text": [
      "\tTab\n"
     ]
    }
   ],
   "source": [
    "print('\\tTab')"
   ]
  },
  {
   "cell_type": "code",
   "execution_count": 2,
   "metadata": {},
   "outputs": [
    {
     "name": "stdout",
     "output_type": "stream",
     "text": [
      "\\tTab\n"
     ]
    }
   ],
   "source": [
    "print(r'\\tTab') "
   ]
  },
  {
   "cell_type": "code",
   "execution_count": 1,
   "metadata": {},
   "outputs": [
    {
     "name": "stdout",
     "output_type": "stream",
     "text": [
      "<re.Match object; span=(0, 18), match='The python program'>\n"
     ]
    }
   ],
   "source": [
    "import re\n",
    "txt = \"The python program\"\n",
    "x = re.search(\"^The.*program$\", txt)\n",
    "print(x)"
   ]
  },
  {
   "cell_type": "code",
   "execution_count": 36,
   "metadata": {},
   "outputs": [
    {
     "name": "stdout",
     "output_type": "stream",
     "text": [
      "Help on function search in re:\n",
      "\n",
      "re.search = search(pattern, string, flags=0)\n",
      "    Scan through string looking for a match to the pattern, returning\n",
      "    a Match object, or None if no match was found.\n",
      "\n",
      "Help on built-in function print in module builtins:\n",
      "\n",
      "print(...)\n",
      "    print(value, ..., sep=' ', end='\\n', file=sys.stdout, flush=False)\n",
      "    \n",
      "    Prints the values to a stream, or to sys.stdout by default.\n",
      "    Optional keyword arguments:\n",
      "    file:  a file-like object (stream); defaults to the current sys.stdout.\n",
      "    sep:   string inserted between values, default a space.\n",
      "    end:   string appended after the last value, default a newline.\n",
      "    flush: whether to forcibly flush the stream.\n",
      "\n"
     ]
    }
   ],
   "source": [
    "from math import * \n",
    "help('re.search')\n",
    "help('print')"
   ]
  },
  {
   "cell_type": "code",
   "execution_count": 9,
   "metadata": {},
   "outputs": [
    {
     "name": "stdout",
     "output_type": "stream",
     "text": [
      "['ai', 'ai']\n"
     ]
    }
   ],
   "source": [
    "str = \"The rain in Spain\"\n",
    "x = re.findall(\"ai\", str)\n",
    "print(x)"
   ]
  },
  {
   "cell_type": "code",
   "execution_count": 10,
   "metadata": {},
   "outputs": [
    {
     "name": "stdout",
     "output_type": "stream",
     "text": [
      "[]\n"
     ]
    }
   ],
   "source": [
    "str = \"The rain in Spain\"\n",
    "x = re.findall(\"Hyd\", str)\n",
    "print(x)"
   ]
  },
  {
   "cell_type": "code",
   "execution_count": 13,
   "metadata": {},
   "outputs": [
    {
     "name": "stdout",
     "output_type": "stream",
     "text": [
      "<re.Match object; span=(3, 5), match='lo'>\n",
      "found\n"
     ]
    }
   ],
   "source": [
    "match = re.search(r'.o', 'hello world')\n",
    "print(match)\n",
    "if (match):\n",
    "    print(\"found\")\n",
    "else:\n",
    "    print('Not found')"
   ]
  },
  {
   "cell_type": "code",
   "execution_count": 14,
   "metadata": {},
   "outputs": [
    {
     "name": "stdout",
     "output_type": "stream",
     "text": [
      "['lo', 'wo']\n",
      "found\n"
     ]
    }
   ],
   "source": [
    "match = re.findall(r'.o', 'hello world')\n",
    "print(match)\n",
    "if (match):\n",
    "    print(\"found\")\n",
    "else:\n",
    "    print('Not found')"
   ]
  },
  {
   "cell_type": "code",
   "execution_count": 15,
   "metadata": {},
   "outputs": [
    {
     "name": "stdout",
     "output_type": "stream",
     "text": [
      "['The', 'rain', 'in', 'Spain']\n"
     ]
    }
   ],
   "source": [
    "str = \"The rain in Spain\"\n",
    "x = re.split(\"\\s\", str)\n",
    "print(x)"
   ]
  },
  {
   "cell_type": "code",
   "execution_count": 16,
   "metadata": {},
   "outputs": [
    {
     "name": "stdout",
     "output_type": "stream",
     "text": [
      "['The', 'rain', 'in Spain']\n"
     ]
    }
   ],
   "source": [
    "str = \"The rain in Spain\"\n",
    "x = re.split(\"\\s\", str, 2)\n",
    "print(x)"
   ]
  },
  {
   "cell_type": "code",
   "execution_count": 17,
   "metadata": {},
   "outputs": [
    {
     "name": "stdout",
     "output_type": "stream",
     "text": [
      "The9rain9in9Spain\n"
     ]
    }
   ],
   "source": [
    "str = \"The rain in Spain\"\n",
    "x = re.sub(\"\\s\", \"9\", str)\n",
    "print(x)"
   ]
  },
  {
   "cell_type": "code",
   "execution_count": 18,
   "metadata": {},
   "outputs": [
    {
     "name": "stdout",
     "output_type": "stream",
     "text": [
      "The9rain9in Spain\n"
     ]
    }
   ],
   "source": [
    "str = \"The rain in Spain\"\n",
    "x = re.sub(\"\\s\", \"9\", str, 2)\n",
    "print(x)"
   ]
  },
  {
   "cell_type": "code",
   "execution_count": 1,
   "metadata": {},
   "outputs": [
    {
     "name": "stdout",
     "output_type": "stream",
     "text": [
      "<re.Match object; span=(1, 2), match='e'>\n",
      "<re.Match object; span=(2, 3), match='a'>\n",
      "<re.Match object; span=(4, 5), match='a'>\n",
      "<re.Match object; span=(6, 7), match='i'>\n",
      "<re.Match object; span=(8, 9), match='i'>\n",
      "<re.Match object; span=(13, 14), match='o'>\n",
      "<re.Match object; span=(14, 15), match='u'>\n"
     ]
    }
   ],
   "source": [
    "import re\n",
    "\n",
    "s = 'Readability counts.'\n",
    "pattern = r'[aeoui]'\n",
    "\n",
    "matches = re.finditer(pattern, s)\n",
    "for match in matches:\n",
    "    print(match)"
   ]
  },
  {
   "cell_type": "code",
   "execution_count": 21,
   "metadata": {},
   "outputs": [
    {
     "name": "stdout",
     "output_type": "stream",
     "text": [
      "<re.Match object; span=(35, 57), match='https://www.google.com'>\n"
     ]
    }
   ],
   "source": [
    "#finditer() function matches a pattern in a string and returns an iterator \n",
    "#that yields the Match objects of all non-overlapping matches.\n",
    "urls='''\n",
    "https://www.chakraitsolutions.com\n",
    "https://www.google.com\n",
    "https://www.youtube.com\n",
    "https://www.nasa.com\n",
    "'''\n",
    "pattern=re.compile(r'https://www.google.com')\n",
    "matches=pattern.finditer(urls)\n",
    "\n",
    "for match in matches:\n",
    "    print(match)  "
   ]
  },
  {
   "cell_type": "code",
   "execution_count": 23,
   "metadata": {},
   "outputs": [
    {
     "name": "stdout",
     "output_type": "stream",
     "text": [
      "<re.Match object; span=(0, 5), match='Hello'>\n"
     ]
    }
   ],
   "source": [
    "sentence='Hello this is my new program'\n",
    "pattern=re.compile(r'^Hello')\n",
    "#pattern=re.compile(r'program$')\n",
    "matches=pattern.finditer(sentence)\n",
    "\n",
    "for match in matches:\n",
    "    print(match) "
   ]
  },
  {
   "cell_type": "code",
   "execution_count": 19,
   "metadata": {},
   "outputs": [],
   "source": [
    "text_to_search='''\n",
    "abcdefghijklmnopqrstuvwxyz\n",
    "ABCDEFGHIJKLMNOPQRSTUVWXYZ\n",
    "1234567890\n",
    "\n",
    "Ha HaHa #word boundary\n",
    "\n",
    "Metachracters\n",
    ". ^ $ * + ? { } [ ] \\ | ( )\n",
    "\n",
    "google.com\n",
    "\n",
    "321-555-4321\n",
    "123.555.1234\n",
    "123*555*1234\n",
    "800-555-1234\n",
    "900-555-1234\n",
    "\n",
    "Mr. Joy\n",
    "Mr Tommy\n",
    "Mr. Kumar\n",
    "Mr. Tim\n",
    "'''"
   ]
  },
  {
   "cell_type": "code",
   "execution_count": 24,
   "metadata": {},
   "outputs": [
    {
     "name": "stdout",
     "output_type": "stream",
     "text": [
      "<re.Match object; span=(146, 158), match='321-555-4321'>\n",
      "<re.Match object; span=(159, 171), match='123.555.1234'>\n",
      "<re.Match object; span=(172, 184), match='123*555*1234'>\n",
      "<re.Match object; span=(185, 197), match='800-555-1234'>\n",
      "<re.Match object; span=(198, 210), match='900-555-1234'>\n"
     ]
    }
   ],
   "source": [
    "pattern=re.compile(r'\\d\\d\\d.\\d\\d\\d.\\d\\d\\d\\d')\n",
    "matches=pattern.finditer(text_to_search)\n",
    "\n",
    "for match in matches:\n",
    "    print(match) "
   ]
  },
  {
   "cell_type": "code",
   "execution_count": 25,
   "metadata": {},
   "outputs": [
    {
     "name": "stdout",
     "output_type": "stream",
     "text": [
      "<re.Match object; span=(146, 158), match='321-555-4321'>\n",
      "<re.Match object; span=(159, 171), match='123.555.1234'>\n",
      "<re.Match object; span=(185, 197), match='800-555-1234'>\n",
      "<re.Match object; span=(198, 210), match='900-555-1234'>\n"
     ]
    }
   ],
   "source": [
    "pattern=re.compile(r'\\d\\d\\d[-.]\\d\\d\\d[-.]\\d\\d\\d\\d')\n",
    "matches=pattern.finditer(text_to_search)\n",
    "\n",
    "for match in matches:\n",
    "    print(match) "
   ]
  },
  {
   "cell_type": "code",
   "execution_count": 26,
   "metadata": {},
   "outputs": [
    {
     "name": "stdout",
     "output_type": "stream",
     "text": [
      "<re.Match object; span=(185, 197), match='800-555-1234'>\n",
      "<re.Match object; span=(198, 210), match='900-555-1234'>\n"
     ]
    }
   ],
   "source": [
    "pattern=re.compile(r'[89]00[-.]\\d\\d\\d[-.]\\d\\d\\d\\d')\n",
    "matches=pattern.finditer(text_to_search)\n",
    "\n",
    "for match in matches:\n",
    "    print(match) "
   ]
  },
  {
   "cell_type": "code",
   "execution_count": 27,
   "metadata": {},
   "outputs": [
    {
     "data": {
      "text/plain": [
       "['A',\n",
       " 'ASCII',\n",
       " 'DEBUG',\n",
       " 'DOTALL',\n",
       " 'I',\n",
       " 'IGNORECASE',\n",
       " 'L',\n",
       " 'LOCALE',\n",
       " 'M',\n",
       " 'MULTILINE',\n",
       " 'Match',\n",
       " 'Pattern',\n",
       " 'RegexFlag',\n",
       " 'S',\n",
       " 'Scanner',\n",
       " 'T',\n",
       " 'TEMPLATE',\n",
       " 'U',\n",
       " 'UNICODE',\n",
       " 'VERBOSE',\n",
       " 'X',\n",
       " '_MAXCACHE',\n",
       " '__all__',\n",
       " '__builtins__',\n",
       " '__cached__',\n",
       " '__doc__',\n",
       " '__file__',\n",
       " '__loader__',\n",
       " '__name__',\n",
       " '__package__',\n",
       " '__spec__',\n",
       " '__version__',\n",
       " '_cache',\n",
       " '_compile',\n",
       " '_compile_repl',\n",
       " '_expand',\n",
       " '_locale',\n",
       " '_pickle',\n",
       " '_special_chars_map',\n",
       " '_subx',\n",
       " 'compile',\n",
       " 'copyreg',\n",
       " 'enum',\n",
       " 'error',\n",
       " 'escape',\n",
       " 'findall',\n",
       " 'finditer',\n",
       " 'fullmatch',\n",
       " 'functools',\n",
       " 'match',\n",
       " 'purge',\n",
       " 'search',\n",
       " 'split',\n",
       " 'sre_compile',\n",
       " 'sre_parse',\n",
       " 'sub',\n",
       " 'subn',\n",
       " 'template']"
      ]
     },
     "execution_count": 27,
     "metadata": {},
     "output_type": "execute_result"
    }
   ],
   "source": [
    "dir(re)"
   ]
  },
  {
   "cell_type": "code",
   "execution_count": 28,
   "metadata": {},
   "outputs": [
    {
     "name": "stdout",
     "output_type": "stream",
     "text": [
      "<re.Match object; span=(55, 56), match='1'>\n",
      "<re.Match object; span=(56, 57), match='2'>\n",
      "<re.Match object; span=(57, 58), match='3'>\n",
      "<re.Match object; span=(58, 59), match='4'>\n",
      "<re.Match object; span=(59, 60), match='5'>\n",
      "<re.Match object; span=(146, 147), match='3'>\n",
      "<re.Match object; span=(147, 148), match='2'>\n",
      "<re.Match object; span=(148, 149), match='1'>\n",
      "<re.Match object; span=(150, 151), match='5'>\n",
      "<re.Match object; span=(151, 152), match='5'>\n",
      "<re.Match object; span=(152, 153), match='5'>\n",
      "<re.Match object; span=(154, 155), match='4'>\n",
      "<re.Match object; span=(155, 156), match='3'>\n",
      "<re.Match object; span=(156, 157), match='2'>\n",
      "<re.Match object; span=(157, 158), match='1'>\n",
      "<re.Match object; span=(159, 160), match='1'>\n",
      "<re.Match object; span=(160, 161), match='2'>\n",
      "<re.Match object; span=(161, 162), match='3'>\n",
      "<re.Match object; span=(163, 164), match='5'>\n",
      "<re.Match object; span=(164, 165), match='5'>\n",
      "<re.Match object; span=(165, 166), match='5'>\n",
      "<re.Match object; span=(167, 168), match='1'>\n",
      "<re.Match object; span=(168, 169), match='2'>\n",
      "<re.Match object; span=(169, 170), match='3'>\n",
      "<re.Match object; span=(170, 171), match='4'>\n",
      "<re.Match object; span=(172, 173), match='1'>\n",
      "<re.Match object; span=(173, 174), match='2'>\n",
      "<re.Match object; span=(174, 175), match='3'>\n",
      "<re.Match object; span=(176, 177), match='5'>\n",
      "<re.Match object; span=(177, 178), match='5'>\n",
      "<re.Match object; span=(178, 179), match='5'>\n",
      "<re.Match object; span=(180, 181), match='1'>\n",
      "<re.Match object; span=(181, 182), match='2'>\n",
      "<re.Match object; span=(182, 183), match='3'>\n",
      "<re.Match object; span=(183, 184), match='4'>\n",
      "<re.Match object; span=(189, 190), match='5'>\n",
      "<re.Match object; span=(190, 191), match='5'>\n",
      "<re.Match object; span=(191, 192), match='5'>\n",
      "<re.Match object; span=(193, 194), match='1'>\n",
      "<re.Match object; span=(194, 195), match='2'>\n",
      "<re.Match object; span=(195, 196), match='3'>\n",
      "<re.Match object; span=(196, 197), match='4'>\n",
      "<re.Match object; span=(202, 203), match='5'>\n",
      "<re.Match object; span=(203, 204), match='5'>\n",
      "<re.Match object; span=(204, 205), match='5'>\n",
      "<re.Match object; span=(206, 207), match='1'>\n",
      "<re.Match object; span=(207, 208), match='2'>\n",
      "<re.Match object; span=(208, 209), match='3'>\n",
      "<re.Match object; span=(209, 210), match='4'>\n"
     ]
    }
   ],
   "source": [
    "pattern=re.compile(r'[1-5]')\n",
    "matches=pattern.finditer(text_to_search)\n",
    "\n",
    "for match in matches:\n",
    "    print(match) "
   ]
  },
  {
   "cell_type": "code",
   "execution_count": 29,
   "metadata": {},
   "outputs": [
    {
     "name": "stdout",
     "output_type": "stream",
     "text": [
      "<re.Match object; span=(1, 2), match='a'>\n",
      "<re.Match object; span=(2, 3), match='b'>\n",
      "<re.Match object; span=(3, 4), match='c'>\n",
      "<re.Match object; span=(4, 5), match='d'>\n",
      "<re.Match object; span=(5, 6), match='e'>\n",
      "<re.Match object; span=(6, 7), match='f'>\n",
      "<re.Match object; span=(7, 8), match='g'>\n",
      "<re.Match object; span=(8, 9), match='h'>\n",
      "<re.Match object; span=(9, 10), match='i'>\n",
      "<re.Match object; span=(10, 11), match='j'>\n",
      "<re.Match object; span=(11, 12), match='k'>\n",
      "<re.Match object; span=(12, 13), match='l'>\n",
      "<re.Match object; span=(13, 14), match='m'>\n",
      "<re.Match object; span=(14, 15), match='n'>\n",
      "<re.Match object; span=(15, 16), match='o'>\n",
      "<re.Match object; span=(16, 17), match='p'>\n",
      "<re.Match object; span=(17, 18), match='q'>\n",
      "<re.Match object; span=(18, 19), match='r'>\n",
      "<re.Match object; span=(19, 20), match='s'>\n",
      "<re.Match object; span=(20, 21), match='t'>\n",
      "<re.Match object; span=(21, 22), match='u'>\n",
      "<re.Match object; span=(22, 23), match='v'>\n",
      "<re.Match object; span=(23, 24), match='w'>\n",
      "<re.Match object; span=(24, 25), match='x'>\n",
      "<re.Match object; span=(25, 26), match='y'>\n",
      "<re.Match object; span=(26, 27), match='z'>\n",
      "<re.Match object; span=(68, 69), match='a'>\n",
      "<re.Match object; span=(71, 72), match='a'>\n",
      "<re.Match object; span=(73, 74), match='a'>\n",
      "<re.Match object; span=(76, 77), match='w'>\n",
      "<re.Match object; span=(77, 78), match='o'>\n",
      "<re.Match object; span=(78, 79), match='r'>\n",
      "<re.Match object; span=(79, 80), match='d'>\n",
      "<re.Match object; span=(81, 82), match='b'>\n",
      "<re.Match object; span=(82, 83), match='o'>\n",
      "<re.Match object; span=(83, 84), match='u'>\n",
      "<re.Match object; span=(84, 85), match='n'>\n",
      "<re.Match object; span=(85, 86), match='d'>\n",
      "<re.Match object; span=(86, 87), match='a'>\n",
      "<re.Match object; span=(87, 88), match='r'>\n",
      "<re.Match object; span=(88, 89), match='y'>\n",
      "<re.Match object; span=(92, 93), match='e'>\n",
      "<re.Match object; span=(93, 94), match='t'>\n",
      "<re.Match object; span=(94, 95), match='a'>\n",
      "<re.Match object; span=(95, 96), match='c'>\n",
      "<re.Match object; span=(96, 97), match='h'>\n",
      "<re.Match object; span=(97, 98), match='r'>\n",
      "<re.Match object; span=(98, 99), match='a'>\n",
      "<re.Match object; span=(99, 100), match='c'>\n",
      "<re.Match object; span=(100, 101), match='t'>\n",
      "<re.Match object; span=(101, 102), match='e'>\n",
      "<re.Match object; span=(102, 103), match='r'>\n",
      "<re.Match object; span=(103, 104), match='s'>\n",
      "<re.Match object; span=(134, 135), match='g'>\n",
      "<re.Match object; span=(135, 136), match='o'>\n",
      "<re.Match object; span=(136, 137), match='o'>\n",
      "<re.Match object; span=(137, 138), match='g'>\n",
      "<re.Match object; span=(138, 139), match='l'>\n",
      "<re.Match object; span=(139, 140), match='e'>\n",
      "<re.Match object; span=(141, 142), match='c'>\n",
      "<re.Match object; span=(142, 143), match='o'>\n",
      "<re.Match object; span=(143, 144), match='m'>\n",
      "<re.Match object; span=(213, 214), match='r'>\n",
      "<re.Match object; span=(217, 218), match='o'>\n",
      "<re.Match object; span=(218, 219), match='y'>\n",
      "<re.Match object; span=(221, 222), match='r'>\n",
      "<re.Match object; span=(224, 225), match='o'>\n",
      "<re.Match object; span=(225, 226), match='m'>\n",
      "<re.Match object; span=(226, 227), match='m'>\n",
      "<re.Match object; span=(227, 228), match='y'>\n",
      "<re.Match object; span=(230, 231), match='r'>\n",
      "<re.Match object; span=(234, 235), match='u'>\n",
      "<re.Match object; span=(235, 236), match='m'>\n",
      "<re.Match object; span=(236, 237), match='a'>\n",
      "<re.Match object; span=(237, 238), match='r'>\n",
      "<re.Match object; span=(240, 241), match='r'>\n",
      "<re.Match object; span=(244, 245), match='i'>\n",
      "<re.Match object; span=(245, 246), match='m'>\n"
     ]
    }
   ],
   "source": [
    "pattern=re.compile(r'[a-z]')\n",
    "matches=pattern.finditer(text_to_search)\n",
    "\n",
    "for match in matches:\n",
    "    print(match) "
   ]
  },
  {
   "cell_type": "code",
   "execution_count": 30,
   "metadata": {},
   "outputs": [
    {
     "name": "stdout",
     "output_type": "stream",
     "text": [
      "<re.Match object; span=(1, 2), match='a'>\n",
      "<re.Match object; span=(2, 3), match='b'>\n",
      "<re.Match object; span=(3, 4), match='c'>\n",
      "<re.Match object; span=(4, 5), match='d'>\n",
      "<re.Match object; span=(5, 6), match='e'>\n",
      "<re.Match object; span=(6, 7), match='f'>\n",
      "<re.Match object; span=(7, 8), match='g'>\n",
      "<re.Match object; span=(8, 9), match='h'>\n",
      "<re.Match object; span=(9, 10), match='i'>\n",
      "<re.Match object; span=(10, 11), match='j'>\n",
      "<re.Match object; span=(11, 12), match='k'>\n",
      "<re.Match object; span=(12, 13), match='l'>\n",
      "<re.Match object; span=(13, 14), match='m'>\n",
      "<re.Match object; span=(14, 15), match='n'>\n",
      "<re.Match object; span=(15, 16), match='o'>\n",
      "<re.Match object; span=(16, 17), match='p'>\n",
      "<re.Match object; span=(17, 18), match='q'>\n",
      "<re.Match object; span=(18, 19), match='r'>\n",
      "<re.Match object; span=(19, 20), match='s'>\n",
      "<re.Match object; span=(20, 21), match='t'>\n",
      "<re.Match object; span=(21, 22), match='u'>\n",
      "<re.Match object; span=(22, 23), match='v'>\n",
      "<re.Match object; span=(23, 24), match='w'>\n",
      "<re.Match object; span=(24, 25), match='x'>\n",
      "<re.Match object; span=(25, 26), match='y'>\n",
      "<re.Match object; span=(26, 27), match='z'>\n",
      "<re.Match object; span=(28, 29), match='A'>\n",
      "<re.Match object; span=(29, 30), match='B'>\n",
      "<re.Match object; span=(30, 31), match='C'>\n",
      "<re.Match object; span=(31, 32), match='D'>\n",
      "<re.Match object; span=(32, 33), match='E'>\n",
      "<re.Match object; span=(33, 34), match='F'>\n",
      "<re.Match object; span=(34, 35), match='G'>\n",
      "<re.Match object; span=(35, 36), match='H'>\n",
      "<re.Match object; span=(36, 37), match='I'>\n",
      "<re.Match object; span=(37, 38), match='J'>\n",
      "<re.Match object; span=(38, 39), match='K'>\n",
      "<re.Match object; span=(39, 40), match='L'>\n",
      "<re.Match object; span=(40, 41), match='M'>\n",
      "<re.Match object; span=(41, 42), match='N'>\n",
      "<re.Match object; span=(42, 43), match='O'>\n",
      "<re.Match object; span=(43, 44), match='P'>\n",
      "<re.Match object; span=(44, 45), match='Q'>\n",
      "<re.Match object; span=(45, 46), match='R'>\n",
      "<re.Match object; span=(46, 47), match='S'>\n",
      "<re.Match object; span=(47, 48), match='T'>\n",
      "<re.Match object; span=(48, 49), match='U'>\n",
      "<re.Match object; span=(49, 50), match='V'>\n",
      "<re.Match object; span=(50, 51), match='W'>\n",
      "<re.Match object; span=(51, 52), match='X'>\n",
      "<re.Match object; span=(52, 53), match='Y'>\n",
      "<re.Match object; span=(53, 54), match='Z'>\n",
      "<re.Match object; span=(67, 68), match='H'>\n",
      "<re.Match object; span=(68, 69), match='a'>\n",
      "<re.Match object; span=(70, 71), match='H'>\n",
      "<re.Match object; span=(71, 72), match='a'>\n",
      "<re.Match object; span=(72, 73), match='H'>\n",
      "<re.Match object; span=(73, 74), match='a'>\n",
      "<re.Match object; span=(76, 77), match='w'>\n",
      "<re.Match object; span=(77, 78), match='o'>\n",
      "<re.Match object; span=(78, 79), match='r'>\n",
      "<re.Match object; span=(79, 80), match='d'>\n",
      "<re.Match object; span=(81, 82), match='b'>\n",
      "<re.Match object; span=(82, 83), match='o'>\n",
      "<re.Match object; span=(83, 84), match='u'>\n",
      "<re.Match object; span=(84, 85), match='n'>\n",
      "<re.Match object; span=(85, 86), match='d'>\n",
      "<re.Match object; span=(86, 87), match='a'>\n",
      "<re.Match object; span=(87, 88), match='r'>\n",
      "<re.Match object; span=(88, 89), match='y'>\n",
      "<re.Match object; span=(91, 92), match='M'>\n",
      "<re.Match object; span=(92, 93), match='e'>\n",
      "<re.Match object; span=(93, 94), match='t'>\n",
      "<re.Match object; span=(94, 95), match='a'>\n",
      "<re.Match object; span=(95, 96), match='c'>\n",
      "<re.Match object; span=(96, 97), match='h'>\n",
      "<re.Match object; span=(97, 98), match='r'>\n",
      "<re.Match object; span=(98, 99), match='a'>\n",
      "<re.Match object; span=(99, 100), match='c'>\n",
      "<re.Match object; span=(100, 101), match='t'>\n",
      "<re.Match object; span=(101, 102), match='e'>\n",
      "<re.Match object; span=(102, 103), match='r'>\n",
      "<re.Match object; span=(103, 104), match='s'>\n",
      "<re.Match object; span=(134, 135), match='g'>\n",
      "<re.Match object; span=(135, 136), match='o'>\n",
      "<re.Match object; span=(136, 137), match='o'>\n",
      "<re.Match object; span=(137, 138), match='g'>\n",
      "<re.Match object; span=(138, 139), match='l'>\n",
      "<re.Match object; span=(139, 140), match='e'>\n",
      "<re.Match object; span=(141, 142), match='c'>\n",
      "<re.Match object; span=(142, 143), match='o'>\n",
      "<re.Match object; span=(143, 144), match='m'>\n",
      "<re.Match object; span=(212, 213), match='M'>\n",
      "<re.Match object; span=(213, 214), match='r'>\n",
      "<re.Match object; span=(216, 217), match='J'>\n",
      "<re.Match object; span=(217, 218), match='o'>\n",
      "<re.Match object; span=(218, 219), match='y'>\n",
      "<re.Match object; span=(220, 221), match='M'>\n",
      "<re.Match object; span=(221, 222), match='r'>\n",
      "<re.Match object; span=(223, 224), match='T'>\n",
      "<re.Match object; span=(224, 225), match='o'>\n",
      "<re.Match object; span=(225, 226), match='m'>\n",
      "<re.Match object; span=(226, 227), match='m'>\n",
      "<re.Match object; span=(227, 228), match='y'>\n",
      "<re.Match object; span=(229, 230), match='M'>\n",
      "<re.Match object; span=(230, 231), match='r'>\n",
      "<re.Match object; span=(233, 234), match='K'>\n",
      "<re.Match object; span=(234, 235), match='u'>\n",
      "<re.Match object; span=(235, 236), match='m'>\n",
      "<re.Match object; span=(236, 237), match='a'>\n",
      "<re.Match object; span=(237, 238), match='r'>\n",
      "<re.Match object; span=(239, 240), match='M'>\n",
      "<re.Match object; span=(240, 241), match='r'>\n",
      "<re.Match object; span=(243, 244), match='T'>\n",
      "<re.Match object; span=(244, 245), match='i'>\n",
      "<re.Match object; span=(245, 246), match='m'>\n"
     ]
    }
   ],
   "source": [
    "pattern=re.compile(r'[a-zA-Z]')\n",
    "matches=pattern.finditer(text_to_search)\n",
    "\n",
    "for match in matches:\n",
    "    print(match) "
   ]
  },
  {
   "cell_type": "code",
   "execution_count": 31,
   "metadata": {},
   "outputs": [
    {
     "name": "stdout",
     "output_type": "stream",
     "text": [
      "<re.Match object; span=(0, 1), match='\\n'>\n",
      "<re.Match object; span=(27, 28), match='\\n'>\n",
      "<re.Match object; span=(54, 55), match='\\n'>\n",
      "<re.Match object; span=(55, 56), match='1'>\n",
      "<re.Match object; span=(56, 57), match='2'>\n",
      "<re.Match object; span=(57, 58), match='3'>\n",
      "<re.Match object; span=(58, 59), match='4'>\n",
      "<re.Match object; span=(59, 60), match='5'>\n",
      "<re.Match object; span=(60, 61), match='6'>\n",
      "<re.Match object; span=(61, 62), match='7'>\n",
      "<re.Match object; span=(62, 63), match='8'>\n",
      "<re.Match object; span=(63, 64), match='9'>\n",
      "<re.Match object; span=(64, 65), match='0'>\n",
      "<re.Match object; span=(65, 66), match='\\n'>\n",
      "<re.Match object; span=(66, 67), match='\\n'>\n",
      "<re.Match object; span=(69, 70), match=' '>\n",
      "<re.Match object; span=(74, 75), match=' '>\n",
      "<re.Match object; span=(75, 76), match='#'>\n",
      "<re.Match object; span=(80, 81), match=' '>\n",
      "<re.Match object; span=(89, 90), match='\\n'>\n",
      "<re.Match object; span=(90, 91), match='\\n'>\n",
      "<re.Match object; span=(104, 105), match='\\n'>\n",
      "<re.Match object; span=(105, 106), match='.'>\n",
      "<re.Match object; span=(106, 107), match=' '>\n",
      "<re.Match object; span=(107, 108), match='^'>\n",
      "<re.Match object; span=(108, 109), match=' '>\n",
      "<re.Match object; span=(109, 110), match='$'>\n",
      "<re.Match object; span=(110, 111), match=' '>\n",
      "<re.Match object; span=(111, 112), match='*'>\n",
      "<re.Match object; span=(112, 113), match=' '>\n",
      "<re.Match object; span=(113, 114), match='+'>\n",
      "<re.Match object; span=(114, 115), match=' '>\n",
      "<re.Match object; span=(115, 116), match='?'>\n",
      "<re.Match object; span=(116, 117), match=' '>\n",
      "<re.Match object; span=(117, 118), match='{'>\n",
      "<re.Match object; span=(118, 119), match=' '>\n",
      "<re.Match object; span=(119, 120), match='}'>\n",
      "<re.Match object; span=(120, 121), match=' '>\n",
      "<re.Match object; span=(121, 122), match='['>\n",
      "<re.Match object; span=(122, 123), match=' '>\n",
      "<re.Match object; span=(123, 124), match=']'>\n",
      "<re.Match object; span=(124, 125), match=' '>\n",
      "<re.Match object; span=(125, 126), match='\\\\'>\n",
      "<re.Match object; span=(126, 127), match=' '>\n",
      "<re.Match object; span=(127, 128), match='|'>\n",
      "<re.Match object; span=(128, 129), match=' '>\n",
      "<re.Match object; span=(129, 130), match='('>\n",
      "<re.Match object; span=(130, 131), match=' '>\n",
      "<re.Match object; span=(131, 132), match=')'>\n",
      "<re.Match object; span=(132, 133), match='\\n'>\n",
      "<re.Match object; span=(133, 134), match='\\n'>\n",
      "<re.Match object; span=(140, 141), match='.'>\n",
      "<re.Match object; span=(144, 145), match='\\n'>\n",
      "<re.Match object; span=(145, 146), match='\\n'>\n",
      "<re.Match object; span=(146, 147), match='3'>\n",
      "<re.Match object; span=(147, 148), match='2'>\n",
      "<re.Match object; span=(148, 149), match='1'>\n",
      "<re.Match object; span=(149, 150), match='-'>\n",
      "<re.Match object; span=(150, 151), match='5'>\n",
      "<re.Match object; span=(151, 152), match='5'>\n",
      "<re.Match object; span=(152, 153), match='5'>\n",
      "<re.Match object; span=(153, 154), match='-'>\n",
      "<re.Match object; span=(154, 155), match='4'>\n",
      "<re.Match object; span=(155, 156), match='3'>\n",
      "<re.Match object; span=(156, 157), match='2'>\n",
      "<re.Match object; span=(157, 158), match='1'>\n",
      "<re.Match object; span=(158, 159), match='\\n'>\n",
      "<re.Match object; span=(159, 160), match='1'>\n",
      "<re.Match object; span=(160, 161), match='2'>\n",
      "<re.Match object; span=(161, 162), match='3'>\n",
      "<re.Match object; span=(162, 163), match='.'>\n",
      "<re.Match object; span=(163, 164), match='5'>\n",
      "<re.Match object; span=(164, 165), match='5'>\n",
      "<re.Match object; span=(165, 166), match='5'>\n",
      "<re.Match object; span=(166, 167), match='.'>\n",
      "<re.Match object; span=(167, 168), match='1'>\n",
      "<re.Match object; span=(168, 169), match='2'>\n",
      "<re.Match object; span=(169, 170), match='3'>\n",
      "<re.Match object; span=(170, 171), match='4'>\n",
      "<re.Match object; span=(171, 172), match='\\n'>\n",
      "<re.Match object; span=(172, 173), match='1'>\n",
      "<re.Match object; span=(173, 174), match='2'>\n",
      "<re.Match object; span=(174, 175), match='3'>\n",
      "<re.Match object; span=(175, 176), match='*'>\n",
      "<re.Match object; span=(176, 177), match='5'>\n",
      "<re.Match object; span=(177, 178), match='5'>\n",
      "<re.Match object; span=(178, 179), match='5'>\n",
      "<re.Match object; span=(179, 180), match='*'>\n",
      "<re.Match object; span=(180, 181), match='1'>\n",
      "<re.Match object; span=(181, 182), match='2'>\n",
      "<re.Match object; span=(182, 183), match='3'>\n",
      "<re.Match object; span=(183, 184), match='4'>\n",
      "<re.Match object; span=(184, 185), match='\\n'>\n",
      "<re.Match object; span=(185, 186), match='8'>\n",
      "<re.Match object; span=(186, 187), match='0'>\n",
      "<re.Match object; span=(187, 188), match='0'>\n",
      "<re.Match object; span=(188, 189), match='-'>\n",
      "<re.Match object; span=(189, 190), match='5'>\n",
      "<re.Match object; span=(190, 191), match='5'>\n",
      "<re.Match object; span=(191, 192), match='5'>\n",
      "<re.Match object; span=(192, 193), match='-'>\n",
      "<re.Match object; span=(193, 194), match='1'>\n",
      "<re.Match object; span=(194, 195), match='2'>\n",
      "<re.Match object; span=(195, 196), match='3'>\n",
      "<re.Match object; span=(196, 197), match='4'>\n",
      "<re.Match object; span=(197, 198), match='\\n'>\n",
      "<re.Match object; span=(198, 199), match='9'>\n",
      "<re.Match object; span=(199, 200), match='0'>\n",
      "<re.Match object; span=(200, 201), match='0'>\n",
      "<re.Match object; span=(201, 202), match='-'>\n",
      "<re.Match object; span=(202, 203), match='5'>\n",
      "<re.Match object; span=(203, 204), match='5'>\n",
      "<re.Match object; span=(204, 205), match='5'>\n",
      "<re.Match object; span=(205, 206), match='-'>\n",
      "<re.Match object; span=(206, 207), match='1'>\n",
      "<re.Match object; span=(207, 208), match='2'>\n",
      "<re.Match object; span=(208, 209), match='3'>\n",
      "<re.Match object; span=(209, 210), match='4'>\n",
      "<re.Match object; span=(210, 211), match='\\n'>\n",
      "<re.Match object; span=(211, 212), match='\\n'>\n",
      "<re.Match object; span=(214, 215), match='.'>\n",
      "<re.Match object; span=(215, 216), match=' '>\n",
      "<re.Match object; span=(219, 220), match='\\n'>\n",
      "<re.Match object; span=(222, 223), match=' '>\n",
      "<re.Match object; span=(228, 229), match='\\n'>\n",
      "<re.Match object; span=(231, 232), match='.'>\n",
      "<re.Match object; span=(232, 233), match=' '>\n",
      "<re.Match object; span=(238, 239), match='\\n'>\n",
      "<re.Match object; span=(241, 242), match='.'>\n",
      "<re.Match object; span=(242, 243), match=' '>\n",
      "<re.Match object; span=(246, 247), match='\\n'>\n"
     ]
    }
   ],
   "source": [
    "pattern=re.compile(r'[^a-zA-Z]')\n",
    "matches=pattern.finditer(text_to_search)\n",
    "\n",
    "for match in matches:\n",
    "    print(match) "
   ]
  },
  {
   "cell_type": "code",
   "execution_count": 32,
   "metadata": {},
   "outputs": [
    {
     "name": "stdout",
     "output_type": "stream",
     "text": [
      "<re.Match object; span=(0, 3), match='mat'>\n",
      "<re.Match object; span=(4, 7), match='pat'>\n"
     ]
    }
   ],
   "source": [
    "text='''mat\n",
    "pat\n",
    "bat\n",
    "'''\n",
    "pattern=re.compile(r'[^b]at')\n",
    "matches=pattern.finditer(text)\n",
    "\n",
    "for match in matches:\n",
    "    print(match) "
   ]
  },
  {
   "cell_type": "code",
   "execution_count": 33,
   "metadata": {},
   "outputs": [
    {
     "name": "stdout",
     "output_type": "stream",
     "text": [
      "<re.Match object; span=(0, 3), match='Mr.'>\n",
      "<re.Match object; span=(17, 20), match='Mr.'>\n",
      "<re.Match object; span=(37, 40), match='Mr.'>\n"
     ]
    }
   ],
   "source": [
    "text1='''Mr. Joy\n",
    "Mr Tommy\n",
    "Mr. Kumar\n",
    "Mrs. Star\n",
    "Mr. T\n",
    "'''\n",
    "pattern=re.compile(r'Mr\\.')\n",
    "matches=pattern.finditer(text1)\n",
    "\n",
    "for match in matches:\n",
    "    print(match) "
   ]
  },
  {
   "cell_type": "code",
   "execution_count": 34,
   "metadata": {},
   "outputs": [
    {
     "name": "stdout",
     "output_type": "stream",
     "text": [
      "<re.Match object; span=(14, 15), match='='>\n",
      "<re.Match object; span=(15, 16), match=\"'\">\n",
      "<re.Match object; span=(16, 17), match=\"'\">\n",
      "<re.Match object; span=(17, 18), match=\"'\">\n",
      "<re.Match object; span=(18, 19), match='\\n'>\n",
      "<re.Match object; span=(45, 46), match='\\n'>\n",
      "<re.Match object; span=(72, 73), match='\\n'>\n",
      "<re.Match object; span=(83, 84), match='\\n'>\n",
      "<re.Match object; span=(84, 85), match='\\n'>\n",
      "<re.Match object; span=(87, 88), match=' '>\n",
      "<re.Match object; span=(92, 93), match=' '>\n",
      "<re.Match object; span=(93, 94), match='#'>\n",
      "<re.Match object; span=(98, 99), match=' '>\n",
      "<re.Match object; span=(107, 108), match='\\n'>\n",
      "<re.Match object; span=(108, 109), match='\\n'>\n",
      "<re.Match object; span=(122, 123), match='\\n'>\n",
      "<re.Match object; span=(123, 124), match='.'>\n",
      "<re.Match object; span=(124, 125), match=' '>\n",
      "<re.Match object; span=(125, 126), match='^'>\n",
      "<re.Match object; span=(126, 127), match=' '>\n",
      "<re.Match object; span=(127, 128), match='$'>\n",
      "<re.Match object; span=(128, 129), match=' '>\n",
      "<re.Match object; span=(129, 130), match='*'>\n",
      "<re.Match object; span=(130, 131), match=' '>\n",
      "<re.Match object; span=(131, 132), match='+'>\n",
      "<re.Match object; span=(132, 133), match=' '>\n",
      "<re.Match object; span=(133, 134), match='?'>\n",
      "<re.Match object; span=(134, 135), match=' '>\n",
      "<re.Match object; span=(135, 136), match='{'>\n",
      "<re.Match object; span=(136, 137), match=' '>\n",
      "<re.Match object; span=(137, 138), match='}'>\n",
      "<re.Match object; span=(138, 139), match=' '>\n",
      "<re.Match object; span=(139, 140), match='['>\n",
      "<re.Match object; span=(140, 141), match=' '>\n",
      "<re.Match object; span=(141, 142), match=']'>\n",
      "<re.Match object; span=(142, 143), match=' '>\n",
      "<re.Match object; span=(143, 144), match='\\\\'>\n",
      "<re.Match object; span=(144, 145), match=' '>\n",
      "<re.Match object; span=(145, 146), match='|'>\n",
      "<re.Match object; span=(146, 147), match=' '>\n",
      "<re.Match object; span=(147, 148), match='('>\n",
      "<re.Match object; span=(148, 149), match=' '>\n",
      "<re.Match object; span=(149, 150), match=')'>\n",
      "<re.Match object; span=(150, 151), match='\\n'>\n",
      "<re.Match object; span=(151, 152), match='\\n'>\n",
      "<re.Match object; span=(158, 159), match='.'>\n",
      "<re.Match object; span=(162, 163), match='\\n'>\n",
      "<re.Match object; span=(163, 164), match='\\n'>\n",
      "<re.Match object; span=(167, 168), match='-'>\n",
      "<re.Match object; span=(171, 172), match='-'>\n",
      "<re.Match object; span=(176, 177), match='\\n'>\n",
      "<re.Match object; span=(180, 181), match='.'>\n",
      "<re.Match object; span=(184, 185), match='.'>\n",
      "<re.Match object; span=(189, 190), match='\\n'>\n",
      "<re.Match object; span=(193, 194), match='*'>\n",
      "<re.Match object; span=(197, 198), match='*'>\n",
      "<re.Match object; span=(202, 203), match='\\n'>\n",
      "<re.Match object; span=(206, 207), match='-'>\n",
      "<re.Match object; span=(210, 211), match='-'>\n",
      "<re.Match object; span=(215, 216), match='\\n'>\n",
      "<re.Match object; span=(219, 220), match='-'>\n",
      "<re.Match object; span=(223, 224), match='-'>\n",
      "<re.Match object; span=(228, 229), match='\\n'>\n",
      "<re.Match object; span=(229, 230), match='\\n'>\n",
      "<re.Match object; span=(232, 233), match='.'>\n",
      "<re.Match object; span=(233, 234), match=' '>\n",
      "<re.Match object; span=(237, 238), match='\\n'>\n",
      "<re.Match object; span=(240, 241), match=' '>\n",
      "<re.Match object; span=(246, 247), match='\\n'>\n",
      "<re.Match object; span=(249, 250), match='.'>\n",
      "<re.Match object; span=(250, 251), match=' '>\n",
      "<re.Match object; span=(256, 257), match='\\n'>\n",
      "<re.Match object; span=(259, 260), match='.'>\n",
      "<re.Match object; span=(260, 261), match=' '>\n",
      "<re.Match object; span=(264, 265), match='\\n'>\n",
      "<re.Match object; span=(265, 266), match=\"'\">\n",
      "<re.Match object; span=(266, 267), match=\"'\">\n",
      "<re.Match object; span=(267, 268), match=\"'\">\n"
     ]
    }
   ],
   "source": [
    "import os\n",
    "os.getcwd()\n",
    "os.chdir(\"E:\\Office\\Python\\Rk\\PYTHON_master\\samplefiles\")\n",
    "\n",
    "pattern=re.compile(r'\\W')\n",
    "matches=pattern.finditer(text_to_search)\n",
    "\n",
    "#with open('data.txt','r',encoding='utf-8') as f:\n",
    "with open('data.txt','r') as f:\n",
    "    contents = f.read()\n",
    "    matches=pattern.finditer(contents)\n",
    "    for match in matches:\n",
    "        print(match) "
   ]
  },
  {
   "cell_type": "code",
   "execution_count": null,
   "metadata": {},
   "outputs": [],
   "source": []
  }
 ],
 "metadata": {
  "kernelspec": {
   "display_name": "Python 3",
   "language": "python",
   "name": "python3"
  },
  "language_info": {
   "codemirror_mode": {
    "name": "ipython",
    "version": 3
   },
   "file_extension": ".py",
   "mimetype": "text/x-python",
   "name": "python",
   "nbconvert_exporter": "python",
   "pygments_lexer": "ipython3",
   "version": "3.8.8"
  }
 },
 "nbformat": 4,
 "nbformat_minor": 2
}
